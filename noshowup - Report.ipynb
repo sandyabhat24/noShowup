{
 "cells": [
  {
   "cell_type": "markdown",
   "metadata": {},
   "source": [
    "  ## Project: Medical appointments No Show\n",
    "\n",
    "## Background\n",
    "\n",
    "Managing missed patient appointments represent a challenge for those working in\n",
    "health care systems.Non-attendance at appointments decreases healthcare revenue, causes suboptimal use of clinical and administrative staff, can impact wait times for patients, and negatively affects continuity of care.\n",
    "The first step to solving the problem of missed appointments is identifying why a patient skips a scheduled visit in the first place. What trends are there among patients with higher absence rates? Are there demographic indicators or perhaps time-variant relationships hiding in the data? Ultimately, it was these questions that drove my exploratory data analysis. I was curious as to the reasons behind missed appointments, and wanted to examine the data to identify any trends present. I choose this problem because I believe it is an excellent example of how data science and analysis can reveal relationships which can be implemented in the real-world to the benefit of society."
   ]
  },
  {
   "cell_type": "markdown",
   "metadata": {},
   "source": [
    "## Client"
   ]
  },
  {
   "cell_type": "markdown",
   "metadata": {},
   "source": [
    "The dataset is from Kaggle,drawn from 300,000 primary physician visits in Brazil across 2014 and 2015. So the client is Brazil healthcare but can be used for any healthcare systems.\n"
   ]
  },
  {
   "cell_type": "markdown",
   "metadata": {},
   "source": [
    "## Introduction to Dataset\n",
    "\n",
    "I wanted to choose a dataset that was both relatable and could be used to make \n",
    "smarter decisions. Therefore, I decided to work with medical appointment no shows \n",
    "data available on Kaggle.\n",
    "There were a total of 14 variables I included from the original data. The variables and the description of the values are as follows:\n",
    "1. PatientId: unique ID associated with a patient\n",
    "2. AppointmentID: unique ID for each appointment.\n",
    "3. Gender:  M or F\n",
    "4. ScheduledDay :  date and time appointment was Scheduled.    \n",
    "5. AppointmentDay : date of appointment without time.\n",
    "6. Age : Integer age of patient.         \n",
    "7. Neighbourhood :  Neighbourhood of the hospital.  \n",
    "8. Scholarship : 0 or 1 indicating whether the family of the patient takes part in the Bolsa Familia Program     \n",
    "9. HyperTension  :0 or 1 for condition\n",
    "10. Diabetes  :  0 or 1 for condition (1 means patient was scheduled to treat condition)       \n",
    "11. Alcoholism :  0 or 1 for condition    \n",
    "12. HandiCap  : 0 or 1 for condition       \n",
    "13. SMS_received  :  0 or 1 (1 for sending remainder)\n",
    "14. No-show :  'Yes'/'No'\n"
   ]
  },
  {
   "cell_type": "markdown",
   "metadata": {},
   "source": [
    "## Data exploration\n",
    "\n",
    "### Cleaning:\n"
   ]
  },
  {
   "cell_type": "markdown",
   "metadata": {},
   "source": [
    "Data set is already clean without any missing values. I can see there is some data housekeeping that needs to be done. First, I am renaming few of the columns to appropriate names for better understanding. then, I want to change the No-show variable into an integer 0 or 1. A value of 0 will indicate that the patient did not show up. Moreover, I need to convert the registration date and the appointment date to date objects\n",
    "\n",
    "\n",
    "### Statistical Overview:\n"
   ]
  },
  {
   "cell_type": "markdown",
   "metadata": {},
   "source": [
    "import necessary libraries"
   ]
  },
  {
   "cell_type": "code",
   "execution_count": 3,
   "metadata": {},
   "outputs": [
    {
     "data": {
      "text/html": [
       "<style>.container { width:95% !important; }</style>"
      ],
      "text/plain": [
       "<IPython.core.display.HTML object>"
      ]
     },
     "metadata": {},
     "output_type": "display_data"
    }
   ],
   "source": [
    "# make jupyter cells wider\n",
    "\n",
    "from IPython.core.display import display, HTML\n",
    "display(HTML(\"<style>.container { width:95% !important; }</style>\"))\n",
    "\n",
    "import datetime as datetime\n",
    "from sklearn import preprocessing\n",
    "%matplotlib inline\n",
    "import pandas as pd\n",
    "import matplotlib.pyplot as plt\n",
    "import seaborn as sns\n",
    "import numpy as np\n",
    "from itertools import combinations\n",
    "from scipy.stats import chi2_contingency\n",
    "from copy import deepcopy\n",
    "\n",
    "from sklearn.model_selection import train_test_split, KFold, cross_val_score, GridSearchCV\n",
    "from sklearn.neighbors import KNeighborsClassifier\n",
    "from sklearn.linear_model import LogisticRegression\n",
    "from sklearn.ensemble import RandomForestClassifier, GradientBoostingClassifier, AdaBoostClassifier\n",
    "from sklearn.metrics import accuracy_score, f1_score, roc_auc_score, classification_report, cohen_kappa_score, precision_score, recall_score\n",
    "from sklearn.decomposition import PCA, NMF, FastICA\n",
    "from sklearn.dummy import DummyClassifier\n",
    "from sklearn.neural_network import MLPClassifier\n",
    "from sklearn.svm import SVC\n",
    "from sklearn.naive_bayes import GaussianNB\n",
    "from sklearn.feature_selection import SelectKBest, chi2, mutual_info_classif\n",
    "from sklearn.preprocessing import MinMaxScaler\n",
    "#from imblearn.over_sampling import SMOTE\n",
    "#from imblearn.under_sampling import RandomUnderSampler\n",
    "#from xgboost import XGBClassifier\n",
    "#from lightgbm import LGBMClassifier\n",
    "\n",
    "import matplotlib\n",
    "#matplotlib.style.use('ggplot')\n",
    "sns.set(font_scale=1.5)"
   ]
  },
  {
   "cell_type": "code",
   "execution_count": 4,
   "metadata": {
    "scrolled": true
   },
   "outputs": [],
   "source": [
    "no_showup=pd.read_csv('C:/Users/Lenovo/Downloads/noshowappointments/KaggleV2-May-2016.csv')"
   ]
  },
  {
   "cell_type": "markdown",
   "metadata": {},
   "source": [
    "## Data wrangling:\n",
    "\n",
    "Let’s take a look at the structure of the dataframe to identify cleaning that may need to be performed. I am renaming few of the columns to appropriate names. data is already clean without any missing values. Data set is already clean without any missing values. I can see there is some data housekeeping that needs to be done. First, I am renaming few of the columns to appropriate names for better understanding. then, I want to change the No-show variable into an integer 0 or 1. A value of 0 will indicate that the patient did not show up. Moreover, I need to convert the registration date and the appointment date to date objects\n",
    "\n",
    "\n"
   ]
  },
  {
   "cell_type": "code",
   "execution_count": 5,
   "metadata": {
    "scrolled": false
   },
   "outputs": [
    {
     "data": {
      "text/plain": [
       "Index(['PatientId', 'AppointmentID', 'Gender', 'ScheduledDay',\n",
       "       'AppointmentDay', 'Age', 'Neighbourhood', 'Scholarship', 'HyperTension',\n",
       "       'Diabetes', 'Alcoholism', 'HandiCap', 'SMS_received', 'No-show'],\n",
       "      dtype='object')"
      ]
     },
     "execution_count": 5,
     "metadata": {},
     "output_type": "execute_result"
    }
   ],
   "source": [
    "no_showup.rename(columns = {'Hipertension':'HyperTension' , 'Handcap':'HandiCap'},inplace=True)\n",
    "no_showup.columns"
   ]
  },
  {
   "cell_type": "code",
   "execution_count": 6,
   "metadata": {
    "scrolled": true
   },
   "outputs": [
    {
     "data": {
      "text/html": [
       "<div>\n",
       "<style scoped>\n",
       "    .dataframe tbody tr th:only-of-type {\n",
       "        vertical-align: middle;\n",
       "    }\n",
       "\n",
       "    .dataframe tbody tr th {\n",
       "        vertical-align: top;\n",
       "    }\n",
       "\n",
       "    .dataframe thead th {\n",
       "        text-align: right;\n",
       "    }\n",
       "</style>\n",
       "<table border=\"1\" class=\"dataframe\">\n",
       "  <thead>\n",
       "    <tr style=\"text-align: right;\">\n",
       "      <th></th>\n",
       "      <th>PatientId</th>\n",
       "      <th>AppointmentID</th>\n",
       "      <th>Gender</th>\n",
       "      <th>ScheduledDay</th>\n",
       "      <th>AppointmentDay</th>\n",
       "      <th>Age</th>\n",
       "      <th>Neighbourhood</th>\n",
       "      <th>Scholarship</th>\n",
       "      <th>HyperTension</th>\n",
       "      <th>Diabetes</th>\n",
       "      <th>Alcoholism</th>\n",
       "      <th>HandiCap</th>\n",
       "      <th>SMS_received</th>\n",
       "      <th>No-show</th>\n",
       "    </tr>\n",
       "  </thead>\n",
       "  <tbody>\n",
       "    <tr>\n",
       "      <th>0</th>\n",
       "      <td>2.987250e+13</td>\n",
       "      <td>5642903</td>\n",
       "      <td>F</td>\n",
       "      <td>2016-04-29T18:38:08Z</td>\n",
       "      <td>2016-04-29T00:00:00Z</td>\n",
       "      <td>62</td>\n",
       "      <td>JARDIM DA PENHA</td>\n",
       "      <td>0</td>\n",
       "      <td>1</td>\n",
       "      <td>0</td>\n",
       "      <td>0</td>\n",
       "      <td>0</td>\n",
       "      <td>0</td>\n",
       "      <td>No</td>\n",
       "    </tr>\n",
       "    <tr>\n",
       "      <th>1</th>\n",
       "      <td>5.589978e+14</td>\n",
       "      <td>5642503</td>\n",
       "      <td>M</td>\n",
       "      <td>2016-04-29T16:08:27Z</td>\n",
       "      <td>2016-04-29T00:00:00Z</td>\n",
       "      <td>56</td>\n",
       "      <td>JARDIM DA PENHA</td>\n",
       "      <td>0</td>\n",
       "      <td>0</td>\n",
       "      <td>0</td>\n",
       "      <td>0</td>\n",
       "      <td>0</td>\n",
       "      <td>0</td>\n",
       "      <td>No</td>\n",
       "    </tr>\n",
       "    <tr>\n",
       "      <th>2</th>\n",
       "      <td>4.262962e+12</td>\n",
       "      <td>5642549</td>\n",
       "      <td>F</td>\n",
       "      <td>2016-04-29T16:19:04Z</td>\n",
       "      <td>2016-04-29T00:00:00Z</td>\n",
       "      <td>62</td>\n",
       "      <td>MATA DA PRAIA</td>\n",
       "      <td>0</td>\n",
       "      <td>0</td>\n",
       "      <td>0</td>\n",
       "      <td>0</td>\n",
       "      <td>0</td>\n",
       "      <td>0</td>\n",
       "      <td>No</td>\n",
       "    </tr>\n",
       "    <tr>\n",
       "      <th>3</th>\n",
       "      <td>8.679512e+11</td>\n",
       "      <td>5642828</td>\n",
       "      <td>F</td>\n",
       "      <td>2016-04-29T17:29:31Z</td>\n",
       "      <td>2016-04-29T00:00:00Z</td>\n",
       "      <td>8</td>\n",
       "      <td>PONTAL DE CAMBURI</td>\n",
       "      <td>0</td>\n",
       "      <td>0</td>\n",
       "      <td>0</td>\n",
       "      <td>0</td>\n",
       "      <td>0</td>\n",
       "      <td>0</td>\n",
       "      <td>No</td>\n",
       "    </tr>\n",
       "    <tr>\n",
       "      <th>4</th>\n",
       "      <td>8.841186e+12</td>\n",
       "      <td>5642494</td>\n",
       "      <td>F</td>\n",
       "      <td>2016-04-29T16:07:23Z</td>\n",
       "      <td>2016-04-29T00:00:00Z</td>\n",
       "      <td>56</td>\n",
       "      <td>JARDIM DA PENHA</td>\n",
       "      <td>0</td>\n",
       "      <td>1</td>\n",
       "      <td>1</td>\n",
       "      <td>0</td>\n",
       "      <td>0</td>\n",
       "      <td>0</td>\n",
       "      <td>No</td>\n",
       "    </tr>\n",
       "  </tbody>\n",
       "</table>\n",
       "</div>"
      ],
      "text/plain": [
       "      PatientId  AppointmentID Gender          ScheduledDay  \\\n",
       "0  2.987250e+13        5642903      F  2016-04-29T18:38:08Z   \n",
       "1  5.589978e+14        5642503      M  2016-04-29T16:08:27Z   \n",
       "2  4.262962e+12        5642549      F  2016-04-29T16:19:04Z   \n",
       "3  8.679512e+11        5642828      F  2016-04-29T17:29:31Z   \n",
       "4  8.841186e+12        5642494      F  2016-04-29T16:07:23Z   \n",
       "\n",
       "         AppointmentDay  Age      Neighbourhood  Scholarship  HyperTension  \\\n",
       "0  2016-04-29T00:00:00Z   62    JARDIM DA PENHA            0             1   \n",
       "1  2016-04-29T00:00:00Z   56    JARDIM DA PENHA            0             0   \n",
       "2  2016-04-29T00:00:00Z   62      MATA DA PRAIA            0             0   \n",
       "3  2016-04-29T00:00:00Z    8  PONTAL DE CAMBURI            0             0   \n",
       "4  2016-04-29T00:00:00Z   56    JARDIM DA PENHA            0             1   \n",
       "\n",
       "   Diabetes  Alcoholism  HandiCap  SMS_received No-show  \n",
       "0         0           0         0             0      No  \n",
       "1         0           0         0             0      No  \n",
       "2         0           0         0             0      No  \n",
       "3         0           0         0             0      No  \n",
       "4         1           0         0             0      No  "
      ]
     },
     "execution_count": 6,
     "metadata": {},
     "output_type": "execute_result"
    }
   ],
   "source": [
    "#droping the column if all the values are null\n",
    "no_show=no_showup.dropna(axis='columns',how='all')\n",
    "no_show.head()"
   ]
  },
  {
   "cell_type": "code",
   "execution_count": 7,
   "metadata": {
    "scrolled": true
   },
   "outputs": [],
   "source": [
    "#Converting the date columns to  datetime64 format\n",
    "no_show['ScheduledDay'] = no_show.ScheduledDay.apply(np.datetime64)\n",
    "no_show['AppointmentDay'] = no_show.AppointmentDay.apply(np.datetime64)\n",
    "no_show['WaitTime']=no_show.AppointmentDay-no_show.ScheduledDay"
   ]
  },
  {
   "cell_type": "code",
   "execution_count": 8,
   "metadata": {},
   "outputs": [
    {
     "data": {
      "text/plain": [
       "False"
      ]
     },
     "execution_count": 8,
     "metadata": {},
     "output_type": "execute_result"
    }
   ],
   "source": [
    "# checking if there are any missing values\n",
    "\n",
    "no_show.fillna('')\n",
    "no_show.isnull().values.any()\n"
   ]
  },
  {
   "cell_type": "code",
   "execution_count": 9,
   "metadata": {
    "scrolled": true
   },
   "outputs": [
    {
     "name": "stdout",
     "output_type": "stream",
     "text": [
      "F    71840\n",
      "M    38687\n",
      "Name: Gender, dtype: int64\n",
      "---------\n",
      "\n",
      "\n",
      "0    99666\n",
      "1    10861\n",
      "Name: Scholarship, dtype: int64\n",
      "---------\n",
      "\n",
      "\n",
      "0    88726\n",
      "1    21801\n",
      "Name: HyperTension, dtype: int64\n",
      "---------\n",
      "\n",
      "\n",
      "0    102584\n",
      "1      7943\n",
      "Name: Diabetes, dtype: int64\n",
      "---------\n",
      "\n",
      "\n",
      "0    107167\n",
      "1      3360\n",
      "Name: Alcoholism, dtype: int64\n",
      "---------\n",
      "\n",
      "\n",
      "0    108286\n",
      "1      2042\n",
      "2       183\n",
      "3        13\n",
      "4         3\n",
      "Name: HandiCap, dtype: int64\n",
      "---------\n",
      "\n",
      "\n",
      "0    75045\n",
      "1    35482\n",
      "Name: SMS_received, dtype: int64\n",
      "---------\n",
      "\n",
      "\n",
      "No     88208\n",
      "Yes    22319\n",
      "Name: No-show, dtype: int64\n",
      "---------\n",
      "\n",
      "\n"
     ]
    }
   ],
   "source": [
    "for i in no_show.columns:\n",
    "    unique_count=no_show[i].nunique()\n",
    "    if unique_count < 20:\n",
    "       print(no_show[i].value_counts())\n",
    "       print('---------')\n",
    "       print('\\n')"
   ]
  },
  {
   "cell_type": "code",
   "execution_count": 10,
   "metadata": {},
   "outputs": [],
   "source": [
    "#converting gender and no-show columns to numeric values\n",
    "le = preprocessing.LabelEncoder()\n",
    "le.fit(['F', 'M'])\n",
    "no_show['num_gender']=le.transform(no_show['Gender'])\n",
    "le.fit(['No', 'Yes'])\n",
    "no_show['numNoshow']=le.transform(no_show['No-show'])"
   ]
  },
  {
   "cell_type": "code",
   "execution_count": 11,
   "metadata": {
    "scrolled": true
   },
   "outputs": [],
   "source": [
    "# there is 1 invalid record which is negative. I am selecting only the valid age.\n",
    "no_show=no_show[no_show.Age>=0]"
   ]
  },
  {
   "cell_type": "code",
   "execution_count": 12,
   "metadata": {},
   "outputs": [],
   "source": [
    "no_show['Waitdays'] = no_show['WaitTime'].dt.days\n",
    "#Some records has scheduledday greater than appointmentday. so I am deleting those records\n",
    "no_show=no_show[no_show['Waitdays']>-1]\n"
   ]
  },
  {
   "cell_type": "code",
   "execution_count": 13,
   "metadata": {
    "scrolled": true
   },
   "outputs": [
    {
     "data": {
      "text/html": [
       "<div>\n",
       "<style scoped>\n",
       "    .dataframe tbody tr th:only-of-type {\n",
       "        vertical-align: middle;\n",
       "    }\n",
       "\n",
       "    .dataframe tbody tr th {\n",
       "        vertical-align: top;\n",
       "    }\n",
       "\n",
       "    .dataframe thead th {\n",
       "        text-align: right;\n",
       "    }\n",
       "</style>\n",
       "<table border=\"1\" class=\"dataframe\">\n",
       "  <thead>\n",
       "    <tr style=\"text-align: right;\">\n",
       "      <th></th>\n",
       "      <th>PatientId</th>\n",
       "      <th>AppointmentID</th>\n",
       "      <th>Age</th>\n",
       "      <th>Scholarship</th>\n",
       "      <th>HyperTension</th>\n",
       "      <th>Diabetes</th>\n",
       "      <th>Alcoholism</th>\n",
       "      <th>HandiCap</th>\n",
       "      <th>SMS_received</th>\n",
       "      <th>WaitTime</th>\n",
       "      <th>num_gender</th>\n",
       "      <th>numNoshow</th>\n",
       "      <th>Waitdays</th>\n",
       "    </tr>\n",
       "  </thead>\n",
       "  <tbody>\n",
       "    <tr>\n",
       "      <th>count</th>\n",
       "      <td>7.195900e+04</td>\n",
       "      <td>7.195900e+04</td>\n",
       "      <td>71959.000000</td>\n",
       "      <td>71959.000000</td>\n",
       "      <td>71959.000000</td>\n",
       "      <td>71959.000000</td>\n",
       "      <td>71959.000000</td>\n",
       "      <td>71959.000000</td>\n",
       "      <td>71959.000000</td>\n",
       "      <td>71959</td>\n",
       "      <td>71959.000000</td>\n",
       "      <td>71959.000000</td>\n",
       "      <td>71959.000000</td>\n",
       "    </tr>\n",
       "    <tr>\n",
       "      <th>mean</th>\n",
       "      <td>1.452606e+14</td>\n",
       "      <td>5.655042e+06</td>\n",
       "      <td>38.502564</td>\n",
       "      <td>0.092706</td>\n",
       "      <td>0.208897</td>\n",
       "      <td>0.074723</td>\n",
       "      <td>0.025320</td>\n",
       "      <td>0.020025</td>\n",
       "      <td>0.493086</td>\n",
       "      <td>15 days 03:50:06.596145</td>\n",
       "      <td>0.331981</td>\n",
       "      <td>0.285190</td>\n",
       "      <td>14.642018</td>\n",
       "    </tr>\n",
       "    <tr>\n",
       "      <th>std</th>\n",
       "      <td>2.535667e+14</td>\n",
       "      <td>7.472189e+04</td>\n",
       "      <td>22.925421</td>\n",
       "      <td>0.290021</td>\n",
       "      <td>0.406523</td>\n",
       "      <td>0.262946</td>\n",
       "      <td>0.157096</td>\n",
       "      <td>0.154072</td>\n",
       "      <td>0.499956</td>\n",
       "      <td>16 days 11:46:35.560378</td>\n",
       "      <td>0.470927</td>\n",
       "      <td>0.451508</td>\n",
       "      <td>16.494334</td>\n",
       "    </tr>\n",
       "    <tr>\n",
       "      <th>min</th>\n",
       "      <td>3.921784e+04</td>\n",
       "      <td>5.030230e+06</td>\n",
       "      <td>0.000000</td>\n",
       "      <td>0.000000</td>\n",
       "      <td>0.000000</td>\n",
       "      <td>0.000000</td>\n",
       "      <td>0.000000</td>\n",
       "      <td>0.000000</td>\n",
       "      <td>0.000000</td>\n",
       "      <td>0 days 03:16:20</td>\n",
       "      <td>0.000000</td>\n",
       "      <td>0.000000</td>\n",
       "      <td>0.000000</td>\n",
       "    </tr>\n",
       "    <tr>\n",
       "      <th>25%</th>\n",
       "      <td>3.968099e+12</td>\n",
       "      <td>5.617796e+06</td>\n",
       "      <td>19.000000</td>\n",
       "      <td>0.000000</td>\n",
       "      <td>0.000000</td>\n",
       "      <td>0.000000</td>\n",
       "      <td>0.000000</td>\n",
       "      <td>0.000000</td>\n",
       "      <td>0.000000</td>\n",
       "      <td>3 days 15:14:50</td>\n",
       "      <td>0.000000</td>\n",
       "      <td>0.000000</td>\n",
       "      <td>3.000000</td>\n",
       "    </tr>\n",
       "    <tr>\n",
       "      <th>50%</th>\n",
       "      <td>2.991891e+13</td>\n",
       "      <td>5.661165e+06</td>\n",
       "      <td>39.000000</td>\n",
       "      <td>0.000000</td>\n",
       "      <td>0.000000</td>\n",
       "      <td>0.000000</td>\n",
       "      <td>0.000000</td>\n",
       "      <td>0.000000</td>\n",
       "      <td>0.000000</td>\n",
       "      <td>8 days 16:25:29</td>\n",
       "      <td>0.000000</td>\n",
       "      <td>0.000000</td>\n",
       "      <td>8.000000</td>\n",
       "    </tr>\n",
       "    <tr>\n",
       "      <th>75%</th>\n",
       "      <td>9.371660e+13</td>\n",
       "      <td>5.707178e+06</td>\n",
       "      <td>57.000000</td>\n",
       "      <td>0.000000</td>\n",
       "      <td>0.000000</td>\n",
       "      <td>0.000000</td>\n",
       "      <td>0.000000</td>\n",
       "      <td>0.000000</td>\n",
       "      <td>1.000000</td>\n",
       "      <td>21 days 15:01:04.500000</td>\n",
       "      <td>1.000000</td>\n",
       "      <td>1.000000</td>\n",
       "      <td>21.000000</td>\n",
       "    </tr>\n",
       "    <tr>\n",
       "      <th>max</th>\n",
       "      <td>9.999320e+14</td>\n",
       "      <td>5.784985e+06</td>\n",
       "      <td>115.000000</td>\n",
       "      <td>1.000000</td>\n",
       "      <td>1.000000</td>\n",
       "      <td>1.000000</td>\n",
       "      <td>1.000000</td>\n",
       "      <td>4.000000</td>\n",
       "      <td>1.000000</td>\n",
       "      <td>178 days 13:19:01</td>\n",
       "      <td>1.000000</td>\n",
       "      <td>1.000000</td>\n",
       "      <td>178.000000</td>\n",
       "    </tr>\n",
       "  </tbody>\n",
       "</table>\n",
       "</div>"
      ],
      "text/plain": [
       "          PatientId  AppointmentID           Age   Scholarship  HyperTension  \\\n",
       "count  7.195900e+04   7.195900e+04  71959.000000  71959.000000  71959.000000   \n",
       "mean   1.452606e+14   5.655042e+06     38.502564      0.092706      0.208897   \n",
       "std    2.535667e+14   7.472189e+04     22.925421      0.290021      0.406523   \n",
       "min    3.921784e+04   5.030230e+06      0.000000      0.000000      0.000000   \n",
       "25%    3.968099e+12   5.617796e+06     19.000000      0.000000      0.000000   \n",
       "50%    2.991891e+13   5.661165e+06     39.000000      0.000000      0.000000   \n",
       "75%    9.371660e+13   5.707178e+06     57.000000      0.000000      0.000000   \n",
       "max    9.999320e+14   5.784985e+06    115.000000      1.000000      1.000000   \n",
       "\n",
       "           Diabetes    Alcoholism      HandiCap  SMS_received  \\\n",
       "count  71959.000000  71959.000000  71959.000000  71959.000000   \n",
       "mean       0.074723      0.025320      0.020025      0.493086   \n",
       "std        0.262946      0.157096      0.154072      0.499956   \n",
       "min        0.000000      0.000000      0.000000      0.000000   \n",
       "25%        0.000000      0.000000      0.000000      0.000000   \n",
       "50%        0.000000      0.000000      0.000000      0.000000   \n",
       "75%        0.000000      0.000000      0.000000      1.000000   \n",
       "max        1.000000      1.000000      4.000000      1.000000   \n",
       "\n",
       "                      WaitTime    num_gender     numNoshow      Waitdays  \n",
       "count                    71959  71959.000000  71959.000000  71959.000000  \n",
       "mean   15 days 03:50:06.596145      0.331981      0.285190     14.642018  \n",
       "std    16 days 11:46:35.560378      0.470927      0.451508     16.494334  \n",
       "min            0 days 03:16:20      0.000000      0.000000      0.000000  \n",
       "25%            3 days 15:14:50      0.000000      0.000000      3.000000  \n",
       "50%            8 days 16:25:29      0.000000      0.000000      8.000000  \n",
       "75%    21 days 15:01:04.500000      1.000000      1.000000     21.000000  \n",
       "max          178 days 13:19:01      1.000000      1.000000    178.000000  "
      ]
     },
     "execution_count": 13,
     "metadata": {},
     "output_type": "execute_result"
    }
   ],
   "source": [
    "no_show.describe()"
   ]
  },
  {
   "cell_type": "markdown",
   "metadata": {},
   "source": [
    "The summary of the no_show dataframe gives lot of details. Minimum age is 0 and maximum age is 115. Since there are only 4 patients with age greater then 100. I am considering it as valid.\n",
    "This data summary shows that 20% of appointments are missed based on the mean for the numNoshow field. The rates for the various patient conditions can also be seen, and the most commonly coded reason for an appointment is hypertension at nearly 19.7% of visits.\n",
    "\n",
    "From the basic EDA we see that there are around 80% of the patients who have turned up. We see a clear class imbalance problem here. A naive approach of predicting that every one shows up gives us an accuracy of 0.8. "
   ]
  },
  {
   "cell_type": "code",
   "execution_count": 14,
   "metadata": {},
   "outputs": [],
   "source": [
    "def get_age_bucket(age):\n",
    "    if age <= 18:\n",
    "        return '0-18'\n",
    "    elif 18 < age <= 24:\n",
    "        return '18-24'\n",
    "    elif 25 <= age <=34:\n",
    "        return '25-34'\n",
    "    elif 35 <= age <= 44:\n",
    "        return '35-44'\n",
    "    elif 45 <= age <= 54:\n",
    "        return '45-54'\n",
    "    elif 55 <= age <= 64:\n",
    "        return '55-64'\n",
    "    elif 65 <= age:\n",
    "        return '65+'\n",
    "    else:\n",
    "        return '100+'\n",
    "    \n",
    "no_show['age_bucket'] = no_show['Age'].apply(lambda x: get_age_bucket(x))"
   ]
  },
  {
   "cell_type": "code",
   "execution_count": 15,
   "metadata": {},
   "outputs": [],
   "source": [
    "def get_waitdays_bucket(waitdays):\n",
    "    if waitdays <= 25:\n",
    "        return '0-25'\n",
    "    elif 25 < waitdays <= 50:\n",
    "        return '26-50'\n",
    "    elif 50 < waitdays <=75:\n",
    "        return '51-75'\n",
    "    elif 75 < waitdays <= 100:\n",
    "        return '76-100'\n",
    "    elif 100 < waitdays <= 125:\n",
    "        return '101-125'\n",
    "    elif 125 < waitdays <= 150:\n",
    "        return '126-150'\n",
    "    elif 150 < waitdays <= 175:\n",
    "        return '151-175'\n",
    "    else:\n",
    "        return '176+'\n",
    "    \n",
    "no_show['waitdays_bucket'] = no_show['Waitdays'].apply(lambda x: get_waitdays_bucket(x))"
   ]
  },
  {
   "cell_type": "code",
   "execution_count": 16,
   "metadata": {
    "scrolled": true
   },
   "outputs": [],
   "source": [
    "# single function to visualize feature counts and relationship with no show\n",
    "\n",
    "def visualize_feature(df, feature):\n",
    "    if no_show[feature].nunique()> 4:\n",
    "        figsize = (18, 8)\n",
    "    else:\n",
    "        figsize = (16, 4)\n",
    "        \n",
    "    if feature in ['age_bucket','Neighbourhood','Waitdays','day','month']:\n",
    "        kind = 'bar'\n",
    "    else:\n",
    "        kind = 'barh'\n",
    "        \n",
    "    sort_column = feature    \n",
    "    p = no_show.pivot_table(index=feature, values='numNoshow', aggfunc={'numNoshow': ['count', 'mean']}).reset_index()\n",
    "    p['count%'] = p['count'] / p['count'].sum()\n",
    "    p = p[[feature, 'count', 'count%', 'mean']]\n",
    "    p.rename(index=str, columns={'mean': 'probability'}, inplace=True)\n",
    "    display(p.round({'count%': 3, 'probability': 3}).sort_values(by='probability', ascending=False))\n",
    "    pivot_mean = no_show.pivot_table(index=feature, values='numNoshow', aggfunc='mean').reset_index().sort_values(by=sort_column, ascending=True)\n",
    "    pivot_mean['noshow'] = pivot_mean['numNoshow']   \n",
    "    if feature=='day':\n",
    "        dict_week = {'Monday': 1,'Tuesday': 2,'Wednesday': 3,'Thursday': 4,'Friday': 5,'Saturday': 6}\n",
    "        pivot_mean[feature]=sorted(pivot_mean[feature], key=lambda dict_week: dict_week[1])\n",
    "        ax = pivot_mean.plot(x=feature, y='noshow', kind=kind, figsize=figsize, colormap='Set2', title = 'No-show by %s' %feature, legend=False)\n",
    "        ax.set_xlabel(feature)\n",
    "        ax.set_ylabel('probability ')\n",
    "    else:\n",
    "        ax = pivot_mean.plot(x=feature, y='noshow', kind=kind, figsize=figsize, colormap='Set2', title = 'No-show by %s' %feature, legend=False)\n",
    "        ax.set_xlabel(feature)\n",
    "        ax.set_ylabel('probability ')\n",
    "    if  kind == 'barh': \n",
    "        ax.set_xlabel('probability ')\n",
    "        ax.set_ylabel(feature)\n",
    "    plt.show()"
   ]
  },
  {
   "cell_type": "code",
   "execution_count": 17,
   "metadata": {
    "scrolled": false
   },
   "outputs": [
    {
     "data": {
      "text/html": [
       "<div>\n",
       "<style scoped>\n",
       "    .dataframe tbody tr th:only-of-type {\n",
       "        vertical-align: middle;\n",
       "    }\n",
       "\n",
       "    .dataframe tbody tr th {\n",
       "        vertical-align: top;\n",
       "    }\n",
       "\n",
       "    .dataframe thead th {\n",
       "        text-align: right;\n",
       "    }\n",
       "</style>\n",
       "<table border=\"1\" class=\"dataframe\">\n",
       "  <thead>\n",
       "    <tr style=\"text-align: right;\">\n",
       "      <th></th>\n",
       "      <th>month</th>\n",
       "      <th>count</th>\n",
       "      <th>count%</th>\n",
       "      <th>probability</th>\n",
       "    </tr>\n",
       "  </thead>\n",
       "  <tbody>\n",
       "    <tr>\n",
       "      <th>1</th>\n",
       "      <td>5</td>\n",
       "      <td>52431</td>\n",
       "      <td>0.729</td>\n",
       "      <td>0.294</td>\n",
       "    </tr>\n",
       "    <tr>\n",
       "      <th>0</th>\n",
       "      <td>4</td>\n",
       "      <td>2182</td>\n",
       "      <td>0.030</td>\n",
       "      <td>0.275</td>\n",
       "    </tr>\n",
       "    <tr>\n",
       "      <th>2</th>\n",
       "      <td>6</td>\n",
       "      <td>17346</td>\n",
       "      <td>0.241</td>\n",
       "      <td>0.260</td>\n",
       "    </tr>\n",
       "  </tbody>\n",
       "</table>\n",
       "</div>"
      ],
      "text/plain": [
       "   month  count  count%  probability\n",
       "1      5  52431   0.729        0.294\n",
       "0      4   2182   0.030        0.275\n",
       "2      6  17346   0.241        0.260"
      ]
     },
     "metadata": {},
     "output_type": "display_data"
    },
    {
     "data": {
      "image/png": "[encoded data removed]",
      "text/plain": [
       "<matplotlib.figure.Figure at 0x224b0c48908>"
      ]
     },
     "metadata": {},
     "output_type": "display_data"
    }
   ],
   "source": [
    "no_show['month'] = no_show['AppointmentDay'].dt.month\n",
    "visualize_feature(no_show, 'month')"
   ]
  },
  {
   "cell_type": "markdown",
   "metadata": {},
   "source": [
    "May is the busiest  month with maximum no-shows."
   ]
  },
  {
   "cell_type": "code",
   "execution_count": 18,
   "metadata": {
    "scrolled": true
   },
   "outputs": [
    {
     "data": {
      "text/html": [
       "<div>\n",
       "<style scoped>\n",
       "    .dataframe tbody tr th:only-of-type {\n",
       "        vertical-align: middle;\n",
       "    }\n",
       "\n",
       "    .dataframe tbody tr th {\n",
       "        vertical-align: top;\n",
       "    }\n",
       "\n",
       "    .dataframe thead th {\n",
       "        text-align: right;\n",
       "    }\n",
       "</style>\n",
       "<table border=\"1\" class=\"dataframe\">\n",
       "  <thead>\n",
       "    <tr style=\"text-align: right;\">\n",
       "      <th></th>\n",
       "      <th>day</th>\n",
       "      <th>count</th>\n",
       "      <th>count%</th>\n",
       "      <th>probability</th>\n",
       "    </tr>\n",
       "  </thead>\n",
       "  <tbody>\n",
       "    <tr>\n",
       "      <th>1</th>\n",
       "      <td>Monday</td>\n",
       "      <td>14581</td>\n",
       "      <td>0.203</td>\n",
       "      <td>0.302</td>\n",
       "    </tr>\n",
       "    <tr>\n",
       "      <th>0</th>\n",
       "      <td>Friday</td>\n",
       "      <td>12516</td>\n",
       "      <td>0.174</td>\n",
       "      <td>0.294</td>\n",
       "    </tr>\n",
       "    <tr>\n",
       "      <th>2</th>\n",
       "      <td>Saturday</td>\n",
       "      <td>31</td>\n",
       "      <td>0.000</td>\n",
       "      <td>0.290</td>\n",
       "    </tr>\n",
       "    <tr>\n",
       "      <th>4</th>\n",
       "      <td>Tuesday</td>\n",
       "      <td>16462</td>\n",
       "      <td>0.229</td>\n",
       "      <td>0.287</td>\n",
       "    </tr>\n",
       "    <tr>\n",
       "      <th>3</th>\n",
       "      <td>Thursday</td>\n",
       "      <td>11325</td>\n",
       "      <td>0.157</td>\n",
       "      <td>0.273</td>\n",
       "    </tr>\n",
       "    <tr>\n",
       "      <th>5</th>\n",
       "      <td>Wednesday</td>\n",
       "      <td>17044</td>\n",
       "      <td>0.237</td>\n",
       "      <td>0.271</td>\n",
       "    </tr>\n",
       "  </tbody>\n",
       "</table>\n",
       "</div>"
      ],
      "text/plain": [
       "         day  count  count%  probability\n",
       "1     Monday  14581   0.203        0.302\n",
       "0     Friday  12516   0.174        0.294\n",
       "2   Saturday     31   0.000        0.290\n",
       "4    Tuesday  16462   0.229        0.287\n",
       "3   Thursday  11325   0.157        0.273\n",
       "5  Wednesday  17044   0.237        0.271"
      ]
     },
     "metadata": {},
     "output_type": "display_data"
    },
    {
     "data": {
      "image/png": "[encoded data removed]",
      "text/plain": [
       "<matplotlib.figure.Figure at 0x224b0cd9ac8>"
      ]
     },
     "metadata": {},
     "output_type": "display_data"
    }
   ],
   "source": [
    "no_show['day']=no_show['AppointmentDay'].dt.weekday_name\n",
    "visualize_feature(no_show, 'day')"
   ]
  },
  {
   "cell_type": "markdown",
   "metadata": {},
   "source": [
    "Tuesday and Wednessday are busy days with more patient appointments.Saturday has least appointments probably because saturday is off.However there is no significant difference on no-show rate."
   ]
  },
  {
   "cell_type": "code",
   "execution_count": 19,
   "metadata": {},
   "outputs": [
    {
     "data": {
      "image/png": "[encoded data removed]",
      "text/plain": [
       "<matplotlib.figure.Figure at 0x224b0cc6358>"
      ]
     },
     "metadata": {},
     "output_type": "display_data"
    }
   ],
   "source": [
    "plt.figure(figsize=(16,4))\n",
    "plt.xticks(rotation=90)\n",
    "ax = sns.countplot(x=no_show.Age)\n",
    "ax.set_title(\"No of Appointments by Age\")\n",
    "plt.show()"
   ]
  },
  {
   "cell_type": "markdown",
   "metadata": {},
   "source": [
    "From the above Histogram we can see that there are peaks for the Infants and then the distribution starts to be uniform. Later, after the Age of around 60 we see a right-skewed distribution."
   ]
  },
  {
   "cell_type": "code",
   "execution_count": 20,
   "metadata": {},
   "outputs": [
    {
     "data": {
      "image/png": "[encoded data removed]",
      "text/plain": [
       "<matplotlib.figure.Figure at 0x224b0d929b0>"
      ]
     },
     "metadata": {},
     "output_type": "display_data"
    }
   ],
   "source": [
    "plt.figure(figsize=(16,4))\n",
    "ax = sns.countplot(x=no_show.Waitdays, order=no_show.Waitdays.value_counts().iloc[:55].index)\n",
    "ax.set_title(\"Waiting Time in Days (Descending Order)\")\n",
    "plt.show()"
   ]
  },
  {
   "cell_type": "markdown",
   "metadata": {},
   "source": [
    "From the above visualization we can see that most of the patients are booking their appointments just a day before the appointment. "
   ]
  },
  {
   "cell_type": "code",
   "execution_count": 21,
   "metadata": {
    "scrolled": false
   },
   "outputs": [
    {
     "data": {
      "text/html": [
       "<div>\n",
       "<style scoped>\n",
       "    .dataframe tbody tr th:only-of-type {\n",
       "        vertical-align: middle;\n",
       "    }\n",
       "\n",
       "    .dataframe tbody tr th {\n",
       "        vertical-align: top;\n",
       "    }\n",
       "\n",
       "    .dataframe thead th {\n",
       "        text-align: right;\n",
       "    }\n",
       "</style>\n",
       "<table border=\"1\" class=\"dataframe\">\n",
       "  <thead>\n",
       "    <tr style=\"text-align: right;\">\n",
       "      <th></th>\n",
       "      <th>waitdays_bucket</th>\n",
       "      <th>count</th>\n",
       "      <th>count%</th>\n",
       "      <th>probability</th>\n",
       "    </tr>\n",
       "  </thead>\n",
       "  <tbody>\n",
       "    <tr>\n",
       "      <th>2</th>\n",
       "      <td>126-150</td>\n",
       "      <td>24</td>\n",
       "      <td>0.000</td>\n",
       "      <td>0.458</td>\n",
       "    </tr>\n",
       "    <tr>\n",
       "      <th>3</th>\n",
       "      <td>151-175</td>\n",
       "      <td>45</td>\n",
       "      <td>0.001</td>\n",
       "      <td>0.333</td>\n",
       "    </tr>\n",
       "    <tr>\n",
       "      <th>5</th>\n",
       "      <td>26-50</td>\n",
       "      <td>11853</td>\n",
       "      <td>0.165</td>\n",
       "      <td>0.327</td>\n",
       "    </tr>\n",
       "    <tr>\n",
       "      <th>6</th>\n",
       "      <td>51-75</td>\n",
       "      <td>2470</td>\n",
       "      <td>0.034</td>\n",
       "      <td>0.306</td>\n",
       "    </tr>\n",
       "    <tr>\n",
       "      <th>7</th>\n",
       "      <td>76-100</td>\n",
       "      <td>430</td>\n",
       "      <td>0.006</td>\n",
       "      <td>0.279</td>\n",
       "    </tr>\n",
       "    <tr>\n",
       "      <th>0</th>\n",
       "      <td>0-25</td>\n",
       "      <td>57069</td>\n",
       "      <td>0.793</td>\n",
       "      <td>0.276</td>\n",
       "    </tr>\n",
       "    <tr>\n",
       "      <th>1</th>\n",
       "      <td>101-125</td>\n",
       "      <td>58</td>\n",
       "      <td>0.001</td>\n",
       "      <td>0.224</td>\n",
       "    </tr>\n",
       "    <tr>\n",
       "      <th>4</th>\n",
       "      <td>176+</td>\n",
       "      <td>10</td>\n",
       "      <td>0.000</td>\n",
       "      <td>0.200</td>\n",
       "    </tr>\n",
       "  </tbody>\n",
       "</table>\n",
       "</div>"
      ],
      "text/plain": [
       "  waitdays_bucket  count  count%  probability\n",
       "2         126-150     24   0.000        0.458\n",
       "3         151-175     45   0.001        0.333\n",
       "5           26-50  11853   0.165        0.327\n",
       "6           51-75   2470   0.034        0.306\n",
       "7          76-100    430   0.006        0.279\n",
       "0            0-25  57069   0.793        0.276\n",
       "1         101-125     58   0.001        0.224\n",
       "4            176+     10   0.000        0.200"
      ]
     },
     "metadata": {},
     "output_type": "display_data"
    },
    {
     "data": {
      "image/png": "[encoded data removed]",
      "text/plain": [
       "<matplotlib.figure.Figure at 0x224b27136a0>"
      ]
     },
     "metadata": {},
     "output_type": "display_data"
    }
   ],
   "source": [
    "\n",
    "visualize_feature(no_show, 'waitdays_bucket')"
   ]
  },
  {
   "cell_type": "markdown",
   "metadata": {},
   "source": [
    "79% of patients wait less than 25 days. No Show is around 46%, if the wait time is between 125-150 days. As the wait time increases, No-show also increases. "
   ]
  },
  {
   "cell_type": "code",
   "execution_count": 22,
   "metadata": {
    "scrolled": true
   },
   "outputs": [
    {
     "data": {
      "text/html": [
       "<div>\n",
       "<style scoped>\n",
       "    .dataframe tbody tr th:only-of-type {\n",
       "        vertical-align: middle;\n",
       "    }\n",
       "\n",
       "    .dataframe tbody tr th {\n",
       "        vertical-align: top;\n",
       "    }\n",
       "\n",
       "    .dataframe thead th {\n",
       "        text-align: right;\n",
       "    }\n",
       "</style>\n",
       "<table border=\"1\" class=\"dataframe\">\n",
       "  <thead>\n",
       "    <tr style=\"text-align: right;\">\n",
       "      <th></th>\n",
       "      <th>Gender</th>\n",
       "      <th>count</th>\n",
       "      <th>count%</th>\n",
       "      <th>probability</th>\n",
       "    </tr>\n",
       "  </thead>\n",
       "  <tbody>\n",
       "    <tr>\n",
       "      <th>1</th>\n",
       "      <td>M</td>\n",
       "      <td>23889</td>\n",
       "      <td>0.332</td>\n",
       "      <td>0.287</td>\n",
       "    </tr>\n",
       "    <tr>\n",
       "      <th>0</th>\n",
       "      <td>F</td>\n",
       "      <td>48070</td>\n",
       "      <td>0.668</td>\n",
       "      <td>0.284</td>\n",
       "    </tr>\n",
       "  </tbody>\n",
       "</table>\n",
       "</div>"
      ],
      "text/plain": [
       "  Gender  count  count%  probability\n",
       "1      M  23889   0.332        0.287\n",
       "0      F  48070   0.668        0.284"
      ]
     },
     "metadata": {},
     "output_type": "display_data"
    },
    {
     "data": {
      "image/png": "[encoded data removed]",
      "text/plain": [
       "<matplotlib.figure.Figure at 0x224b255a160>"
      ]
     },
     "metadata": {},
     "output_type": "display_data"
    }
   ],
   "source": [
    "visualize_feature(no_show, 'Gender')"
   ]
  },
  {
   "cell_type": "markdown",
   "metadata": {},
   "source": [
    "Females patients are 3.3 times more than male however there is no significant difference on no-show rate."
   ]
  },
  {
   "cell_type": "code",
   "execution_count": 23,
   "metadata": {},
   "outputs": [
    {
     "data": {
      "text/html": [
       "<div>\n",
       "<style scoped>\n",
       "    .dataframe tbody tr th:only-of-type {\n",
       "        vertical-align: middle;\n",
       "    }\n",
       "\n",
       "    .dataframe tbody tr th {\n",
       "        vertical-align: top;\n",
       "    }\n",
       "\n",
       "    .dataframe thead th {\n",
       "        text-align: right;\n",
       "    }\n",
       "</style>\n",
       "<table border=\"1\" class=\"dataframe\">\n",
       "  <thead>\n",
       "    <tr style=\"text-align: right;\">\n",
       "      <th></th>\n",
       "      <th>HandiCap</th>\n",
       "      <th>count</th>\n",
       "      <th>count%</th>\n",
       "      <th>probability</th>\n",
       "    </tr>\n",
       "  </thead>\n",
       "  <tbody>\n",
       "    <tr>\n",
       "      <th>4</th>\n",
       "      <td>4</td>\n",
       "      <td>2</td>\n",
       "      <td>0.000</td>\n",
       "      <td>0.500</td>\n",
       "    </tr>\n",
       "    <tr>\n",
       "      <th>2</th>\n",
       "      <td>2</td>\n",
       "      <td>112</td>\n",
       "      <td>0.002</td>\n",
       "      <td>0.304</td>\n",
       "    </tr>\n",
       "    <tr>\n",
       "      <th>0</th>\n",
       "      <td>0</td>\n",
       "      <td>70652</td>\n",
       "      <td>0.982</td>\n",
       "      <td>0.286</td>\n",
       "    </tr>\n",
       "    <tr>\n",
       "      <th>1</th>\n",
       "      <td>1</td>\n",
       "      <td>1185</td>\n",
       "      <td>0.016</td>\n",
       "      <td>0.251</td>\n",
       "    </tr>\n",
       "    <tr>\n",
       "      <th>3</th>\n",
       "      <td>3</td>\n",
       "      <td>8</td>\n",
       "      <td>0.000</td>\n",
       "      <td>0.250</td>\n",
       "    </tr>\n",
       "  </tbody>\n",
       "</table>\n",
       "</div>"
      ],
      "text/plain": [
       "   HandiCap  count  count%  probability\n",
       "4         4      2   0.000        0.500\n",
       "2         2    112   0.002        0.304\n",
       "0         0  70652   0.982        0.286\n",
       "1         1   1185   0.016        0.251\n",
       "3         3      8   0.000        0.250"
      ]
     },
     "metadata": {},
     "output_type": "display_data"
    },
    {
     "data": {
      "image/png": "[encoded data removed]",
      "text/plain": [
       "<matplotlib.figure.Figure at 0x224b2747d30>"
      ]
     },
     "metadata": {},
     "output_type": "display_data"
    }
   ],
   "source": [
    "visualize_feature(no_show, 'HandiCap')"
   ]
  },
  {
   "cell_type": "markdown",
   "metadata": {},
   "source": [
    "About 2% of the patients are handicapped."
   ]
  },
  {
   "cell_type": "markdown",
   "metadata": {},
   "source": [
    "Patients with disability=4 tend to miss the appointment 50% of the time+."
   ]
  },
  {
   "cell_type": "code",
   "execution_count": 24,
   "metadata": {},
   "outputs": [
    {
     "data": {
      "text/html": [
       "<div>\n",
       "<style scoped>\n",
       "    .dataframe tbody tr th:only-of-type {\n",
       "        vertical-align: middle;\n",
       "    }\n",
       "\n",
       "    .dataframe tbody tr th {\n",
       "        vertical-align: top;\n",
       "    }\n",
       "\n",
       "    .dataframe thead th {\n",
       "        text-align: right;\n",
       "    }\n",
       "</style>\n",
       "<table border=\"1\" class=\"dataframe\">\n",
       "  <thead>\n",
       "    <tr style=\"text-align: right;\">\n",
       "      <th></th>\n",
       "      <th>Scholarship</th>\n",
       "      <th>count</th>\n",
       "      <th>count%</th>\n",
       "      <th>probability</th>\n",
       "    </tr>\n",
       "  </thead>\n",
       "  <tbody>\n",
       "    <tr>\n",
       "      <th>1</th>\n",
       "      <td>1</td>\n",
       "      <td>6671</td>\n",
       "      <td>0.093</td>\n",
       "      <td>0.350</td>\n",
       "    </tr>\n",
       "    <tr>\n",
       "      <th>0</th>\n",
       "      <td>0</td>\n",
       "      <td>65288</td>\n",
       "      <td>0.907</td>\n",
       "      <td>0.279</td>\n",
       "    </tr>\n",
       "  </tbody>\n",
       "</table>\n",
       "</div>"
      ],
      "text/plain": [
       "   Scholarship  count  count%  probability\n",
       "1            1   6671   0.093        0.350\n",
       "0            0  65288   0.907        0.279"
      ]
     },
     "metadata": {},
     "output_type": "display_data"
    },
    {
     "data": {
      "image/png": "[encoded data removed]",
      "text/plain": [
       "<matplotlib.figure.Figure at 0x224b2549898>"
      ]
     },
     "metadata": {},
     "output_type": "display_data"
    }
   ],
   "source": [
    "visualize_feature(no_show, 'Scholarship')"
   ]
  },
  {
   "cell_type": "markdown",
   "metadata": {},
   "source": [
    "Only 9% of the patients receive the scholarship and patients who receive the scholarship tend to miss the appointment more."
   ]
  },
  {
   "cell_type": "code",
   "execution_count": 25,
   "metadata": {},
   "outputs": [
    {
     "data": {
      "text/html": [
       "<div>\n",
       "<style scoped>\n",
       "    .dataframe tbody tr th:only-of-type {\n",
       "        vertical-align: middle;\n",
       "    }\n",
       "\n",
       "    .dataframe tbody tr th {\n",
       "        vertical-align: top;\n",
       "    }\n",
       "\n",
       "    .dataframe thead th {\n",
       "        text-align: right;\n",
       "    }\n",
       "</style>\n",
       "<table border=\"1\" class=\"dataframe\">\n",
       "  <thead>\n",
       "    <tr style=\"text-align: right;\">\n",
       "      <th></th>\n",
       "      <th>Diabetes</th>\n",
       "      <th>count</th>\n",
       "      <th>count%</th>\n",
       "      <th>probability</th>\n",
       "    </tr>\n",
       "  </thead>\n",
       "  <tbody>\n",
       "    <tr>\n",
       "      <th>0</th>\n",
       "      <td>0</td>\n",
       "      <td>66582</td>\n",
       "      <td>0.925</td>\n",
       "      <td>0.288</td>\n",
       "    </tr>\n",
       "    <tr>\n",
       "      <th>1</th>\n",
       "      <td>1</td>\n",
       "      <td>5377</td>\n",
       "      <td>0.075</td>\n",
       "      <td>0.250</td>\n",
       "    </tr>\n",
       "  </tbody>\n",
       "</table>\n",
       "</div>"
      ],
      "text/plain": [
       "   Diabetes  count  count%  probability\n",
       "0         0  66582   0.925        0.288\n",
       "1         1   5377   0.075        0.250"
      ]
     },
     "metadata": {},
     "output_type": "display_data"
    },
    {
     "data": {
      "image/png": "[encoded data removed]",
      "text/plain": [
       "<matplotlib.figure.Figure at 0x224b26fd240>"
      ]
     },
     "metadata": {},
     "output_type": "display_data"
    }
   ],
   "source": [
    "visualize_feature(no_show, 'Diabetes')"
   ]
  },
  {
   "cell_type": "markdown",
   "metadata": {},
   "source": [
    "Around 7.5% of the patients are diabetic. "
   ]
  },
  {
   "cell_type": "code",
   "execution_count": 26,
   "metadata": {
    "scrolled": false
   },
   "outputs": [
    {
     "data": {
      "text/html": [
       "<div>\n",
       "<style scoped>\n",
       "    .dataframe tbody tr th:only-of-type {\n",
       "        vertical-align: middle;\n",
       "    }\n",
       "\n",
       "    .dataframe tbody tr th {\n",
       "        vertical-align: top;\n",
       "    }\n",
       "\n",
       "    .dataframe thead th {\n",
       "        text-align: right;\n",
       "    }\n",
       "</style>\n",
       "<table border=\"1\" class=\"dataframe\">\n",
       "  <thead>\n",
       "    <tr style=\"text-align: right;\">\n",
       "      <th></th>\n",
       "      <th>Alcoholism</th>\n",
       "      <th>count</th>\n",
       "      <th>count%</th>\n",
       "      <th>probability</th>\n",
       "    </tr>\n",
       "  </thead>\n",
       "  <tbody>\n",
       "    <tr>\n",
       "      <th>1</th>\n",
       "      <td>1</td>\n",
       "      <td>1822</td>\n",
       "      <td>0.025</td>\n",
       "      <td>0.341</td>\n",
       "    </tr>\n",
       "    <tr>\n",
       "      <th>0</th>\n",
       "      <td>0</td>\n",
       "      <td>70137</td>\n",
       "      <td>0.975</td>\n",
       "      <td>0.284</td>\n",
       "    </tr>\n",
       "  </tbody>\n",
       "</table>\n",
       "</div>"
      ],
      "text/plain": [
       "   Alcoholism  count  count%  probability\n",
       "1           1   1822   0.025        0.341\n",
       "0           0  70137   0.975        0.284"
      ]
     },
     "metadata": {},
     "output_type": "display_data"
    },
    {
     "data": {
      "image/png": "[encoded data removed]",
      "text/plain": [
       "<matplotlib.figure.Figure at 0x224b1685630>"
      ]
     },
     "metadata": {},
     "output_type": "display_data"
    }
   ],
   "source": [
    "visualize_feature(no_show, 'Alcoholism')"
   ]
  },
  {
   "cell_type": "markdown",
   "metadata": {},
   "source": [
    "Patients who are alcoholic show up more to thier appointment when compared to patients who are not alcoholic. but the difference is not significant."
   ]
  },
  {
   "cell_type": "code",
   "execution_count": 27,
   "metadata": {},
   "outputs": [
    {
     "data": {
      "text/html": [
       "<div>\n",
       "<style scoped>\n",
       "    .dataframe tbody tr th:only-of-type {\n",
       "        vertical-align: middle;\n",
       "    }\n",
       "\n",
       "    .dataframe tbody tr th {\n",
       "        vertical-align: top;\n",
       "    }\n",
       "\n",
       "    .dataframe thead th {\n",
       "        text-align: right;\n",
       "    }\n",
       "</style>\n",
       "<table border=\"1\" class=\"dataframe\">\n",
       "  <thead>\n",
       "    <tr style=\"text-align: right;\">\n",
       "      <th></th>\n",
       "      <th>HyperTension</th>\n",
       "      <th>count</th>\n",
       "      <th>count%</th>\n",
       "      <th>probability</th>\n",
       "    </tr>\n",
       "  </thead>\n",
       "  <tbody>\n",
       "    <tr>\n",
       "      <th>0</th>\n",
       "      <td>0</td>\n",
       "      <td>56927</td>\n",
       "      <td>0.791</td>\n",
       "      <td>0.298</td>\n",
       "    </tr>\n",
       "    <tr>\n",
       "      <th>1</th>\n",
       "      <td>1</td>\n",
       "      <td>15032</td>\n",
       "      <td>0.209</td>\n",
       "      <td>0.235</td>\n",
       "    </tr>\n",
       "  </tbody>\n",
       "</table>\n",
       "</div>"
      ],
      "text/plain": [
       "   HyperTension  count  count%  probability\n",
       "0             0  56927   0.791        0.298\n",
       "1             1  15032   0.209        0.235"
      ]
     },
     "metadata": {},
     "output_type": "display_data"
    },
    {
     "data": {
      "image/png": "[encoded data removed]",
      "text/plain": [
       "<matplotlib.figure.Figure at 0x224b25450f0>"
      ]
     },
     "metadata": {},
     "output_type": "display_data"
    }
   ],
   "source": [
    "visualize_feature(no_show, 'HyperTension')"
   ]
  },
  {
   "cell_type": "markdown",
   "metadata": {},
   "source": [
    "About 20% of the patients have hypertension. no-show is more for Patients with no hypertension."
   ]
  },
  {
   "cell_type": "code",
   "execution_count": 28,
   "metadata": {
    "scrolled": true
   },
   "outputs": [
    {
     "data": {
      "text/html": [
       "<div>\n",
       "<style scoped>\n",
       "    .dataframe tbody tr th:only-of-type {\n",
       "        vertical-align: middle;\n",
       "    }\n",
       "\n",
       "    .dataframe tbody tr th {\n",
       "        vertical-align: top;\n",
       "    }\n",
       "\n",
       "    .dataframe thead th {\n",
       "        text-align: right;\n",
       "    }\n",
       "</style>\n",
       "<table border=\"1\" class=\"dataframe\">\n",
       "  <thead>\n",
       "    <tr style=\"text-align: right;\">\n",
       "      <th></th>\n",
       "      <th>SMS_received</th>\n",
       "      <th>count</th>\n",
       "      <th>count%</th>\n",
       "      <th>probability</th>\n",
       "    </tr>\n",
       "  </thead>\n",
       "  <tbody>\n",
       "    <tr>\n",
       "      <th>0</th>\n",
       "      <td>0</td>\n",
       "      <td>36477</td>\n",
       "      <td>0.507</td>\n",
       "      <td>0.294</td>\n",
       "    </tr>\n",
       "    <tr>\n",
       "      <th>1</th>\n",
       "      <td>1</td>\n",
       "      <td>35482</td>\n",
       "      <td>0.493</td>\n",
       "      <td>0.276</td>\n",
       "    </tr>\n",
       "  </tbody>\n",
       "</table>\n",
       "</div>"
      ],
      "text/plain": [
       "   SMS_received  count  count%  probability\n",
       "0             0  36477   0.507        0.294\n",
       "1             1  35482   0.493        0.276"
      ]
     },
     "metadata": {},
     "output_type": "display_data"
    },
    {
     "data": {
      "image/png": "[encoded data removed]",
      "text/plain": [
       "<matplotlib.figure.Figure at 0x224b255ac18>"
      ]
     },
     "metadata": {},
     "output_type": "display_data"
    }
   ],
   "source": [
    "visualize_feature(no_show, 'SMS_received')"
   ]
  },
  {
   "cell_type": "markdown",
   "metadata": {},
   "source": [
    "no show for patients who receivd email is slightly more. "
   ]
  },
  {
   "cell_type": "code",
   "execution_count": 29,
   "metadata": {},
   "outputs": [
    {
     "data": {
      "text/html": [
       "<div>\n",
       "<style scoped>\n",
       "    .dataframe tbody tr th:only-of-type {\n",
       "        vertical-align: middle;\n",
       "    }\n",
       "\n",
       "    .dataframe tbody tr th {\n",
       "        vertical-align: top;\n",
       "    }\n",
       "\n",
       "    .dataframe thead th {\n",
       "        text-align: right;\n",
       "    }\n",
       "</style>\n",
       "<table border=\"1\" class=\"dataframe\">\n",
       "  <thead>\n",
       "    <tr style=\"text-align: right;\">\n",
       "      <th></th>\n",
       "      <th>age_bucket</th>\n",
       "      <th>count</th>\n",
       "      <th>count%</th>\n",
       "      <th>probability</th>\n",
       "    </tr>\n",
       "  </thead>\n",
       "  <tbody>\n",
       "    <tr>\n",
       "      <th>1</th>\n",
       "      <td>18-24</td>\n",
       "      <td>5440</td>\n",
       "      <td>0.076</td>\n",
       "      <td>0.360</td>\n",
       "    </tr>\n",
       "    <tr>\n",
       "      <th>2</th>\n",
       "      <td>25-34</td>\n",
       "      <td>9401</td>\n",
       "      <td>0.131</td>\n",
       "      <td>0.335</td>\n",
       "    </tr>\n",
       "    <tr>\n",
       "      <th>0</th>\n",
       "      <td>0-18</td>\n",
       "      <td>17035</td>\n",
       "      <td>0.237</td>\n",
       "      <td>0.325</td>\n",
       "    </tr>\n",
       "    <tr>\n",
       "      <th>3</th>\n",
       "      <td>35-44</td>\n",
       "      <td>9477</td>\n",
       "      <td>0.132</td>\n",
       "      <td>0.309</td>\n",
       "    </tr>\n",
       "    <tr>\n",
       "      <th>4</th>\n",
       "      <td>45-54</td>\n",
       "      <td>10351</td>\n",
       "      <td>0.144</td>\n",
       "      <td>0.256</td>\n",
       "    </tr>\n",
       "    <tr>\n",
       "      <th>5</th>\n",
       "      <td>55-64</td>\n",
       "      <td>10081</td>\n",
       "      <td>0.140</td>\n",
       "      <td>0.216</td>\n",
       "    </tr>\n",
       "    <tr>\n",
       "      <th>6</th>\n",
       "      <td>65+</td>\n",
       "      <td>10174</td>\n",
       "      <td>0.141</td>\n",
       "      <td>0.208</td>\n",
       "    </tr>\n",
       "  </tbody>\n",
       "</table>\n",
       "</div>"
      ],
      "text/plain": [
       "  age_bucket  count  count%  probability\n",
       "1      18-24   5440   0.076        0.360\n",
       "2      25-34   9401   0.131        0.335\n",
       "0       0-18  17035   0.237        0.325\n",
       "3      35-44   9477   0.132        0.309\n",
       "4      45-54  10351   0.144        0.256\n",
       "5      55-64  10081   0.140        0.216\n",
       "6        65+  10174   0.141        0.208"
      ]
     },
     "metadata": {},
     "output_type": "display_data"
    },
    {
     "data": {
      "image/png": "[encoded data removed]",
      "text/plain": [
       "<matplotlib.figure.Figure at 0x224b2561080>"
      ]
     },
     "metadata": {},
     "output_type": "display_data"
    }
   ],
   "source": [
    "visualize_feature(no_show, 'age_bucket')"
   ]
  },
  {
   "cell_type": "markdown",
   "metadata": {},
   "source": [
    "No show is decreasing  as the age is increasing"
   ]
  },
  {
   "cell_type": "code",
   "execution_count": 30,
   "metadata": {
    "scrolled": false
   },
   "outputs": [
    {
     "data": {
      "text/html": [
       "<div>\n",
       "<style scoped>\n",
       "    .dataframe tbody tr th:only-of-type {\n",
       "        vertical-align: middle;\n",
       "    }\n",
       "\n",
       "    .dataframe tbody tr th {\n",
       "        vertical-align: top;\n",
       "    }\n",
       "\n",
       "    .dataframe thead th {\n",
       "        text-align: right;\n",
       "    }\n",
       "</style>\n",
       "<table border=\"1\" class=\"dataframe\">\n",
       "  <thead>\n",
       "    <tr style=\"text-align: right;\">\n",
       "      <th></th>\n",
       "      <th>Neighbourhood</th>\n",
       "      <th>count</th>\n",
       "      <th>count%</th>\n",
       "      <th>probability</th>\n",
       "    </tr>\n",
       "  </thead>\n",
       "  <tbody>\n",
       "    <tr>\n",
       "      <th>34</th>\n",
       "      <td>ILHAS OCEÂNICAS DE TRINDADE</td>\n",
       "      <td>2</td>\n",
       "      <td>0.000</td>\n",
       "      <td>1.000</td>\n",
       "    </tr>\n",
       "    <tr>\n",
       "      <th>27</th>\n",
       "      <td>GURIGICA</td>\n",
       "      <td>1105</td>\n",
       "      <td>0.015</td>\n",
       "      <td>0.384</td>\n",
       "    </tr>\n",
       "    <tr>\n",
       "      <th>40</th>\n",
       "      <td>JESUS DE NAZARETH</td>\n",
       "      <td>1755</td>\n",
       "      <td>0.024</td>\n",
       "      <td>0.375</td>\n",
       "    </tr>\n",
       "    <tr>\n",
       "      <th>36</th>\n",
       "      <td>ITARARÉ</td>\n",
       "      <td>2381</td>\n",
       "      <td>0.033</td>\n",
       "      <td>0.365</td>\n",
       "    </tr>\n",
       "    <tr>\n",
       "      <th>28</th>\n",
       "      <td>HORTO</td>\n",
       "      <td>114</td>\n",
       "      <td>0.002</td>\n",
       "      <td>0.360</td>\n",
       "    </tr>\n",
       "    <tr>\n",
       "      <th>69</th>\n",
       "      <td>SANTOS DUMONT</td>\n",
       "      <td>877</td>\n",
       "      <td>0.012</td>\n",
       "      <td>0.349</td>\n",
       "    </tr>\n",
       "    <tr>\n",
       "      <th>61</th>\n",
       "      <td>SANTA CLARA</td>\n",
       "      <td>381</td>\n",
       "      <td>0.005</td>\n",
       "      <td>0.339</td>\n",
       "    </tr>\n",
       "    <tr>\n",
       "      <th>60</th>\n",
       "      <td>SANTA CECÍLIA</td>\n",
       "      <td>349</td>\n",
       "      <td>0.005</td>\n",
       "      <td>0.335</td>\n",
       "    </tr>\n",
       "    <tr>\n",
       "      <th>3</th>\n",
       "      <td>ARIOVALDO FAVALESSA</td>\n",
       "      <td>175</td>\n",
       "      <td>0.002</td>\n",
       "      <td>0.326</td>\n",
       "    </tr>\n",
       "    <tr>\n",
       "      <th>33</th>\n",
       "      <td>ILHA DO PRÍNCIPE</td>\n",
       "      <td>1503</td>\n",
       "      <td>0.021</td>\n",
       "      <td>0.325</td>\n",
       "    </tr>\n",
       "    <tr>\n",
       "      <th>1</th>\n",
       "      <td>ANDORINHAS</td>\n",
       "      <td>1524</td>\n",
       "      <td>0.021</td>\n",
       "      <td>0.322</td>\n",
       "    </tr>\n",
       "    <tr>\n",
       "      <th>9</th>\n",
       "      <td>CARATOÍRA</td>\n",
       "      <td>1691</td>\n",
       "      <td>0.023</td>\n",
       "      <td>0.320</td>\n",
       "    </tr>\n",
       "    <tr>\n",
       "      <th>73</th>\n",
       "      <td>SÃO BENEDITO</td>\n",
       "      <td>826</td>\n",
       "      <td>0.011</td>\n",
       "      <td>0.311</td>\n",
       "    </tr>\n",
       "    <tr>\n",
       "      <th>59</th>\n",
       "      <td>ROMÃO</td>\n",
       "      <td>1422</td>\n",
       "      <td>0.020</td>\n",
       "      <td>0.307</td>\n",
       "    </tr>\n",
       "    <tr>\n",
       "      <th>22</th>\n",
       "      <td>FONTE GRANDE</td>\n",
       "      <td>469</td>\n",
       "      <td>0.007</td>\n",
       "      <td>0.305</td>\n",
       "    </tr>\n",
       "    <tr>\n",
       "      <th>43</th>\n",
       "      <td>MARIA ORTIZ</td>\n",
       "      <td>3730</td>\n",
       "      <td>0.052</td>\n",
       "      <td>0.305</td>\n",
       "    </tr>\n",
       "    <tr>\n",
       "      <th>58</th>\n",
       "      <td>RESISTÊNCIA</td>\n",
       "      <td>2818</td>\n",
       "      <td>0.039</td>\n",
       "      <td>0.304</td>\n",
       "    </tr>\n",
       "    <tr>\n",
       "      <th>52</th>\n",
       "      <td>PIEDADE</td>\n",
       "      <td>274</td>\n",
       "      <td>0.004</td>\n",
       "      <td>0.303</td>\n",
       "    </tr>\n",
       "    <tr>\n",
       "      <th>8</th>\n",
       "      <td>BONFIM</td>\n",
       "      <td>1708</td>\n",
       "      <td>0.024</td>\n",
       "      <td>0.300</td>\n",
       "    </tr>\n",
       "    <tr>\n",
       "      <th>12</th>\n",
       "      <td>CONQUISTA</td>\n",
       "      <td>472</td>\n",
       "      <td>0.007</td>\n",
       "      <td>0.299</td>\n",
       "    </tr>\n",
       "    <tr>\n",
       "      <th>55</th>\n",
       "      <td>PRAIA DO SUÁ</td>\n",
       "      <td>945</td>\n",
       "      <td>0.013</td>\n",
       "      <td>0.297</td>\n",
       "    </tr>\n",
       "    <tr>\n",
       "      <th>44</th>\n",
       "      <td>MARUÍPE</td>\n",
       "      <td>1359</td>\n",
       "      <td>0.019</td>\n",
       "      <td>0.297</td>\n",
       "    </tr>\n",
       "    <tr>\n",
       "      <th>20</th>\n",
       "      <td>ENSEADA DO SUÁ</td>\n",
       "      <td>163</td>\n",
       "      <td>0.002</td>\n",
       "      <td>0.294</td>\n",
       "    </tr>\n",
       "    <tr>\n",
       "      <th>67</th>\n",
       "      <td>SANTO ANDRÉ</td>\n",
       "      <td>1614</td>\n",
       "      <td>0.022</td>\n",
       "      <td>0.294</td>\n",
       "    </tr>\n",
       "    <tr>\n",
       "      <th>53</th>\n",
       "      <td>PONTAL DE CAMBURI</td>\n",
       "      <td>41</td>\n",
       "      <td>0.001</td>\n",
       "      <td>0.293</td>\n",
       "    </tr>\n",
       "    <tr>\n",
       "      <th>5</th>\n",
       "      <td>BELA VISTA</td>\n",
       "      <td>1113</td>\n",
       "      <td>0.015</td>\n",
       "      <td>0.290</td>\n",
       "    </tr>\n",
       "    <tr>\n",
       "      <th>50</th>\n",
       "      <td>NOVA PALESTINA</td>\n",
       "      <td>1186</td>\n",
       "      <td>0.016</td>\n",
       "      <td>0.290</td>\n",
       "    </tr>\n",
       "    <tr>\n",
       "      <th>10</th>\n",
       "      <td>CENTRO</td>\n",
       "      <td>2270</td>\n",
       "      <td>0.032</td>\n",
       "      <td>0.288</td>\n",
       "    </tr>\n",
       "    <tr>\n",
       "      <th>76</th>\n",
       "      <td>SÃO PEDRO</td>\n",
       "      <td>1584</td>\n",
       "      <td>0.022</td>\n",
       "      <td>0.285</td>\n",
       "    </tr>\n",
       "    <tr>\n",
       "      <th>18</th>\n",
       "      <td>DO MOSCOSO</td>\n",
       "      <td>306</td>\n",
       "      <td>0.004</td>\n",
       "      <td>0.284</td>\n",
       "    </tr>\n",
       "    <tr>\n",
       "      <th>...</th>\n",
       "      <td>...</td>\n",
       "      <td>...</td>\n",
       "      <td>...</td>\n",
       "      <td>...</td>\n",
       "    </tr>\n",
       "    <tr>\n",
       "      <th>21</th>\n",
       "      <td>ESTRELINHA</td>\n",
       "      <td>344</td>\n",
       "      <td>0.005</td>\n",
       "      <td>0.265</td>\n",
       "    </tr>\n",
       "    <tr>\n",
       "      <th>66</th>\n",
       "      <td>SANTA TEREZA</td>\n",
       "      <td>865</td>\n",
       "      <td>0.012</td>\n",
       "      <td>0.265</td>\n",
       "    </tr>\n",
       "    <tr>\n",
       "      <th>38</th>\n",
       "      <td>JARDIM CAMBURI</td>\n",
       "      <td>5213</td>\n",
       "      <td>0.072</td>\n",
       "      <td>0.261</td>\n",
       "    </tr>\n",
       "    <tr>\n",
       "      <th>42</th>\n",
       "      <td>JUCUTUQUARA</td>\n",
       "      <td>480</td>\n",
       "      <td>0.007</td>\n",
       "      <td>0.260</td>\n",
       "    </tr>\n",
       "    <tr>\n",
       "      <th>46</th>\n",
       "      <td>MONTE BELO</td>\n",
       "      <td>625</td>\n",
       "      <td>0.009</td>\n",
       "      <td>0.259</td>\n",
       "    </tr>\n",
       "    <tr>\n",
       "      <th>64</th>\n",
       "      <td>SANTA LÚCIA</td>\n",
       "      <td>298</td>\n",
       "      <td>0.004</td>\n",
       "      <td>0.258</td>\n",
       "    </tr>\n",
       "    <tr>\n",
       "      <th>54</th>\n",
       "      <td>PRAIA DO CANTO</td>\n",
       "      <td>669</td>\n",
       "      <td>0.009</td>\n",
       "      <td>0.257</td>\n",
       "    </tr>\n",
       "    <tr>\n",
       "      <th>37</th>\n",
       "      <td>JABOUR</td>\n",
       "      <td>1682</td>\n",
       "      <td>0.023</td>\n",
       "      <td>0.256</td>\n",
       "    </tr>\n",
       "    <tr>\n",
       "      <th>68</th>\n",
       "      <td>SANTO ANTÔNIO</td>\n",
       "      <td>1621</td>\n",
       "      <td>0.023</td>\n",
       "      <td>0.255</td>\n",
       "    </tr>\n",
       "    <tr>\n",
       "      <th>71</th>\n",
       "      <td>SEGURANÇA DO LAR</td>\n",
       "      <td>103</td>\n",
       "      <td>0.001</td>\n",
       "      <td>0.252</td>\n",
       "    </tr>\n",
       "    <tr>\n",
       "      <th>32</th>\n",
       "      <td>ILHA DO FRADE</td>\n",
       "      <td>8</td>\n",
       "      <td>0.000</td>\n",
       "      <td>0.250</td>\n",
       "    </tr>\n",
       "    <tr>\n",
       "      <th>7</th>\n",
       "      <td>BOA VISTA</td>\n",
       "      <td>221</td>\n",
       "      <td>0.003</td>\n",
       "      <td>0.249</td>\n",
       "    </tr>\n",
       "    <tr>\n",
       "      <th>24</th>\n",
       "      <td>FRADINHOS</td>\n",
       "      <td>193</td>\n",
       "      <td>0.003</td>\n",
       "      <td>0.244</td>\n",
       "    </tr>\n",
       "    <tr>\n",
       "      <th>35</th>\n",
       "      <td>INHANGUETÁ</td>\n",
       "      <td>785</td>\n",
       "      <td>0.011</td>\n",
       "      <td>0.243</td>\n",
       "    </tr>\n",
       "    <tr>\n",
       "      <th>2</th>\n",
       "      <td>ANTÔNIO HONÓRIO</td>\n",
       "      <td>180</td>\n",
       "      <td>0.003</td>\n",
       "      <td>0.239</td>\n",
       "    </tr>\n",
       "    <tr>\n",
       "      <th>23</th>\n",
       "      <td>FORTE SÃO JOÃO</td>\n",
       "      <td>1293</td>\n",
       "      <td>0.018</td>\n",
       "      <td>0.235</td>\n",
       "    </tr>\n",
       "    <tr>\n",
       "      <th>63</th>\n",
       "      <td>SANTA LUÍZA</td>\n",
       "      <td>284</td>\n",
       "      <td>0.004</td>\n",
       "      <td>0.232</td>\n",
       "    </tr>\n",
       "    <tr>\n",
       "      <th>11</th>\n",
       "      <td>COMDUSA</td>\n",
       "      <td>237</td>\n",
       "      <td>0.003</td>\n",
       "      <td>0.232</td>\n",
       "    </tr>\n",
       "    <tr>\n",
       "      <th>57</th>\n",
       "      <td>REPÚBLICA</td>\n",
       "      <td>592</td>\n",
       "      <td>0.008</td>\n",
       "      <td>0.230</td>\n",
       "    </tr>\n",
       "    <tr>\n",
       "      <th>25</th>\n",
       "      <td>GOIABEIRAS</td>\n",
       "      <td>533</td>\n",
       "      <td>0.007</td>\n",
       "      <td>0.229</td>\n",
       "    </tr>\n",
       "    <tr>\n",
       "      <th>79</th>\n",
       "      <td>VILA RUBIM</td>\n",
       "      <td>598</td>\n",
       "      <td>0.008</td>\n",
       "      <td>0.227</td>\n",
       "    </tr>\n",
       "    <tr>\n",
       "      <th>39</th>\n",
       "      <td>JARDIM DA PENHA</td>\n",
       "      <td>2655</td>\n",
       "      <td>0.037</td>\n",
       "      <td>0.225</td>\n",
       "    </tr>\n",
       "    <tr>\n",
       "      <th>17</th>\n",
       "      <td>DO CABRAL</td>\n",
       "      <td>362</td>\n",
       "      <td>0.005</td>\n",
       "      <td>0.221</td>\n",
       "    </tr>\n",
       "    <tr>\n",
       "      <th>45</th>\n",
       "      <td>MATA DA PRAIA</td>\n",
       "      <td>462</td>\n",
       "      <td>0.006</td>\n",
       "      <td>0.219</td>\n",
       "    </tr>\n",
       "    <tr>\n",
       "      <th>19</th>\n",
       "      <td>DO QUADRO</td>\n",
       "      <td>558</td>\n",
       "      <td>0.008</td>\n",
       "      <td>0.219</td>\n",
       "    </tr>\n",
       "    <tr>\n",
       "      <th>47</th>\n",
       "      <td>MORADA DE CAMBURI</td>\n",
       "      <td>78</td>\n",
       "      <td>0.001</td>\n",
       "      <td>0.205</td>\n",
       "    </tr>\n",
       "    <tr>\n",
       "      <th>16</th>\n",
       "      <td>DE LOURDES</td>\n",
       "      <td>222</td>\n",
       "      <td>0.003</td>\n",
       "      <td>0.203</td>\n",
       "    </tr>\n",
       "    <tr>\n",
       "      <th>0</th>\n",
       "      <td>AEROPORTO</td>\n",
       "      <td>5</td>\n",
       "      <td>0.000</td>\n",
       "      <td>0.200</td>\n",
       "    </tr>\n",
       "    <tr>\n",
       "      <th>72</th>\n",
       "      <td>SOLON BORGES</td>\n",
       "      <td>337</td>\n",
       "      <td>0.005</td>\n",
       "      <td>0.193</td>\n",
       "    </tr>\n",
       "    <tr>\n",
       "      <th>31</th>\n",
       "      <td>ILHA DO BOI</td>\n",
       "      <td>23</td>\n",
       "      <td>0.000</td>\n",
       "      <td>0.087</td>\n",
       "    </tr>\n",
       "  </tbody>\n",
       "</table>\n",
       "<p>80 rows × 4 columns</p>\n",
       "</div>"
      ],
      "text/plain": [
       "                  Neighbourhood  count  count%  probability\n",
       "34  ILHAS OCEÂNICAS DE TRINDADE      2   0.000        1.000\n",
       "27                     GURIGICA   1105   0.015        0.384\n",
       "40            JESUS DE NAZARETH   1755   0.024        0.375\n",
       "36                      ITARARÉ   2381   0.033        0.365\n",
       "28                        HORTO    114   0.002        0.360\n",
       "69                SANTOS DUMONT    877   0.012        0.349\n",
       "61                  SANTA CLARA    381   0.005        0.339\n",
       "60                SANTA CECÍLIA    349   0.005        0.335\n",
       "3           ARIOVALDO FAVALESSA    175   0.002        0.326\n",
       "33             ILHA DO PRÍNCIPE   1503   0.021        0.325\n",
       "1                    ANDORINHAS   1524   0.021        0.322\n",
       "9                     CARATOÍRA   1691   0.023        0.320\n",
       "73                 SÃO BENEDITO    826   0.011        0.311\n",
       "59                        ROMÃO   1422   0.020        0.307\n",
       "22                 FONTE GRANDE    469   0.007        0.305\n",
       "43                  MARIA ORTIZ   3730   0.052        0.305\n",
       "58                  RESISTÊNCIA   2818   0.039        0.304\n",
       "52                      PIEDADE    274   0.004        0.303\n",
       "8                        BONFIM   1708   0.024        0.300\n",
       "12                    CONQUISTA    472   0.007        0.299\n",
       "55                 PRAIA DO SUÁ    945   0.013        0.297\n",
       "44                      MARUÍPE   1359   0.019        0.297\n",
       "20               ENSEADA DO SUÁ    163   0.002        0.294\n",
       "67                  SANTO ANDRÉ   1614   0.022        0.294\n",
       "53            PONTAL DE CAMBURI     41   0.001        0.293\n",
       "5                    BELA VISTA   1113   0.015        0.290\n",
       "50               NOVA PALESTINA   1186   0.016        0.290\n",
       "10                       CENTRO   2270   0.032        0.288\n",
       "76                    SÃO PEDRO   1584   0.022        0.285\n",
       "18                   DO MOSCOSO    306   0.004        0.284\n",
       "..                          ...    ...     ...          ...\n",
       "21                   ESTRELINHA    344   0.005        0.265\n",
       "66                 SANTA TEREZA    865   0.012        0.265\n",
       "38               JARDIM CAMBURI   5213   0.072        0.261\n",
       "42                  JUCUTUQUARA    480   0.007        0.260\n",
       "46                   MONTE BELO    625   0.009        0.259\n",
       "64                  SANTA LÚCIA    298   0.004        0.258\n",
       "54               PRAIA DO CANTO    669   0.009        0.257\n",
       "37                       JABOUR   1682   0.023        0.256\n",
       "68                SANTO ANTÔNIO   1621   0.023        0.255\n",
       "71             SEGURANÇA DO LAR    103   0.001        0.252\n",
       "32                ILHA DO FRADE      8   0.000        0.250\n",
       "7                     BOA VISTA    221   0.003        0.249\n",
       "24                    FRADINHOS    193   0.003        0.244\n",
       "35                   INHANGUETÁ    785   0.011        0.243\n",
       "2               ANTÔNIO HONÓRIO    180   0.003        0.239\n",
       "23               FORTE SÃO JOÃO   1293   0.018        0.235\n",
       "63                  SANTA LUÍZA    284   0.004        0.232\n",
       "11                      COMDUSA    237   0.003        0.232\n",
       "57                    REPÚBLICA    592   0.008        0.230\n",
       "25                   GOIABEIRAS    533   0.007        0.229\n",
       "79                   VILA RUBIM    598   0.008        0.227\n",
       "39              JARDIM DA PENHA   2655   0.037        0.225\n",
       "17                    DO CABRAL    362   0.005        0.221\n",
       "45                MATA DA PRAIA    462   0.006        0.219\n",
       "19                    DO QUADRO    558   0.008        0.219\n",
       "47            MORADA DE CAMBURI     78   0.001        0.205\n",
       "16                   DE LOURDES    222   0.003        0.203\n",
       "0                     AEROPORTO      5   0.000        0.200\n",
       "72                 SOLON BORGES    337   0.005        0.193\n",
       "31                  ILHA DO BOI     23   0.000        0.087\n",
       "\n",
       "[80 rows x 4 columns]"
      ]
     },
     "metadata": {},
     "output_type": "display_data"
    },
    {
     "data": {
      "image/png": "[encoded data removed]",
      "text/plain": [
       "<matplotlib.figure.Figure at 0x224b2539c18>"
      ]
     },
     "metadata": {},
     "output_type": "display_data"
    }
   ],
   "source": [
    "visualize_feature(no_show, 'Neighbourhood')"
   ]
  },
  {
   "cell_type": "markdown",
   "metadata": {},
   "source": [
    "JARDIM CAMBURI Neighbourhood has more patients about 7% with 74% no show."
   ]
  },
  {
   "cell_type": "code",
   "execution_count": 31,
   "metadata": {},
   "outputs": [
    {
     "data": {
      "text/html": [
       "<div>\n",
       "<style scoped>\n",
       "    .dataframe tbody tr th:only-of-type {\n",
       "        vertical-align: middle;\n",
       "    }\n",
       "\n",
       "    .dataframe tbody tr th {\n",
       "        vertical-align: top;\n",
       "    }\n",
       "\n",
       "    .dataframe thead th {\n",
       "        text-align: right;\n",
       "    }\n",
       "</style>\n",
       "<table border=\"1\" class=\"dataframe\">\n",
       "  <thead>\n",
       "    <tr style=\"text-align: right;\">\n",
       "      <th></th>\n",
       "      <th>Age</th>\n",
       "      <th>Scholarship</th>\n",
       "      <th>HyperTension</th>\n",
       "      <th>Diabetes</th>\n",
       "      <th>Alcoholism</th>\n",
       "      <th>HandiCap</th>\n",
       "      <th>SMS_received</th>\n",
       "      <th>num_gender</th>\n",
       "      <th>numNoshow</th>\n",
       "      <th>Waitdays</th>\n",
       "      <th>month</th>\n",
       "    </tr>\n",
       "  </thead>\n",
       "  <tbody>\n",
       "    <tr>\n",
       "      <th>Age</th>\n",
       "      <td>1.000000</td>\n",
       "      <td>-0.103038</td>\n",
       "      <td>0.500749</td>\n",
       "      <td>0.284477</td>\n",
       "      <td>0.080350</td>\n",
       "      <td>0.077141</td>\n",
       "      <td>-0.042537</td>\n",
       "      <td>-0.100109</td>\n",
       "      <td>-0.101042</td>\n",
       "      <td>-0.008608</td>\n",
       "      <td>0.019656</td>\n",
       "    </tr>\n",
       "    <tr>\n",
       "      <th>Scholarship</th>\n",
       "      <td>-0.103038</td>\n",
       "      <td>1.000000</td>\n",
       "      <td>-0.027764</td>\n",
       "      <td>-0.025417</td>\n",
       "      <td>0.030529</td>\n",
       "      <td>-0.010446</td>\n",
       "      <td>0.020666</td>\n",
       "      <td>-0.111075</td>\n",
       "      <td>0.045687</td>\n",
       "      <td>-0.026177</td>\n",
       "      <td>-0.007120</td>\n",
       "    </tr>\n",
       "    <tr>\n",
       "      <th>HyperTension</th>\n",
       "      <td>0.500749</td>\n",
       "      <td>-0.027764</td>\n",
       "      <td>1.000000</td>\n",
       "      <td>0.425614</td>\n",
       "      <td>0.085821</td>\n",
       "      <td>0.083643</td>\n",
       "      <td>-0.037065</td>\n",
       "      <td>-0.040820</td>\n",
       "      <td>-0.056859</td>\n",
       "      <td>-0.051121</td>\n",
       "      <td>0.005187</td>\n",
       "    </tr>\n",
       "    <tr>\n",
       "      <th>Diabetes</th>\n",
       "      <td>0.284477</td>\n",
       "      <td>-0.025417</td>\n",
       "      <td>0.425614</td>\n",
       "      <td>1.000000</td>\n",
       "      <td>0.024174</td>\n",
       "      <td>0.061513</td>\n",
       "      <td>-0.031219</td>\n",
       "      <td>-0.017627</td>\n",
       "      <td>-0.022412</td>\n",
       "      <td>-0.048246</td>\n",
       "      <td>0.000654</td>\n",
       "    </tr>\n",
       "    <tr>\n",
       "      <th>Alcoholism</th>\n",
       "      <td>0.080350</td>\n",
       "      <td>0.030529</td>\n",
       "      <td>0.085821</td>\n",
       "      <td>0.024174</td>\n",
       "      <td>1.000000</td>\n",
       "      <td>0.013501</td>\n",
       "      <td>-0.009095</td>\n",
       "      <td>0.093947</td>\n",
       "      <td>0.019864</td>\n",
       "      <td>-0.029137</td>\n",
       "      <td>0.003908</td>\n",
       "    </tr>\n",
       "    <tr>\n",
       "      <th>HandiCap</th>\n",
       "      <td>0.077141</td>\n",
       "      <td>-0.010446</td>\n",
       "      <td>0.083643</td>\n",
       "      <td>0.061513</td>\n",
       "      <td>0.013501</td>\n",
       "      <td>1.000000</td>\n",
       "      <td>-0.022107</td>\n",
       "      <td>0.020995</td>\n",
       "      <td>-0.007184</td>\n",
       "      <td>-0.015865</td>\n",
       "      <td>0.000253</td>\n",
       "    </tr>\n",
       "    <tr>\n",
       "      <th>SMS_received</th>\n",
       "      <td>-0.042537</td>\n",
       "      <td>0.020666</td>\n",
       "      <td>-0.037065</td>\n",
       "      <td>-0.031219</td>\n",
       "      <td>-0.009095</td>\n",
       "      <td>-0.022107</td>\n",
       "      <td>1.000000</td>\n",
       "      <td>-0.029473</td>\n",
       "      <td>-0.020631</td>\n",
       "      <td>0.201789</td>\n",
       "      <td>0.152738</td>\n",
       "    </tr>\n",
       "    <tr>\n",
       "      <th>num_gender</th>\n",
       "      <td>-0.100109</td>\n",
       "      <td>-0.111075</td>\n",
       "      <td>-0.040820</td>\n",
       "      <td>-0.017627</td>\n",
       "      <td>0.093947</td>\n",
       "      <td>0.020995</td>\n",
       "      <td>-0.029473</td>\n",
       "      <td>1.000000</td>\n",
       "      <td>0.002294</td>\n",
       "      <td>-0.004541</td>\n",
       "      <td>-0.001682</td>\n",
       "    </tr>\n",
       "    <tr>\n",
       "      <th>numNoshow</th>\n",
       "      <td>-0.101042</td>\n",
       "      <td>0.045687</td>\n",
       "      <td>-0.056859</td>\n",
       "      <td>-0.022412</td>\n",
       "      <td>0.019864</td>\n",
       "      <td>-0.007184</td>\n",
       "      <td>-0.020631</td>\n",
       "      <td>0.002294</td>\n",
       "      <td>1.000000</td>\n",
       "      <td>0.060362</td>\n",
       "      <td>-0.026916</td>\n",
       "    </tr>\n",
       "    <tr>\n",
       "      <th>Waitdays</th>\n",
       "      <td>-0.008608</td>\n",
       "      <td>-0.026177</td>\n",
       "      <td>-0.051121</td>\n",
       "      <td>-0.048246</td>\n",
       "      <td>-0.029137</td>\n",
       "      <td>-0.015865</td>\n",
       "      <td>0.201789</td>\n",
       "      <td>-0.004541</td>\n",
       "      <td>0.060362</td>\n",
       "      <td>1.000000</td>\n",
       "      <td>0.004081</td>\n",
       "    </tr>\n",
       "    <tr>\n",
       "      <th>month</th>\n",
       "      <td>0.019656</td>\n",
       "      <td>-0.007120</td>\n",
       "      <td>0.005187</td>\n",
       "      <td>0.000654</td>\n",
       "      <td>0.003908</td>\n",
       "      <td>0.000253</td>\n",
       "      <td>0.152738</td>\n",
       "      <td>-0.001682</td>\n",
       "      <td>-0.026916</td>\n",
       "      <td>0.004081</td>\n",
       "      <td>1.000000</td>\n",
       "    </tr>\n",
       "  </tbody>\n",
       "</table>\n",
       "</div>"
      ],
      "text/plain": [
       "                   Age  Scholarship  HyperTension  Diabetes  Alcoholism  \\\n",
       "Age           1.000000    -0.103038      0.500749  0.284477    0.080350   \n",
       "Scholarship  -0.103038     1.000000     -0.027764 -0.025417    0.030529   \n",
       "HyperTension  0.500749    -0.027764      1.000000  0.425614    0.085821   \n",
       "Diabetes      0.284477    -0.025417      0.425614  1.000000    0.024174   \n",
       "Alcoholism    0.080350     0.030529      0.085821  0.024174    1.000000   \n",
       "HandiCap      0.077141    -0.010446      0.083643  0.061513    0.013501   \n",
       "SMS_received -0.042537     0.020666     -0.037065 -0.031219   -0.009095   \n",
       "num_gender   -0.100109    -0.111075     -0.040820 -0.017627    0.093947   \n",
       "numNoshow    -0.101042     0.045687     -0.056859 -0.022412    0.019864   \n",
       "Waitdays     -0.008608    -0.026177     -0.051121 -0.048246   -0.029137   \n",
       "month         0.019656    -0.007120      0.005187  0.000654    0.003908   \n",
       "\n",
       "              HandiCap  SMS_received  num_gender  numNoshow  Waitdays  \\\n",
       "Age           0.077141     -0.042537   -0.100109  -0.101042 -0.008608   \n",
       "Scholarship  -0.010446      0.020666   -0.111075   0.045687 -0.026177   \n",
       "HyperTension  0.083643     -0.037065   -0.040820  -0.056859 -0.051121   \n",
       "Diabetes      0.061513     -0.031219   -0.017627  -0.022412 -0.048246   \n",
       "Alcoholism    0.013501     -0.009095    0.093947   0.019864 -0.029137   \n",
       "HandiCap      1.000000     -0.022107    0.020995  -0.007184 -0.015865   \n",
       "SMS_received -0.022107      1.000000   -0.029473  -0.020631  0.201789   \n",
       "num_gender    0.020995     -0.029473    1.000000   0.002294 -0.004541   \n",
       "numNoshow    -0.007184     -0.020631    0.002294   1.000000  0.060362   \n",
       "Waitdays     -0.015865      0.201789   -0.004541   0.060362  1.000000   \n",
       "month         0.000253      0.152738   -0.001682  -0.026916  0.004081   \n",
       "\n",
       "                 month  \n",
       "Age           0.019656  \n",
       "Scholarship  -0.007120  \n",
       "HyperTension  0.005187  \n",
       "Diabetes      0.000654  \n",
       "Alcoholism    0.003908  \n",
       "HandiCap      0.000253  \n",
       "SMS_received  0.152738  \n",
       "num_gender   -0.001682  \n",
       "numNoshow    -0.026916  \n",
       "Waitdays      0.004081  \n",
       "month         1.000000  "
      ]
     },
     "execution_count": 31,
     "metadata": {},
     "output_type": "execute_result"
    },
    {
     "data": {
      "image/png": "[encoded data removed]",
      "text/plain": [
       "<matplotlib.figure.Figure at 0x224b27522e8>"
      ]
     },
     "metadata": {},
     "output_type": "display_data"
    }
   ],
   "source": [
    "no_show_corr=no_show.drop(['PatientId','AppointmentID','No-show','Gender','age_bucket'],axis=1)\n",
    "corr=no_show_corr.corr()\n",
    "sns.heatmap(corr, vmax=1., square=False).xaxis.tick_top()\n",
    "plt.xticks(rotation=55)\n",
    "corr"
   ]
  },
  {
   "cell_type": "markdown",
   "metadata": {},
   "source": [
    "From the above correlation graph, there are no strong relationship to determine whether or not a patient will miss a visit (given by the numNoshows column). But there are moderate relationship between features.\n",
    "\n",
    "#### Moderate Positively Correlated Features:\n",
    "\n",
    "1. Age vs Hypertension: 0.500749\n",
    "2. Hypertension vs Diabetes:0.4256141q\n",
    "3. Diabetes Vs Age: 0.284477\n",
    "\n",
    "\n",
    "#### Stop and Think:\n",
    "\n",
    "1. What features affect our target variable the most (no_show)?\n",
    "2. What features have strong correlations with each other?\n",
    "3. Can we do a more in depth examination of these features?\n",
    "\n",
    "#### Summary:\n",
    "\n",
    "From the heatmap, there is a positive(+) correlation between Age, Hypertension, and Diabetes. Which could mean that the Age and certain health condition has impact on not showing up for the medical appointments.\n",
    "\n"
   ]
  },
  {
   "cell_type": "markdown",
   "metadata": {
    "collapsed": true
   },
   "source": [
    "###  Inferential Statistics"
   ]
  },
  {
   "cell_type": "markdown",
   "metadata": {},
   "source": [
    "### Analyzing relation between no-show and Gender"
   ]
  },
  {
   "cell_type": "code",
   "execution_count": 33,
   "metadata": {},
   "outputs": [
    {
     "data": {
      "text/plain": [
       "Ttest_indResult(statistic=27.865688525153512, pvalue=2.997656460913841e-169)"
      ]
     },
     "execution_count": 33,
     "metadata": {},
     "output_type": "execute_result"
    }
   ],
   "source": [
    "import scipy.stats as stats\n",
    "\n",
    "noshow = np.array(no_show.Age[no_show.numNoshow == 0])\n",
    "show = np.array(no_show.Age[no_show.numNoshow == 1])\n",
    "\n",
    "stats.ttest_ind(noshow,show,equal_var=False,nan_policy='omit')\n"
   ]
  },
  {
   "cell_type": "markdown",
   "metadata": {},
   "source": [
    "###### NULL HYPOTHESIS: \n",
    "There is no Gender effect regarding those who miss the appointmnet( Sample mean of male=sample mean of female)\n",
    "###### ALTERNATE HYPOTHESIS:\n",
    "There is Gender effect regarding those who miss the appointmnet( Sample mean of male != sample mean of female)"
   ]
  },
  {
   "cell_type": "code",
   "execution_count": 34,
   "metadata": {},
   "outputs": [
    {
     "data": {
      "text/plain": [
       "Ttest_indResult(statistic=-0.6147611485498676, pvalue=0.5387154102134005)"
      ]
     },
     "execution_count": 34,
     "metadata": {},
     "output_type": "execute_result"
    }
   ],
   "source": [
    "female = np.array(no_show.numNoshow[no_show.Gender == 'F'])\n",
    "male = np.array(no_show.numNoshow[no_show.Gender == 'M'])\n",
    "\n",
    "stats.ttest_ind(female,male,equal_var=False)"
   ]
  },
  {
   "cell_type": "markdown",
   "metadata": {},
   "source": [
    "p-value=0.53 > 0.05 (significance level) so we can not reject the null hypothesis, which implies There is no Geneder effect on no-show."
   ]
  },
  {
   "cell_type": "markdown",
   "metadata": {},
   "source": [
    "### Month analysis\n",
    "#### NULL HYPOTHESIS: \n",
    "There is no month effect on no-shows ( sample means of all the months are same)\n",
    "#### ALTERNATE HYPOTHESIS: \n",
    "There is effect of month on no-shows ( some of sample means of the months are not same)"
   ]
  },
  {
   "cell_type": "code",
   "execution_count": 35,
   "metadata": {},
   "outputs": [],
   "source": [
    "import calendar    \n",
    "monthName = no_show['month'].apply(lambda x: calendar.month_name[x])\n",
    "monthName=monthName.unique()"
   ]
  },
  {
   "cell_type": "code",
   "execution_count": 36,
   "metadata": {},
   "outputs": [
    {
     "data": {
      "text/plain": [
       "F_onewayResult(statistic=37.52590631278254, pvalue=5.142795870259545e-17)"
      ]
     },
     "execution_count": 36,
     "metadata": {},
     "output_type": "execute_result"
    }
   ],
   "source": [
    "anova_month = pd.DataFrame({\"month\":no_show['month'].apply(lambda x: calendar.month_name[x]),\"noshow\":no_show['numNoshow']})\n",
    "groups = anova_month.groupby(\"month\").groups\n",
    "\n",
    "# Etract individual groups\n",
    "April = no_show['numNoshow'][groups[\"April\"]]\n",
    "May = no_show['numNoshow'][groups[\"May\"]]\n",
    "June = no_show['numNoshow'][groups[\"June\"]]\n",
    "\n",
    "# Perform the ANOVA\n",
    "stats.f_oneway(April,May,June)"
   ]
  },
  {
   "cell_type": "markdown",
   "metadata": {},
   "source": [
    "Based on P-Value, which is less than significant value=0.05 we can reject the NULL hypothesis.so some of the sample means of the months is different.We can not determine for which month sample mean is different.\n",
    "\n",
    "Post-hoc test is used to find for which month sample mean is different."
   ]
  },
  {
   "cell_type": "markdown",
   "metadata": {},
   "source": [
    "### post-hoc test is to perform a separate t-test for each pair of groups."
   ]
  },
  {
   "cell_type": "code",
   "execution_count": 37,
   "metadata": {},
   "outputs": [
    {
     "name": "stdout",
     "output_type": "stream",
     "text": [
      "April May\n",
      "Ttest_indResult(statistic=-1.8613099987694142, pvalue=0.06270578092378136)\n",
      "April June\n",
      "Ttest_indResult(statistic=1.551562333784281, pvalue=0.120783188498355)\n",
      "May June\n",
      "Ttest_indResult(statistic=8.599715216162453, pvalue=8.153741138839527e-18)\n"
     ]
    }
   ],
   "source": [
    "# Get all month pairs\n",
    "month_pairs = []\n",
    "\n",
    "for month1 in range(2):\n",
    "    for month2  in range(month1+1,3):\n",
    "        month_pairs.append((monthName[month1], monthName[month2]))\n",
    "\n",
    "# Conduct t-test on each pair\n",
    "for month1, month2 in month_pairs: \n",
    "    print(month1, month2)\n",
    "    print(stats.ttest_ind(no_show['numNoshow'][groups[month1]], \n",
    "                          no_show['numNoshow'][groups[month2]]))"
   ]
  },
  {
   "cell_type": "markdown",
   "metadata": {},
   "source": [
    "Based on P-value of month pairs, may,june pair has sample mean different.\n",
    "corrected significance level=0.05/3 is 0.017."
   ]
  },
  {
   "cell_type": "markdown",
   "metadata": {},
   "source": [
    "### Weekday analysis\n",
    "\n",
    "#### NULL HYPOTHESIS: \n",
    "There is no weekday effect on no-shows ( sample means of all the weekdays are same)\n",
    "#### ALTERNATE HYPOTHESIS: \n",
    "There is effect of weekday on no-shows ( some of sample means of the weekdays are not same)"
   ]
  },
  {
   "cell_type": "code",
   "execution_count": 38,
   "metadata": {},
   "outputs": [
    {
     "data": {
      "text/plain": [
       "F_onewayResult(statistic=9.879047432367775, pvalue=1.856359294046764e-09)"
      ]
     },
     "execution_count": 38,
     "metadata": {},
     "output_type": "execute_result"
    }
   ],
   "source": [
    "weekday_df = pd.DataFrame({\"day\":no_show['day'],\"noshow\":no_show['numNoshow']})\n",
    "groups = weekday_df.groupby(\"day\").groups\n",
    "weekday=no_show['day'].unique()\n",
    "# Etract individual groups\n",
    "Monday = no_show['numNoshow'][groups[\"Monday\"]]\n",
    "Tuesday = no_show['numNoshow'][groups[\"Tuesday\"]]\n",
    "Wednesday = no_show['numNoshow'][groups[\"Wednesday\"]]\n",
    "Thursday = no_show['numNoshow'][groups[\"Thursday\"]]\n",
    "Friday = no_show['numNoshow'][groups[\"Friday\"]]\n",
    "Saturday = no_show['numNoshow'][groups[\"Saturday\"]]\n",
    "\n",
    "\n",
    "# Perform the ANOVA\n",
    "stats.f_oneway(Monday,Tuesday,Wednesday,Thursday,Friday,Saturday)"
   ]
  },
  {
   "cell_type": "code",
   "execution_count": 39,
   "metadata": {},
   "outputs": [
    {
     "name": "stdout",
     "output_type": "stream",
     "text": [
      "Friday Tuesday\n",
      "Ttest_indResult(statistic=1.2797265776694875, pvalue=0.20065156005636003)\n",
      "Friday Monday\n",
      "Ttest_indResult(statistic=-1.5359043255771103, pvalue=0.12457352358369456)\n",
      "Friday Thursday\n",
      "Ttest_indResult(statistic=3.571345759579587, pvalue=0.00035585077595550146)\n",
      "Friday Wednesday\n",
      "Ttest_indResult(statistic=4.173093844069573, pvalue=3.013495664744456e-05)\n",
      "Friday Saturday\n",
      "Ttest_indResult(statistic=0.03933833870856801, pvalue=0.9686212663653202)\n",
      "Tuesday Monday\n",
      "Ttest_indResult(statistic=-2.981660027868892, pvalue=0.0028691260139372433)\n",
      "Tuesday Thursday\n",
      "Ttest_indResult(statistic=2.549567482901516, pvalue=0.010790986246464636)\n",
      "Tuesday Wednesday\n",
      "Ttest_indResult(statistic=3.0990587846988196, pvalue=0.001942972172025406)\n",
      "Tuesday Saturday\n",
      "Ttest_indResult(statistic=-0.045048048162892505, pvalue=0.9640695563444217)\n",
      "Monday Thursday\n",
      "Ttest_indResult(statistic=5.185450327199812, pvalue=2.171123907394002e-07)\n",
      "Monday Wednesday\n",
      "Ttest_indResult(statistic=6.014792789302468, pvalue=1.8209176971818199e-09)\n",
      "Monday Saturday\n",
      "Ttest_indResult(statistic=0.14271788552608383, pvalue=0.8865149587725943)\n",
      "Thursday Wednesday\n",
      "Ttest_indResult(statistic=0.22193534335401455, pvalue=0.8243658141541755)\n",
      "Thursday Saturday\n",
      "Ttest_indResult(statistic=-0.22035483375974643, pvalue=0.825598780133533)\n",
      "Wednesday Saturday\n",
      "Ttest_indResult(statistic=-0.23574381216707244, pvalue=0.8136342983334318)\n"
     ]
    }
   ],
   "source": [
    "# Get all weekday pairs\n",
    "weekday_pairs = []\n",
    "\n",
    "for wkday1 in range(5):\n",
    "    for wkday2  in range(wkday1+1,6):\n",
    "        weekday_pairs.append((weekday[wkday1], weekday[wkday2]))\n",
    "\n",
    "# Conduct t-test on each pair\n",
    "for wkday1,wkday2 in weekday_pairs: \n",
    "    print(wkday1,wkday2)\n",
    "    print(stats.ttest_ind(no_show['numNoshow'][groups[wkday1]], \n",
    "                          no_show['numNoshow'][groups[wkday2]]))"
   ]
  },
  {
   "cell_type": "markdown",
   "metadata": {},
   "source": [
    "corrected significance level=0.05/15 is 0.003. "
   ]
  },
  {
   "cell_type": "markdown",
   "metadata": {},
   "source": [
    "### Analyzing between no-show ups and health condition\n",
    "\n",
    "#### NULL HYPOTHESIS: \n",
    "There is no effect between health condition and no-shows ( sample means of all the health conditions is same)\n",
    "#### ALTERNATE HYPOTHESIS: \n",
    "There is some effect between health condition and no-shows ( some of sample means of the weekdays are not same)"
   ]
  },
  {
   "cell_type": "code",
   "execution_count": 40,
   "metadata": {},
   "outputs": [
    {
     "data": {
      "text/plain": [
       "F_onewayResult(statistic=7873.567420542818, pvalue=0.0)"
      ]
     },
     "execution_count": 40,
     "metadata": {},
     "output_type": "execute_result"
    }
   ],
   "source": [
    "stats.f_oneway(no_show['HyperTension'],no_show['Diabetes'],no_show['Alcoholism'],no_show['HandiCap'])\n",
    " "
   ]
  },
  {
   "cell_type": "markdown",
   "metadata": {},
   "source": [
    "Based on the P-value, we can not reject the NULL hypothesis, which means there is no effect between health condition and no-shows"
   ]
  },
  {
   "cell_type": "markdown",
   "metadata": {},
   "source": [
    "### Analyzing between SMS and  patient's no-show rate\n",
    "\n",
    "#### NULL HYPOTHESIS: \n",
    "There is no effect between SMS-received and no-shows ( sample mean of SMS-received = sample mean of no-show)\n",
    "#### ALTERNATE HYPOTHESIS: \n",
    "There is some effect between SMS-received and no-shows ( sample mean of SMS-received != sample mean of no-show)\n"
   ]
  },
  {
   "cell_type": "code",
   "execution_count": 41,
   "metadata": {},
   "outputs": [
    {
     "name": "stderr",
     "output_type": "stream",
     "text": [
      "C:\\Users\\Lenovo\\Anaconda3\\lib\\site-packages\\ipykernel_launcher.py:6: DeprecationWarning: \n",
      ".ix is deprecated. Please use\n",
      ".loc for label based indexing or\n",
      ".iloc for positional indexing\n",
      "\n",
      "See the documentation here:\n",
      "http://pandas.pydata.org/pandas-docs/stable/indexing.html#ix-indexer-is-deprecated\n",
      "  \n"
     ]
    },
    {
     "data": {
      "text/html": [
       "<div>\n",
       "<style scoped>\n",
       "    .dataframe tbody tr th:only-of-type {\n",
       "        vertical-align: middle;\n",
       "    }\n",
       "\n",
       "    .dataframe tbody tr th {\n",
       "        vertical-align: top;\n",
       "    }\n",
       "\n",
       "    .dataframe thead th {\n",
       "        text-align: right;\n",
       "    }\n",
       "</style>\n",
       "<table border=\"1\" class=\"dataframe\">\n",
       "  <thead>\n",
       "    <tr style=\"text-align: right;\">\n",
       "      <th></th>\n",
       "      <th>sms</th>\n",
       "      <th>no-sms</th>\n",
       "    </tr>\n",
       "  </thead>\n",
       "  <tbody>\n",
       "    <tr>\n",
       "      <th>show</th>\n",
       "      <td>25739</td>\n",
       "      <td>10738</td>\n",
       "    </tr>\n",
       "    <tr>\n",
       "      <th>no-show</th>\n",
       "      <td>25698</td>\n",
       "      <td>9784</td>\n",
       "    </tr>\n",
       "  </tbody>\n",
       "</table>\n",
       "</div>"
      ],
      "text/plain": [
       "           sms  no-sms\n",
       "show     25739   10738\n",
       "no-show  25698    9784"
      ]
     },
     "execution_count": 41,
     "metadata": {},
     "output_type": "execute_result"
    }
   ],
   "source": [
    "sms_df = pd.DataFrame({\"SMS\":no_show['SMS_received'],\"noshow\":no_show['numNoshow']})\n",
    "sms_tab = pd.crosstab(sms_df.SMS, sms_df.noshow, margins = True)\n",
    "sms_tab.columns = [\"sms\",\"no-sms\", \"row_totals\"]\n",
    "sms_tab.index = [\"show\",\"no-show\",\"col_totals\"]\n",
    "\n",
    "observed =sms_tab.ix[0:2,0:2]   # Get table without totals for later use\n",
    "observed"
   ]
  },
  {
   "cell_type": "code",
   "execution_count": 42,
   "metadata": {},
   "outputs": [
    {
     "data": {
      "text/html": [
       "<div>\n",
       "<style scoped>\n",
       "    .dataframe tbody tr th:only-of-type {\n",
       "        vertical-align: middle;\n",
       "    }\n",
       "\n",
       "    .dataframe tbody tr th {\n",
       "        vertical-align: top;\n",
       "    }\n",
       "\n",
       "    .dataframe thead th {\n",
       "        text-align: right;\n",
       "    }\n",
       "</style>\n",
       "<table border=\"1\" class=\"dataframe\">\n",
       "  <thead>\n",
       "    <tr style=\"text-align: right;\">\n",
       "      <th></th>\n",
       "      <th>sms</th>\n",
       "      <th>no-sms</th>\n",
       "    </tr>\n",
       "  </thead>\n",
       "  <tbody>\n",
       "    <tr>\n",
       "      <th>show</th>\n",
       "      <td>26074.117887</td>\n",
       "      <td>10402.882113</td>\n",
       "    </tr>\n",
       "    <tr>\n",
       "      <th>no-show</th>\n",
       "      <td>25362.882113</td>\n",
       "      <td>10119.117887</td>\n",
       "    </tr>\n",
       "  </tbody>\n",
       "</table>\n",
       "</div>"
      ],
      "text/plain": [
       "                  sms        no-sms\n",
       "show     26074.117887  10402.882113\n",
       "no-show  25362.882113  10119.117887"
      ]
     },
     "execution_count": 42,
     "metadata": {},
     "output_type": "execute_result"
    }
   ],
   "source": [
    "count=no_show['SMS_received'].count()\n",
    "expected =  np.outer(sms_tab[\"row_totals\"][0:2],\n",
    "                     sms_tab.ix[\"col_totals\"][0:2]) / count\n",
    "expected = pd.DataFrame(expected)\n",
    "\n",
    "expected.columns = [\"sms\",\"no-sms\"]\n",
    "expected.index = [\"show\",\"no-show\"]\n",
    "\n",
    "expected"
   ]
  },
  {
   "cell_type": "code",
   "execution_count": 43,
   "metadata": {},
   "outputs": [
    {
     "name": "stdout",
     "output_type": "stream",
     "text": [
      "30.62866418363049\n"
     ]
    }
   ],
   "source": [
    "chi_squared_stat = (((observed-expected)**2)/expected).sum().sum()\n",
    "\n",
    "print(chi_squared_stat)"
   ]
  },
  {
   "cell_type": "code",
   "execution_count": 44,
   "metadata": {},
   "outputs": [
    {
     "name": "stdout",
     "output_type": "stream",
     "text": [
      "Critical value\n",
      "3.8414588206941236\n",
      "P value\n",
      "3.1244352549641974e-08\n"
     ]
    }
   ],
   "source": [
    "\n",
    "crit = stats.chi2.ppf(q = 0.95, # Find the critical value for 95% confidence* Find t \n",
    "                      df = 1)   # *\n",
    "\n",
    "print(\"Critical value\")\n",
    "print(crit)\n",
    "\n",
    "p_value = 1 - stats.chi2.cdf(x=chi_squared_stat,  # Find the p-value\n",
    "                             df=1)\n",
    "print(\"P value\")\n",
    "print(p_value)"
   ]
  },
  {
   "cell_type": "markdown",
   "metadata": {},
   "source": [
    "P-value is less than 0.05,we can reject the NULL hypothesis. Which means there is some effect of SMS and no_shows. \n",
    "\n"
   ]
  },
  {
   "cell_type": "markdown",
   "metadata": {},
   "source": [
    "### analyzing no-show up and scholarships\n",
    "\n",
    "NULL HYPOTHESIS: There is no effect between scholarship and no-shows ( sample mean of scholarship = sample mean of no-show)\n",
    "ALTERNATE HYPOTHESIS: There is some effect between scholarship and no-shows ( sample mean of scholarship != sample mean of no-show)"
   ]
  },
  {
   "cell_type": "code",
   "execution_count": 45,
   "metadata": {},
   "outputs": [
    {
     "name": "stderr",
     "output_type": "stream",
     "text": [
      "C:\\Users\\Lenovo\\Anaconda3\\lib\\site-packages\\ipykernel_launcher.py:5: DeprecationWarning: \n",
      ".ix is deprecated. Please use\n",
      ".loc for label based indexing or\n",
      ".iloc for positional indexing\n",
      "\n",
      "See the documentation here:\n",
      "http://pandas.pydata.org/pandas-docs/stable/indexing.html#ix-indexer-is-deprecated\n",
      "  \"\"\"\n"
     ]
    },
    {
     "data": {
      "text/html": [
       "<div>\n",
       "<style scoped>\n",
       "    .dataframe tbody tr th:only-of-type {\n",
       "        vertical-align: middle;\n",
       "    }\n",
       "\n",
       "    .dataframe tbody tr th {\n",
       "        vertical-align: top;\n",
       "    }\n",
       "\n",
       "    .dataframe thead th {\n",
       "        text-align: right;\n",
       "    }\n",
       "</style>\n",
       "<table border=\"1\" class=\"dataframe\">\n",
       "  <thead>\n",
       "    <tr style=\"text-align: right;\">\n",
       "      <th></th>\n",
       "      <th>Scholarship</th>\n",
       "      <th>no-Scholarship</th>\n",
       "    </tr>\n",
       "  </thead>\n",
       "  <tbody>\n",
       "    <tr>\n",
       "      <th>show</th>\n",
       "      <td>47099</td>\n",
       "      <td>18189</td>\n",
       "    </tr>\n",
       "    <tr>\n",
       "      <th>no-show</th>\n",
       "      <td>4338</td>\n",
       "      <td>2333</td>\n",
       "    </tr>\n",
       "  </tbody>\n",
       "</table>\n",
       "</div>"
      ],
      "text/plain": [
       "         Scholarship  no-Scholarship\n",
       "show           47099           18189\n",
       "no-show         4338            2333"
      ]
     },
     "execution_count": 45,
     "metadata": {},
     "output_type": "execute_result"
    }
   ],
   "source": [
    "Scholarship_tab = pd.crosstab(no_show['Scholarship'], no_show['numNoshow'], margins = True)\n",
    "Scholarship_tab.columns = [\"Scholarship\",\"no-Scholarship\", \"row_totals\"]\n",
    "Scholarship_tab.index = [\"show\",\"no-show\",\"col_totals\"]\n",
    "\n",
    "observed =Scholarship_tab.ix[0:2,0:2]   # Get table without totals for later use\n",
    "observed"
   ]
  },
  {
   "cell_type": "code",
   "execution_count": 46,
   "metadata": {},
   "outputs": [
    {
     "data": {
      "text/html": [
       "<div>\n",
       "<style scoped>\n",
       "    .dataframe tbody tr th:only-of-type {\n",
       "        vertical-align: middle;\n",
       "    }\n",
       "\n",
       "    .dataframe tbody tr th {\n",
       "        vertical-align: top;\n",
       "    }\n",
       "\n",
       "    .dataframe thead th {\n",
       "        text-align: right;\n",
       "    }\n",
       "</style>\n",
       "<table border=\"1\" class=\"dataframe\">\n",
       "  <thead>\n",
       "    <tr style=\"text-align: right;\">\n",
       "      <th></th>\n",
       "      <th>Scholarship</th>\n",
       "      <th>no-Scholarship</th>\n",
       "    </tr>\n",
       "  </thead>\n",
       "  <tbody>\n",
       "    <tr>\n",
       "      <th>show</th>\n",
       "      <td>46668.503676</td>\n",
       "      <td>18619.496324</td>\n",
       "    </tr>\n",
       "    <tr>\n",
       "      <th>no-show</th>\n",
       "      <td>4768.496324</td>\n",
       "      <td>1902.503676</td>\n",
       "    </tr>\n",
       "  </tbody>\n",
       "</table>\n",
       "</div>"
      ],
      "text/plain": [
       "          Scholarship  no-Scholarship\n",
       "show     46668.503676    18619.496324\n",
       "no-show   4768.496324     1902.503676"
      ]
     },
     "execution_count": 46,
     "metadata": {},
     "output_type": "execute_result"
    }
   ],
   "source": [
    "count=no_show['SMS_received'].count()\n",
    "expected =  np.outer(Scholarship_tab[\"row_totals\"][0:2],\n",
    "                     Scholarship_tab.ix[\"col_totals\"][0:2]) / count\n",
    "expected = pd.DataFrame(expected)\n",
    "\n",
    "expected.columns = [\"Scholarship\",\"no-Scholarship\"]\n",
    "expected.index = [\"show\",\"no-show\"]\n",
    "\n",
    "expected"
   ]
  },
  {
   "cell_type": "code",
   "execution_count": 47,
   "metadata": {},
   "outputs": [
    {
     "name": "stdout",
     "output_type": "stream",
     "text": [
      "150.20162590097152\n"
     ]
    }
   ],
   "source": [
    "chi_squared_stat = (((observed-expected)**2)/expected).sum().sum()\n",
    "\n",
    "print(chi_squared_stat)"
   ]
  },
  {
   "cell_type": "code",
   "execution_count": 48,
   "metadata": {},
   "outputs": [
    {
     "name": "stdout",
     "output_type": "stream",
     "text": [
      "Critical value\n",
      "3.8414588206941236\n",
      "P value\n",
      "0.0\n"
     ]
    }
   ],
   "source": [
    "\n",
    "crit = stats.chi2.ppf(q = 0.95, # Find the critical value for 95% confidence\n",
    "                      df = 1)  \n",
    "\n",
    "print(\"Critical value\")\n",
    "print(crit)\n",
    "\n",
    "p_value = 1 - stats.chi2.cdf(x=chi_squared_stat,  # Find the p-value\n",
    "                             df=1)\n",
    "print(\"P value\")\n",
    "print(p_value)"
   ]
  },
  {
   "cell_type": "markdown",
   "metadata": {},
   "source": [
    "based on p-value, we can't  reject NULL hypothesis, which implies there is no relation between scholarship and no-shows."
   ]
  },
  {
   "cell_type": "markdown",
   "metadata": {},
   "source": [
    "#### Limitations\n",
    "It appears that the dataset is only based on 27 unique dates worth of data spread over April, May and June (27 unique dates in AppointmentDay) and therefore it doesn't provide a representative sample for predicting whether a patient is likely to not show up on a date outside of those 27 days. If the data was based on October, November and December the conclusions drawn might have been different and the features in feature selection may also have been completely different. \n",
    "\n",
    "Missing features which may have been useful to this analysis could be whether a patient in the past has been a no-show, or a patient's post-code, or whether the patient is employed or unemployed or even the reason they scheduled an appointment."
   ]
  },
  {
   "cell_type": "markdown",
   "metadata": {},
   "source": [
    "#### Conclusion\n",
    "\n",
    "We have looked at most of the columns in our data set. Some of them show relationships with whether the patient showed up to the appointment, to various degrees, and also between themselves.\n",
    "\n",
    "SMS_received, month,weekday and no_show exhibit interrelationships. This will be an important consideration in further studies on the prediction of no_show.\n",
    "\n",
    "Various boolean attributes like diabetes and hypertension exhibit interrelationships together with age_group and no_show."
   ]
  },
  {
   "cell_type": "code",
   "execution_count": null,
   "metadata": {},
   "outputs": [],
   "source": []
  }
 ],
 "metadata": {
  "kernelspec": {
   "display_name": "Python 3",
   "language": "python",
   "name": "python3"
  },
  "language_info": {
   "codemirror_mode": {
    "name": "ipython",
    "version": 3
   },
   "file_extension": ".py",
   "mimetype": "text/x-python",
   "name": "python",
   "nbconvert_exporter": "python",
   "pygments_lexer": "ipython3",
   "version": "3.6.4"
  }
 },
 "nbformat": 4,
 "nbformat_minor": 2
}
