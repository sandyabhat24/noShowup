{
 "cells": [
  {
   "cell_type": "markdown",
   "metadata": {},
   "source": [
    "## Background\n",
    "\n",
    "Managing missed patient appointments represent a challenge for those working in\n",
    "health care systems.Non-attendance at appointments decreases healthcare revenue, causes suboptimal use of clinical and administrative staff, can impact wait times for patients, and negatively affects continuity of care.\n",
    "The first step to solving the problem of missed appointments is identifying why a patient skips a scheduled visit in the first place. What trends are there among patients with higher absence rates? Are there demographic indicators or perhaps time-variant relationships hiding in the data? Ultimately, it was these questions that drove my exploratory data analysis. I was curious as to the reasons behind missed appointments, and wanted to examine the data to identify any trends present. I choose this problem because I believe it is an excellent example of how data science and analysis can reveal relationships which can be implemented in the real-world to the benefit of society."
   ]
  },
  {
   "cell_type": "markdown",
   "metadata": {},
   "source": [
    "## Introduction to Dataset\n",
    "\n",
    "I wanted to choose a dataset that was both relatable and could be used to make \n",
    "smarter decisions. Therefore, I decided to work with medical appointment no shows \n",
    "data available on Kaggle.\n",
    "There were a total of 14 variables I included from the original data. The variables and the description of the values are as follows:\n",
    "1. PatientId: unique ID associated with a patient\n",
    "2. AppointmentID: unique ID for each appointment.\n",
    "3. Gender:  M or F\n",
    "4. ScheduledDay :  date and time appointment was Scheduled.    \n",
    "5. AppointmentDay : date of appointment without time.\n",
    "6. Age : Integer age of patient.         \n",
    "7. Neighbourhood :  Neighbourhood of the hospital.  \n",
    "8. Scholarship : 0 or 1 indicating whether the family of the patient takes part in the Bolsa Familia Program     \n",
    "9. HyperTension  :0 or 1 for condition\n",
    "10. Diabetes  :  0 or 1 for condition (1 means patient was scheduled to treat condition)       \n",
    "11. Alcoholism :  0 or 1 for condition    \n",
    "12. HandiCap  : 0 or 1 for condition       \n",
    "13. SMS_received  :  0 or 1 (1 for sending remainder)\n",
    "14. No-show :  'Yes'/'No'\n"
   ]
  },
  {
   "cell_type": "markdown",
   "metadata": {},
   "source": [
    "import necessary libraries"
   ]
  },
  {
   "cell_type": "code",
   "execution_count": 1,
   "metadata": {},
   "outputs": [
    {
     "data": {
      "text/html": [
       "<style>.container { width:95% !important; }</style>"
      ],
      "text/plain": [
       "<IPython.core.display.HTML object>"
      ]
     },
     "metadata": {},
     "output_type": "display_data"
    }
   ],
   "source": [
    "# make jupyter cells wider\n",
    "\n",
    "from IPython.core.display import display, HTML\n",
    "display(HTML(\"<style>.container { width:95% !important; }</style>\"))\n",
    "\n",
    "import datetime as datetime\n",
    "from sklearn import preprocessing\n",
    "%matplotlib inline\n",
    "import pandas as pd\n",
    "import matplotlib.pyplot as plt\n",
    "import seaborn as sns\n",
    "import numpy as np\n",
    "from itertools import combinations\n",
    "from scipy.stats import chi2_contingency\n",
    "from copy import deepcopy\n",
    "\n",
    "from sklearn.model_selection import train_test_split, cross_val_score, GridSearchCV\n",
    "from sklearn.linear_model import LogisticRegression\n",
    "from sklearn.ensemble import RandomForestClassifier\n",
    "from sklearn.metrics import confusion_matrix,accuracy_score, f1_score, roc_auc_score, classification_report, cohen_kappa_score, precision_score, recall_score\n",
    "from sklearn.dummy import DummyClassifier\n",
    "from sklearn.neural_network import MLPClassifier\n",
    "from sklearn.svm import SVC\n",
    "from sklearn.model_selection import RandomizedSearchCV\n",
    "\n",
    "\n",
    "\n",
    "import matplotlib\n",
    "#matplotlib.style.use('ggplot')\n",
    "sns.set(font_scale=1.5)"
   ]
  },
  {
   "cell_type": "code",
   "execution_count": 71,
   "metadata": {
    "scrolled": true
   },
   "outputs": [
    {
     "data": {
      "text/html": [
       "<div>\n",
       "<style scoped>\n",
       "    .dataframe tbody tr th:only-of-type {\n",
       "        vertical-align: middle;\n",
       "    }\n",
       "\n",
       "    .dataframe tbody tr th {\n",
       "        vertical-align: top;\n",
       "    }\n",
       "\n",
       "    .dataframe thead th {\n",
       "        text-align: right;\n",
       "    }\n",
       "</style>\n",
       "<table border=\"1\" class=\"dataframe\">\n",
       "  <thead>\n",
       "    <tr style=\"text-align: right;\">\n",
       "      <th></th>\n",
       "      <th>PatientId</th>\n",
       "      <th>AppointmentID</th>\n",
       "      <th>Gender</th>\n",
       "      <th>ScheduledDay</th>\n",
       "      <th>AppointmentDay</th>\n",
       "      <th>Age</th>\n",
       "      <th>Neighbourhood</th>\n",
       "      <th>Scholarship</th>\n",
       "      <th>Hipertension</th>\n",
       "      <th>Diabetes</th>\n",
       "      <th>Alcoholism</th>\n",
       "      <th>Handcap</th>\n",
       "      <th>SMS_received</th>\n",
       "      <th>No-show</th>\n",
       "    </tr>\n",
       "  </thead>\n",
       "  <tbody>\n",
       "    <tr>\n",
       "      <th>0</th>\n",
       "      <td>2.987250e+13</td>\n",
       "      <td>5642903</td>\n",
       "      <td>F</td>\n",
       "      <td>2016-04-29T18:38:08Z</td>\n",
       "      <td>2016-04-29T00:00:00Z</td>\n",
       "      <td>62</td>\n",
       "      <td>JARDIM DA PENHA</td>\n",
       "      <td>0</td>\n",
       "      <td>1</td>\n",
       "      <td>0</td>\n",
       "      <td>0</td>\n",
       "      <td>0</td>\n",
       "      <td>0</td>\n",
       "      <td>No</td>\n",
       "    </tr>\n",
       "    <tr>\n",
       "      <th>1</th>\n",
       "      <td>5.589978e+14</td>\n",
       "      <td>5642503</td>\n",
       "      <td>M</td>\n",
       "      <td>2016-04-29T16:08:27Z</td>\n",
       "      <td>2016-04-29T00:00:00Z</td>\n",
       "      <td>56</td>\n",
       "      <td>JARDIM DA PENHA</td>\n",
       "      <td>0</td>\n",
       "      <td>0</td>\n",
       "      <td>0</td>\n",
       "      <td>0</td>\n",
       "      <td>0</td>\n",
       "      <td>0</td>\n",
       "      <td>No</td>\n",
       "    </tr>\n",
       "    <tr>\n",
       "      <th>2</th>\n",
       "      <td>4.262962e+12</td>\n",
       "      <td>5642549</td>\n",
       "      <td>F</td>\n",
       "      <td>2016-04-29T16:19:04Z</td>\n",
       "      <td>2016-04-29T00:00:00Z</td>\n",
       "      <td>62</td>\n",
       "      <td>MATA DA PRAIA</td>\n",
       "      <td>0</td>\n",
       "      <td>0</td>\n",
       "      <td>0</td>\n",
       "      <td>0</td>\n",
       "      <td>0</td>\n",
       "      <td>0</td>\n",
       "      <td>No</td>\n",
       "    </tr>\n",
       "    <tr>\n",
       "      <th>3</th>\n",
       "      <td>8.679512e+11</td>\n",
       "      <td>5642828</td>\n",
       "      <td>F</td>\n",
       "      <td>2016-04-29T17:29:31Z</td>\n",
       "      <td>2016-04-29T00:00:00Z</td>\n",
       "      <td>8</td>\n",
       "      <td>PONTAL DE CAMBURI</td>\n",
       "      <td>0</td>\n",
       "      <td>0</td>\n",
       "      <td>0</td>\n",
       "      <td>0</td>\n",
       "      <td>0</td>\n",
       "      <td>0</td>\n",
       "      <td>No</td>\n",
       "    </tr>\n",
       "    <tr>\n",
       "      <th>4</th>\n",
       "      <td>8.841186e+12</td>\n",
       "      <td>5642494</td>\n",
       "      <td>F</td>\n",
       "      <td>2016-04-29T16:07:23Z</td>\n",
       "      <td>2016-04-29T00:00:00Z</td>\n",
       "      <td>56</td>\n",
       "      <td>JARDIM DA PENHA</td>\n",
       "      <td>0</td>\n",
       "      <td>1</td>\n",
       "      <td>1</td>\n",
       "      <td>0</td>\n",
       "      <td>0</td>\n",
       "      <td>0</td>\n",
       "      <td>No</td>\n",
       "    </tr>\n",
       "  </tbody>\n",
       "</table>\n",
       "</div>"
      ],
      "text/plain": [
       "      PatientId  AppointmentID Gender          ScheduledDay  \\\n",
       "0  2.987250e+13        5642903      F  2016-04-29T18:38:08Z   \n",
       "1  5.589978e+14        5642503      M  2016-04-29T16:08:27Z   \n",
       "2  4.262962e+12        5642549      F  2016-04-29T16:19:04Z   \n",
       "3  8.679512e+11        5642828      F  2016-04-29T17:29:31Z   \n",
       "4  8.841186e+12        5642494      F  2016-04-29T16:07:23Z   \n",
       "\n",
       "         AppointmentDay  Age      Neighbourhood  Scholarship  Hipertension  \\\n",
       "0  2016-04-29T00:00:00Z   62    JARDIM DA PENHA            0             1   \n",
       "1  2016-04-29T00:00:00Z   56    JARDIM DA PENHA            0             0   \n",
       "2  2016-04-29T00:00:00Z   62      MATA DA PRAIA            0             0   \n",
       "3  2016-04-29T00:00:00Z    8  PONTAL DE CAMBURI            0             0   \n",
       "4  2016-04-29T00:00:00Z   56    JARDIM DA PENHA            0             1   \n",
       "\n",
       "   Diabetes  Alcoholism  Handcap  SMS_received No-show  \n",
       "0         0           0        0             0      No  \n",
       "1         0           0        0             0      No  \n",
       "2         0           0        0             0      No  \n",
       "3         0           0        0             0      No  \n",
       "4         1           0        0             0      No  "
      ]
     },
     "execution_count": 71,
     "metadata": {},
     "output_type": "execute_result"
    }
   ],
   "source": [
    "no_showup=pd.read_csv('C:/Users/Lenovo/Downloads/noshowappointments/KaggleV2-May-2016.csv')\n",
    "no_showup.head()"
   ]
  },
  {
   "cell_type": "markdown",
   "metadata": {},
   "source": [
    "## Data wrangling:\n",
    "\n",
    "Let’s take a look at the structure of the dataframe to identify cleaning that may need to be performed. I am renaming few of the columns to appropriate names. data is already clean without any missing values."
   ]
  },
  {
   "cell_type": "code",
   "execution_count": 72,
   "metadata": {
    "scrolled": false
   },
   "outputs": [
    {
     "data": {
      "text/plain": [
       "Index(['PatientId', 'AppointmentID', 'Gender', 'ScheduledDay',\n",
       "       'AppointmentDay', 'Age', 'Neighbourhood', 'Scholarship', 'HyperTension',\n",
       "       'Diabetes', 'Alcoholism', 'HandiCap', 'SMS_received', 'no_show'],\n",
       "      dtype='object')"
      ]
     },
     "execution_count": 72,
     "metadata": {},
     "output_type": "execute_result"
    }
   ],
   "source": [
    "no_showup.rename(columns = {'Hipertension':'HyperTension' , 'Handcap':'HandiCap','No-show':'no_show'},inplace=True)\n",
    "no_showup.columns"
   ]
  },
  {
   "cell_type": "code",
   "execution_count": 73,
   "metadata": {
    "scrolled": true
   },
   "outputs": [
    {
     "name": "stdout",
     "output_type": "stream",
     "text": [
      "<class 'pandas.core.frame.DataFrame'>\n",
      "RangeIndex: 110527 entries, 0 to 110526\n",
      "Data columns (total 14 columns):\n",
      "PatientId         110527 non-null float64\n",
      "AppointmentID     110527 non-null int64\n",
      "Gender            110527 non-null object\n",
      "ScheduledDay      110527 non-null object\n",
      "AppointmentDay    110527 non-null object\n",
      "Age               110527 non-null int64\n",
      "Neighbourhood     110527 non-null object\n",
      "Scholarship       110527 non-null int64\n",
      "HyperTension      110527 non-null int64\n",
      "Diabetes          110527 non-null int64\n",
      "Alcoholism        110527 non-null int64\n",
      "HandiCap          110527 non-null int64\n",
      "SMS_received      110527 non-null int64\n",
      "no_show           110527 non-null object\n",
      "dtypes: float64(1), int64(8), object(5)\n",
      "memory usage: 11.8+ MB\n"
     ]
    }
   ],
   "source": [
    "no_showup.info()\n"
   ]
  },
  {
   "cell_type": "code",
   "execution_count": 74,
   "metadata": {
    "scrolled": false
   },
   "outputs": [],
   "source": [
    "#droping the column if all the values are null\n",
    "no_show=no_showup.dropna(axis='columns',how='all')\n"
   ]
  },
  {
   "cell_type": "code",
   "execution_count": 75,
   "metadata": {},
   "outputs": [
    {
     "data": {
      "text/html": [
       "<div>\n",
       "<style scoped>\n",
       "    .dataframe tbody tr th:only-of-type {\n",
       "        vertical-align: middle;\n",
       "    }\n",
       "\n",
       "    .dataframe tbody tr th {\n",
       "        vertical-align: top;\n",
       "    }\n",
       "\n",
       "    .dataframe thead th {\n",
       "        text-align: right;\n",
       "    }\n",
       "</style>\n",
       "<table border=\"1\" class=\"dataframe\">\n",
       "  <thead>\n",
       "    <tr style=\"text-align: right;\">\n",
       "      <th></th>\n",
       "      <th>PatientId</th>\n",
       "      <th>AppointmentID</th>\n",
       "      <th>Age</th>\n",
       "      <th>Scholarship</th>\n",
       "      <th>HyperTension</th>\n",
       "      <th>Diabetes</th>\n",
       "      <th>Alcoholism</th>\n",
       "      <th>HandiCap</th>\n",
       "      <th>SMS_received</th>\n",
       "    </tr>\n",
       "  </thead>\n",
       "  <tbody>\n",
       "    <tr>\n",
       "      <th>count</th>\n",
       "      <td>1.105270e+05</td>\n",
       "      <td>1.105270e+05</td>\n",
       "      <td>110527.000000</td>\n",
       "      <td>110527.000000</td>\n",
       "      <td>110527.000000</td>\n",
       "      <td>110527.000000</td>\n",
       "      <td>110527.000000</td>\n",
       "      <td>110527.000000</td>\n",
       "      <td>110527.000000</td>\n",
       "    </tr>\n",
       "    <tr>\n",
       "      <th>mean</th>\n",
       "      <td>1.474963e+14</td>\n",
       "      <td>5.675305e+06</td>\n",
       "      <td>37.088874</td>\n",
       "      <td>0.098266</td>\n",
       "      <td>0.197246</td>\n",
       "      <td>0.071865</td>\n",
       "      <td>0.030400</td>\n",
       "      <td>0.022248</td>\n",
       "      <td>0.321026</td>\n",
       "    </tr>\n",
       "    <tr>\n",
       "      <th>std</th>\n",
       "      <td>2.560949e+14</td>\n",
       "      <td>7.129575e+04</td>\n",
       "      <td>23.110205</td>\n",
       "      <td>0.297675</td>\n",
       "      <td>0.397921</td>\n",
       "      <td>0.258265</td>\n",
       "      <td>0.171686</td>\n",
       "      <td>0.161543</td>\n",
       "      <td>0.466873</td>\n",
       "    </tr>\n",
       "    <tr>\n",
       "      <th>min</th>\n",
       "      <td>3.921784e+04</td>\n",
       "      <td>5.030230e+06</td>\n",
       "      <td>-1.000000</td>\n",
       "      <td>0.000000</td>\n",
       "      <td>0.000000</td>\n",
       "      <td>0.000000</td>\n",
       "      <td>0.000000</td>\n",
       "      <td>0.000000</td>\n",
       "      <td>0.000000</td>\n",
       "    </tr>\n",
       "    <tr>\n",
       "      <th>25%</th>\n",
       "      <td>4.172614e+12</td>\n",
       "      <td>5.640286e+06</td>\n",
       "      <td>18.000000</td>\n",
       "      <td>0.000000</td>\n",
       "      <td>0.000000</td>\n",
       "      <td>0.000000</td>\n",
       "      <td>0.000000</td>\n",
       "      <td>0.000000</td>\n",
       "      <td>0.000000</td>\n",
       "    </tr>\n",
       "    <tr>\n",
       "      <th>50%</th>\n",
       "      <td>3.173184e+13</td>\n",
       "      <td>5.680573e+06</td>\n",
       "      <td>37.000000</td>\n",
       "      <td>0.000000</td>\n",
       "      <td>0.000000</td>\n",
       "      <td>0.000000</td>\n",
       "      <td>0.000000</td>\n",
       "      <td>0.000000</td>\n",
       "      <td>0.000000</td>\n",
       "    </tr>\n",
       "    <tr>\n",
       "      <th>75%</th>\n",
       "      <td>9.439172e+13</td>\n",
       "      <td>5.725524e+06</td>\n",
       "      <td>55.000000</td>\n",
       "      <td>0.000000</td>\n",
       "      <td>0.000000</td>\n",
       "      <td>0.000000</td>\n",
       "      <td>0.000000</td>\n",
       "      <td>0.000000</td>\n",
       "      <td>1.000000</td>\n",
       "    </tr>\n",
       "    <tr>\n",
       "      <th>max</th>\n",
       "      <td>9.999816e+14</td>\n",
       "      <td>5.790484e+06</td>\n",
       "      <td>115.000000</td>\n",
       "      <td>1.000000</td>\n",
       "      <td>1.000000</td>\n",
       "      <td>1.000000</td>\n",
       "      <td>1.000000</td>\n",
       "      <td>4.000000</td>\n",
       "      <td>1.000000</td>\n",
       "    </tr>\n",
       "  </tbody>\n",
       "</table>\n",
       "</div>"
      ],
      "text/plain": [
       "          PatientId  AppointmentID            Age    Scholarship  \\\n",
       "count  1.105270e+05   1.105270e+05  110527.000000  110527.000000   \n",
       "mean   1.474963e+14   5.675305e+06      37.088874       0.098266   \n",
       "std    2.560949e+14   7.129575e+04      23.110205       0.297675   \n",
       "min    3.921784e+04   5.030230e+06      -1.000000       0.000000   \n",
       "25%    4.172614e+12   5.640286e+06      18.000000       0.000000   \n",
       "50%    3.173184e+13   5.680573e+06      37.000000       0.000000   \n",
       "75%    9.439172e+13   5.725524e+06      55.000000       0.000000   \n",
       "max    9.999816e+14   5.790484e+06     115.000000       1.000000   \n",
       "\n",
       "        HyperTension       Diabetes     Alcoholism       HandiCap  \\\n",
       "count  110527.000000  110527.000000  110527.000000  110527.000000   \n",
       "mean        0.197246       0.071865       0.030400       0.022248   \n",
       "std         0.397921       0.258265       0.171686       0.161543   \n",
       "min         0.000000       0.000000       0.000000       0.000000   \n",
       "25%         0.000000       0.000000       0.000000       0.000000   \n",
       "50%         0.000000       0.000000       0.000000       0.000000   \n",
       "75%         0.000000       0.000000       0.000000       0.000000   \n",
       "max         1.000000       1.000000       1.000000       4.000000   \n",
       "\n",
       "        SMS_received  \n",
       "count  110527.000000  \n",
       "mean        0.321026  \n",
       "std         0.466873  \n",
       "min         0.000000  \n",
       "25%         0.000000  \n",
       "50%         0.000000  \n",
       "75%         1.000000  \n",
       "max         1.000000  "
      ]
     },
     "execution_count": 75,
     "metadata": {},
     "output_type": "execute_result"
    }
   ],
   "source": [
    "no_show.describe()"
   ]
  },
  {
   "cell_type": "code",
   "execution_count": 76,
   "metadata": {},
   "outputs": [],
   "source": [
    "#selecting the valid age\n",
    "#no_show = no_show[(no_show.Age > 0) & (no_show.Age <= 100)]\n",
    "no_show['no_show'] = no_show['no_show'].map({'No': 1, 'Yes': 0})"
   ]
  },
  {
   "cell_type": "code",
   "execution_count": 77,
   "metadata": {
    "scrolled": true
   },
   "outputs": [],
   "source": [
    "\n",
    "#get data and time from scheduled_day and appointment_day\n",
    "no_show['ScheduledDay'] = pd.to_datetime(no_show['ScheduledDay'], infer_datetime_format=True)\n",
    "no_show['AppointmentDay'] = pd.to_datetime(no_show['AppointmentDay'], infer_datetime_format=True)\n",
    " \n",
    "no_show['WaitTime'] = list(map(lambda x: x.days+1 , no_show['AppointmentDay'] - no_show['ScheduledDay']))\n",
    "\n",
    "#removing incorrect entries where appointment day was before the scheduled day which is not possible\n",
    "no_show.drop(no_show[no_show['WaitTime'] <= -1].index, inplace=True)\n",
    "\n"
   ]
  },
  {
   "cell_type": "code",
   "execution_count": 78,
   "metadata": {},
   "outputs": [],
   "source": [
    "# from waiting time created a column range according to the length of waiting time.(<1 month,>1 and <2 month...etc)\n",
    "no_show['waiting_time_range'] = no_show['WaitTime'].apply(lambda x: 1 if x>=0 and x<=30 else \n",
    "                                                          2 if x>30 and x<=60 else \n",
    "                                                          3 if x>60 and x<=90 else \n",
    "                                                          4 if x>90 and x<=120 else \n",
    "                                                          5 if x>120 and x<=150 else\n",
    "                                                          6 if x>150 and x<=180 else\n",
    "                                                          7)"
   ]
  },
  {
   "cell_type": "code",
   "execution_count": 10,
   "metadata": {},
   "outputs": [],
   "source": [
    "#created risk score column by calculating (no of appointments they didn't show up/ total appointment booked)\n",
    "no_show['no_of_noshows'] = no_show.groupby('PatientId')[['no_show']].transform('sum')\n",
    "no_show['total_appointment'] = no_show.groupby('PatientId')[['no_show']].transform('count')\n",
    "\n",
    "no_show['risk_score'] = no_show.no_of_noshows / no_show.total_appointment"
   ]
  },
  {
   "cell_type": "code",
   "execution_count": 79,
   "metadata": {},
   "outputs": [
    {
     "data": {
      "text/plain": [
       "False"
      ]
     },
     "execution_count": 79,
     "metadata": {},
     "output_type": "execute_result"
    }
   ],
   "source": [
    "# checking if there are any missing values\n",
    "\n",
    "no_show.fillna('')\n",
    "no_show.isnull().values.any()\n"
   ]
  },
  {
   "cell_type": "code",
   "execution_count": 80,
   "metadata": {
    "scrolled": true
   },
   "outputs": [
    {
     "name": "stdout",
     "output_type": "stream",
     "text": [
      "F    71837\n",
      "M    38685\n",
      "Name: Gender, dtype: int64\n",
      "---------\n",
      "\n",
      "\n",
      "0    99661\n",
      "1    10861\n",
      "Name: Scholarship, dtype: int64\n",
      "---------\n",
      "\n",
      "\n",
      "0    88721\n",
      "1    21801\n",
      "Name: HyperTension, dtype: int64\n",
      "---------\n",
      "\n",
      "\n",
      "0    102579\n",
      "1      7943\n",
      "Name: Diabetes, dtype: int64\n",
      "---------\n",
      "\n",
      "\n",
      "0    107162\n",
      "1      3360\n",
      "Name: Alcoholism, dtype: int64\n",
      "---------\n",
      "\n",
      "\n",
      "0    108283\n",
      "1      2040\n",
      "2       183\n",
      "3        13\n",
      "4         3\n",
      "Name: HandiCap, dtype: int64\n",
      "---------\n",
      "\n",
      "\n",
      "0    75040\n",
      "1    35482\n",
      "Name: SMS_received, dtype: int64\n",
      "---------\n",
      "\n",
      "\n",
      "1    88208\n",
      "0    22314\n",
      "Name: no_show, dtype: int64\n",
      "---------\n",
      "\n",
      "\n",
      "1    100144\n",
      "2      8283\n",
      "3      1878\n",
      "4       132\n",
      "6        56\n",
      "5        29\n",
      "Name: waiting_time_range, dtype: int64\n",
      "---------\n",
      "\n",
      "\n"
     ]
    }
   ],
   "source": [
    "for i in no_show.columns:\n",
    "    unique_count=no_show[i].nunique()\n",
    "    if unique_count < 20:\n",
    "       print(no_show[i].value_counts())\n",
    "       print('---------')\n",
    "       print('\\n')"
   ]
  },
  {
   "cell_type": "code",
   "execution_count": 81,
   "metadata": {},
   "outputs": [],
   "source": [
    "#converting gender and no-show columns to numeric values\n",
    "le = preprocessing.LabelEncoder()\n",
    "le.fit(['F', 'M'])\n",
    "no_show['num_gender']=le.transform(no_show['Gender'])\n"
   ]
  },
  {
   "cell_type": "code",
   "execution_count": 82,
   "metadata": {
    "scrolled": true
   },
   "outputs": [],
   "source": [
    "# there is 1 invalid record which is negative. I am selecting only the valid age.\n",
    "no_show=no_show[no_show.Age>=0]"
   ]
  },
  {
   "cell_type": "markdown",
   "metadata": {},
   "source": [
    "The summary of the no_show dataframe gives lot of details. Minimum age is 0 and maximum age is 115. Since there are only 4 patients with age greater then 100. I am considering it as valid.\n",
    "This data summary shows that 20% of appointments are missed based on the mean for the numNoshow field. The rates for the various patient conditions can also be seen, and the most commonly coded reason for an appointment is hypertension at nearly 19.7% of visits."
   ]
  },
  {
   "cell_type": "code",
   "execution_count": 83,
   "metadata": {},
   "outputs": [],
   "source": [
    "def get_age_bucket(age):\n",
    "    if age <= 18:\n",
    "        return '0-18'\n",
    "    elif 18 < age <= 24:\n",
    "        return '18-24'\n",
    "    elif 25 <= age <=34:\n",
    "        return '25-34'\n",
    "    elif 35 <= age <= 44:\n",
    "        return '35-44'\n",
    "    elif 45 <= age <= 54:\n",
    "        return '45-54'\n",
    "    elif 55 <= age <= 64:\n",
    "        return '55-64'\n",
    "    elif 65 <= age:\n",
    "        return '65+'\n",
    "    else:\n",
    "        return '100+'\n",
    "    \n",
    "no_show['age_bucket'] = no_show['Age'].apply(lambda x: get_age_bucket(x))"
   ]
  },
  {
   "cell_type": "code",
   "execution_count": 84,
   "metadata": {
    "scrolled": true
   },
   "outputs": [],
   "source": [
    "# single function to visualize feature counts and relationship with no show\n",
    "\n",
    "def visualize_feature(df, feature):\n",
    "    if no_show[feature].nunique()> 4:\n",
    "        figsize = (18, 8)\n",
    "    else:\n",
    "        figsize = (8, 3)\n",
    "        \n",
    "    if feature in ['age_bucket','Neighbourhood','WaitTime','day','month']:\n",
    "        kind = 'bar'\n",
    "    else:\n",
    "        kind = 'barh'\n",
    "        \n",
    "    sort_column = feature    \n",
    "    p = no_show.pivot_table(index=feature, values='no_show', aggfunc={'no_show': ['count', 'mean']}).reset_index()\n",
    "    p['count%'] = p['count'] / p['count'].sum()\n",
    "   # p['mean']=1-p['mean']\n",
    "    p = p[[feature, 'count', 'count%', 'mean']]\n",
    "    p.rename(index=str, columns={'mean': 'probability'}, inplace=True)\n",
    "    display(p.round({'count%': 3, 'probability': 3}).sort_values(by='probability', ascending=False))\n",
    "    pivot_mean = no_show.pivot_table(index=feature, values='no_show', aggfunc='mean').reset_index().sort_values(by=sort_column, ascending=True)\n",
    "    pivot_mean['noshow'] = pivot_mean['no_show']   \n",
    "    if feature=='day':\n",
    "        dict_week = {'Monday': 1,'Tuesday': 2,'Wednesday': 3,'Thursday': 4,'Friday': 5,'Saturday': 6, 'Sunday': 0}\n",
    "        pivot_mean[feature]=sorted(pivot_mean[feature], key=dict_week.__getitem__)\n",
    "        ax = pivot_mean.plot(x=feature, y='noshow', kind=kind, figsize=figsize, colormap='Set2', title = 'No-show by %s' %feature, legend=False)\n",
    "        ax.set_xlabel(feature)\n",
    "        ax.set_ylabel('probability ')\n",
    "    else:\n",
    "        ax = pivot_mean.plot(x=feature, y='noshow', kind=kind, figsize=figsize, colormap='Set2', title = 'No-show by %s' %feature, legend=False)\n",
    "        ax.set_xlabel(feature)\n",
    "        ax.set_ylabel('probability ')\n",
    "    if  kind == 'barh': \n",
    "        ax.set_xlabel('probability ')\n",
    "        ax.set_ylabel(feature)\n",
    "    plt.show()"
   ]
  },
  {
   "cell_type": "code",
   "execution_count": 85,
   "metadata": {
    "scrolled": false
   },
   "outputs": [
    {
     "data": {
      "text/html": [
       "<div>\n",
       "<style scoped>\n",
       "    .dataframe tbody tr th:only-of-type {\n",
       "        vertical-align: middle;\n",
       "    }\n",
       "\n",
       "    .dataframe tbody tr th {\n",
       "        vertical-align: top;\n",
       "    }\n",
       "\n",
       "    .dataframe thead th {\n",
       "        text-align: right;\n",
       "    }\n",
       "</style>\n",
       "<table border=\"1\" class=\"dataframe\">\n",
       "  <thead>\n",
       "    <tr style=\"text-align: right;\">\n",
       "      <th></th>\n",
       "      <th>month</th>\n",
       "      <th>count</th>\n",
       "      <th>count%</th>\n",
       "      <th>probability</th>\n",
       "    </tr>\n",
       "  </thead>\n",
       "  <tbody>\n",
       "    <tr>\n",
       "      <th>2</th>\n",
       "      <td>6</td>\n",
       "      <td>26450</td>\n",
       "      <td>0.239</td>\n",
       "      <td>0.815</td>\n",
       "    </tr>\n",
       "    <tr>\n",
       "      <th>0</th>\n",
       "      <td>4</td>\n",
       "      <td>3235</td>\n",
       "      <td>0.029</td>\n",
       "      <td>0.804</td>\n",
       "    </tr>\n",
       "    <tr>\n",
       "      <th>1</th>\n",
       "      <td>5</td>\n",
       "      <td>80836</td>\n",
       "      <td>0.731</td>\n",
       "      <td>0.792</td>\n",
       "    </tr>\n",
       "  </tbody>\n",
       "</table>\n",
       "</div>"
      ],
      "text/plain": [
       "   month  count  count%  probability\n",
       "2      6  26450   0.239        0.815\n",
       "0      4   3235   0.029        0.804\n",
       "1      5  80836   0.731        0.792"
      ]
     },
     "metadata": {},
     "output_type": "display_data"
    },
    {
     "data": {
      "image/png": "[encoded data removed]",
      "text/plain": [
       "<matplotlib.figure.Figure at 0x1a7074f1fd0>"
      ]
     },
     "metadata": {},
     "output_type": "display_data"
    }
   ],
   "source": [
    "no_show['month'] = no_show['AppointmentDay'].dt.month\n",
    "visualize_feature(no_show, 'month')"
   ]
  },
  {
   "cell_type": "markdown",
   "metadata": {},
   "source": [
    "Month May has maximum no-shows."
   ]
  },
  {
   "cell_type": "code",
   "execution_count": 86,
   "metadata": {
    "scrolled": true
   },
   "outputs": [
    {
     "data": {
      "text/html": [
       "<div>\n",
       "<style scoped>\n",
       "    .dataframe tbody tr th:only-of-type {\n",
       "        vertical-align: middle;\n",
       "    }\n",
       "\n",
       "    .dataframe tbody tr th {\n",
       "        vertical-align: top;\n",
       "    }\n",
       "\n",
       "    .dataframe thead th {\n",
       "        text-align: right;\n",
       "    }\n",
       "</style>\n",
       "<table border=\"1\" class=\"dataframe\">\n",
       "  <thead>\n",
       "    <tr style=\"text-align: right;\">\n",
       "      <th></th>\n",
       "      <th>day</th>\n",
       "      <th>count</th>\n",
       "      <th>count%</th>\n",
       "      <th>probability</th>\n",
       "    </tr>\n",
       "  </thead>\n",
       "  <tbody>\n",
       "    <tr>\n",
       "      <th>3</th>\n",
       "      <td>Thursday</td>\n",
       "      <td>17246</td>\n",
       "      <td>0.156</td>\n",
       "      <td>0.807</td>\n",
       "    </tr>\n",
       "    <tr>\n",
       "      <th>5</th>\n",
       "      <td>Wednesday</td>\n",
       "      <td>25866</td>\n",
       "      <td>0.234</td>\n",
       "      <td>0.803</td>\n",
       "    </tr>\n",
       "    <tr>\n",
       "      <th>4</th>\n",
       "      <td>Tuesday</td>\n",
       "      <td>25638</td>\n",
       "      <td>0.232</td>\n",
       "      <td>0.799</td>\n",
       "    </tr>\n",
       "    <tr>\n",
       "      <th>1</th>\n",
       "      <td>Monday</td>\n",
       "      <td>22713</td>\n",
       "      <td>0.206</td>\n",
       "      <td>0.794</td>\n",
       "    </tr>\n",
       "    <tr>\n",
       "      <th>0</th>\n",
       "      <td>Friday</td>\n",
       "      <td>19019</td>\n",
       "      <td>0.172</td>\n",
       "      <td>0.788</td>\n",
       "    </tr>\n",
       "    <tr>\n",
       "      <th>2</th>\n",
       "      <td>Saturday</td>\n",
       "      <td>39</td>\n",
       "      <td>0.000</td>\n",
       "      <td>0.769</td>\n",
       "    </tr>\n",
       "  </tbody>\n",
       "</table>\n",
       "</div>"
      ],
      "text/plain": [
       "         day  count  count%  probability\n",
       "3   Thursday  17246   0.156        0.807\n",
       "5  Wednesday  25866   0.234        0.803\n",
       "4    Tuesday  25638   0.232        0.799\n",
       "1     Monday  22713   0.206        0.794\n",
       "0     Friday  19019   0.172        0.788\n",
       "2   Saturday     39   0.000        0.769"
      ]
     },
     "metadata": {},
     "output_type": "display_data"
    },
    {
     "data": {
      "image/png": "[encoded data removed]",
      "text/plain": [
       "<matplotlib.figure.Figure at 0x1a702224ba8>"
      ]
     },
     "metadata": {},
     "output_type": "display_data"
    }
   ],
   "source": [
    "no_show['day']=no_show['AppointmentDay'].dt.weekday_name\n",
    "visualize_feature(no_show, 'day')"
   ]
  },
  {
   "cell_type": "markdown",
   "metadata": {},
   "source": [
    "Tuesday and Wednessday are busy days with more patient appointments.Saturday has least appointments probably because saturday is off.However there is no significant difference on no-show rate."
   ]
  },
  {
   "cell_type": "code",
   "execution_count": 87,
   "metadata": {
    "scrolled": false
   },
   "outputs": [
    {
     "data": {
      "text/html": [
       "<div>\n",
       "<style scoped>\n",
       "    .dataframe tbody tr th:only-of-type {\n",
       "        vertical-align: middle;\n",
       "    }\n",
       "\n",
       "    .dataframe tbody tr th {\n",
       "        vertical-align: top;\n",
       "    }\n",
       "\n",
       "    .dataframe thead th {\n",
       "        text-align: right;\n",
       "    }\n",
       "</style>\n",
       "<table border=\"1\" class=\"dataframe\">\n",
       "  <thead>\n",
       "    <tr style=\"text-align: right;\">\n",
       "      <th></th>\n",
       "      <th>waiting_time_range</th>\n",
       "      <th>count</th>\n",
       "      <th>count%</th>\n",
       "      <th>probability</th>\n",
       "    </tr>\n",
       "  </thead>\n",
       "  <tbody>\n",
       "    <tr>\n",
       "      <th>0</th>\n",
       "      <td>1</td>\n",
       "      <td>100143</td>\n",
       "      <td>0.906</td>\n",
       "      <td>0.811</td>\n",
       "    </tr>\n",
       "    <tr>\n",
       "      <th>3</th>\n",
       "      <td>4</td>\n",
       "      <td>132</td>\n",
       "      <td>0.001</td>\n",
       "      <td>0.795</td>\n",
       "    </tr>\n",
       "    <tr>\n",
       "      <th>2</th>\n",
       "      <td>3</td>\n",
       "      <td>1878</td>\n",
       "      <td>0.017</td>\n",
       "      <td>0.712</td>\n",
       "    </tr>\n",
       "    <tr>\n",
       "      <th>5</th>\n",
       "      <td>6</td>\n",
       "      <td>56</td>\n",
       "      <td>0.001</td>\n",
       "      <td>0.679</td>\n",
       "    </tr>\n",
       "    <tr>\n",
       "      <th>1</th>\n",
       "      <td>2</td>\n",
       "      <td>8283</td>\n",
       "      <td>0.075</td>\n",
       "      <td>0.658</td>\n",
       "    </tr>\n",
       "    <tr>\n",
       "      <th>4</th>\n",
       "      <td>5</td>\n",
       "      <td>29</td>\n",
       "      <td>0.000</td>\n",
       "      <td>0.621</td>\n",
       "    </tr>\n",
       "  </tbody>\n",
       "</table>\n",
       "</div>"
      ],
      "text/plain": [
       "   waiting_time_range   count  count%  probability\n",
       "0                   1  100143   0.906        0.811\n",
       "3                   4     132   0.001        0.795\n",
       "2                   3    1878   0.017        0.712\n",
       "5                   6      56   0.001        0.679\n",
       "1                   2    8283   0.075        0.658\n",
       "4                   5      29   0.000        0.621"
      ]
     },
     "metadata": {},
     "output_type": "display_data"
    },
    {
     "data": {
      "image/png": "[encoded data removed]",
      "text/plain": [
       "<matplotlib.figure.Figure at 0x1a7074f74a8>"
      ]
     },
     "metadata": {},
     "output_type": "display_data"
    }
   ],
   "source": [
    "\n",
    "visualize_feature(no_show, 'waiting_time_range')"
   ]
  },
  {
   "cell_type": "markdown",
   "metadata": {},
   "source": [
    "90% of patients wait less than a month."
   ]
  },
  {
   "cell_type": "code",
   "execution_count": 88,
   "metadata": {
    "scrolled": true
   },
   "outputs": [
    {
     "data": {
      "text/html": [
       "<div>\n",
       "<style scoped>\n",
       "    .dataframe tbody tr th:only-of-type {\n",
       "        vertical-align: middle;\n",
       "    }\n",
       "\n",
       "    .dataframe tbody tr th {\n",
       "        vertical-align: top;\n",
       "    }\n",
       "\n",
       "    .dataframe thead th {\n",
       "        text-align: right;\n",
       "    }\n",
       "</style>\n",
       "<table border=\"1\" class=\"dataframe\">\n",
       "  <thead>\n",
       "    <tr style=\"text-align: right;\">\n",
       "      <th></th>\n",
       "      <th>Gender</th>\n",
       "      <th>count</th>\n",
       "      <th>count%</th>\n",
       "      <th>probability</th>\n",
       "    </tr>\n",
       "  </thead>\n",
       "  <tbody>\n",
       "    <tr>\n",
       "      <th>1</th>\n",
       "      <td>M</td>\n",
       "      <td>38685</td>\n",
       "      <td>0.35</td>\n",
       "      <td>0.800</td>\n",
       "    </tr>\n",
       "    <tr>\n",
       "      <th>0</th>\n",
       "      <td>F</td>\n",
       "      <td>71836</td>\n",
       "      <td>0.65</td>\n",
       "      <td>0.797</td>\n",
       "    </tr>\n",
       "  </tbody>\n",
       "</table>\n",
       "</div>"
      ],
      "text/plain": [
       "  Gender  count  count%  probability\n",
       "1      M  38685    0.35        0.800\n",
       "0      F  71836    0.65        0.797"
      ]
     },
     "metadata": {},
     "output_type": "display_data"
    },
    {
     "data": {
      "image/png": "[encoded data removed]",
      "text/plain": [
       "<matplotlib.figure.Figure at 0x1a7021b7400>"
      ]
     },
     "metadata": {},
     "output_type": "display_data"
    }
   ],
   "source": [
    "visualize_feature(no_show, 'Gender')"
   ]
  },
  {
   "cell_type": "markdown",
   "metadata": {},
   "source": [
    "Females patients are 3.3 times more than male however there is no significant difference on no-show rate."
   ]
  },
  {
   "cell_type": "markdown",
   "metadata": {},
   "source": [
    "Percentage of no show up is more among female patients. There are much more women data than men data in the dataset."
   ]
  },
  {
   "cell_type": "code",
   "execution_count": 89,
   "metadata": {},
   "outputs": [
    {
     "data": {
      "text/html": [
       "<div>\n",
       "<style scoped>\n",
       "    .dataframe tbody tr th:only-of-type {\n",
       "        vertical-align: middle;\n",
       "    }\n",
       "\n",
       "    .dataframe tbody tr th {\n",
       "        vertical-align: top;\n",
       "    }\n",
       "\n",
       "    .dataframe thead th {\n",
       "        text-align: right;\n",
       "    }\n",
       "</style>\n",
       "<table border=\"1\" class=\"dataframe\">\n",
       "  <thead>\n",
       "    <tr style=\"text-align: right;\">\n",
       "      <th></th>\n",
       "      <th>HandiCap</th>\n",
       "      <th>count</th>\n",
       "      <th>count%</th>\n",
       "      <th>probability</th>\n",
       "    </tr>\n",
       "  </thead>\n",
       "  <tbody>\n",
       "    <tr>\n",
       "      <th>1</th>\n",
       "      <td>1</td>\n",
       "      <td>2040</td>\n",
       "      <td>0.018</td>\n",
       "      <td>0.822</td>\n",
       "    </tr>\n",
       "    <tr>\n",
       "      <th>0</th>\n",
       "      <td>0</td>\n",
       "      <td>108282</td>\n",
       "      <td>0.980</td>\n",
       "      <td>0.798</td>\n",
       "    </tr>\n",
       "    <tr>\n",
       "      <th>2</th>\n",
       "      <td>2</td>\n",
       "      <td>183</td>\n",
       "      <td>0.002</td>\n",
       "      <td>0.798</td>\n",
       "    </tr>\n",
       "    <tr>\n",
       "      <th>3</th>\n",
       "      <td>3</td>\n",
       "      <td>13</td>\n",
       "      <td>0.000</td>\n",
       "      <td>0.769</td>\n",
       "    </tr>\n",
       "    <tr>\n",
       "      <th>4</th>\n",
       "      <td>4</td>\n",
       "      <td>3</td>\n",
       "      <td>0.000</td>\n",
       "      <td>0.667</td>\n",
       "    </tr>\n",
       "  </tbody>\n",
       "</table>\n",
       "</div>"
      ],
      "text/plain": [
       "   HandiCap   count  count%  probability\n",
       "1         1    2040   0.018        0.822\n",
       "0         0  108282   0.980        0.798\n",
       "2         2     183   0.002        0.798\n",
       "3         3      13   0.000        0.769\n",
       "4         4       3   0.000        0.667"
      ]
     },
     "metadata": {},
     "output_type": "display_data"
    },
    {
     "data": {
      "image/png": "[encoded data removed]",
      "text/plain": [
       "<matplotlib.figure.Figure at 0x1a701a29b70>"
      ]
     },
     "metadata": {},
     "output_type": "display_data"
    }
   ],
   "source": [
    "visualize_feature(no_show, 'HandiCap')"
   ]
  },
  {
   "cell_type": "markdown",
   "metadata": {},
   "source": [
    "About 2% of the patients are handicap."
   ]
  },
  {
   "cell_type": "markdown",
   "metadata": {},
   "source": [
    "Patients with disability=4 tend to not miss the appointment much."
   ]
  },
  {
   "cell_type": "code",
   "execution_count": 90,
   "metadata": {},
   "outputs": [
    {
     "data": {
      "text/html": [
       "<div>\n",
       "<style scoped>\n",
       "    .dataframe tbody tr th:only-of-type {\n",
       "        vertical-align: middle;\n",
       "    }\n",
       "\n",
       "    .dataframe tbody tr th {\n",
       "        vertical-align: top;\n",
       "    }\n",
       "\n",
       "    .dataframe thead th {\n",
       "        text-align: right;\n",
       "    }\n",
       "</style>\n",
       "<table border=\"1\" class=\"dataframe\">\n",
       "  <thead>\n",
       "    <tr style=\"text-align: right;\">\n",
       "      <th></th>\n",
       "      <th>Scholarship</th>\n",
       "      <th>count</th>\n",
       "      <th>count%</th>\n",
       "      <th>probability</th>\n",
       "    </tr>\n",
       "  </thead>\n",
       "  <tbody>\n",
       "    <tr>\n",
       "      <th>0</th>\n",
       "      <td>0</td>\n",
       "      <td>99660</td>\n",
       "      <td>0.902</td>\n",
       "      <td>0.802</td>\n",
       "    </tr>\n",
       "    <tr>\n",
       "      <th>1</th>\n",
       "      <td>1</td>\n",
       "      <td>10861</td>\n",
       "      <td>0.098</td>\n",
       "      <td>0.763</td>\n",
       "    </tr>\n",
       "  </tbody>\n",
       "</table>\n",
       "</div>"
      ],
      "text/plain": [
       "   Scholarship  count  count%  probability\n",
       "0            0  99660   0.902        0.802\n",
       "1            1  10861   0.098        0.763"
      ]
     },
     "metadata": {},
     "output_type": "display_data"
    },
    {
     "data": {
      "image/png": "[encoded data removed]",
      "text/plain": [
       "<matplotlib.figure.Figure at 0x1a702228160>"
      ]
     },
     "metadata": {},
     "output_type": "display_data"
    }
   ],
   "source": [
    "visualize_feature(no_show, 'Scholarship')"
   ]
  },
  {
   "cell_type": "markdown",
   "metadata": {},
   "source": [
    "About 10% of the patients receive the scholarship and patients who don't receive the scholarship tend to miss the appointment more."
   ]
  },
  {
   "cell_type": "code",
   "execution_count": 91,
   "metadata": {},
   "outputs": [
    {
     "data": {
      "text/html": [
       "<div>\n",
       "<style scoped>\n",
       "    .dataframe tbody tr th:only-of-type {\n",
       "        vertical-align: middle;\n",
       "    }\n",
       "\n",
       "    .dataframe tbody tr th {\n",
       "        vertical-align: top;\n",
       "    }\n",
       "\n",
       "    .dataframe thead th {\n",
       "        text-align: right;\n",
       "    }\n",
       "</style>\n",
       "<table border=\"1\" class=\"dataframe\">\n",
       "  <thead>\n",
       "    <tr style=\"text-align: right;\">\n",
       "      <th></th>\n",
       "      <th>Diabetes</th>\n",
       "      <th>count</th>\n",
       "      <th>count%</th>\n",
       "      <th>probability</th>\n",
       "    </tr>\n",
       "  </thead>\n",
       "  <tbody>\n",
       "    <tr>\n",
       "      <th>1</th>\n",
       "      <td>1</td>\n",
       "      <td>7943</td>\n",
       "      <td>0.072</td>\n",
       "      <td>0.820</td>\n",
       "    </tr>\n",
       "    <tr>\n",
       "      <th>0</th>\n",
       "      <td>0</td>\n",
       "      <td>102578</td>\n",
       "      <td>0.928</td>\n",
       "      <td>0.796</td>\n",
       "    </tr>\n",
       "  </tbody>\n",
       "</table>\n",
       "</div>"
      ],
      "text/plain": [
       "   Diabetes   count  count%  probability\n",
       "1         1    7943   0.072        0.820\n",
       "0         0  102578   0.928        0.796"
      ]
     },
     "metadata": {},
     "output_type": "display_data"
    },
    {
     "data": {
      "image/png": "[encoded data removed]",
      "text/plain": [
       "<matplotlib.figure.Figure at 0x1a7074f2ef0>"
      ]
     },
     "metadata": {},
     "output_type": "display_data"
    }
   ],
   "source": [
    "visualize_feature(no_show, 'Diabetes')"
   ]
  },
  {
   "cell_type": "code",
   "execution_count": 92,
   "metadata": {
    "scrolled": false
   },
   "outputs": [
    {
     "data": {
      "text/html": [
       "<div>\n",
       "<style scoped>\n",
       "    .dataframe tbody tr th:only-of-type {\n",
       "        vertical-align: middle;\n",
       "    }\n",
       "\n",
       "    .dataframe tbody tr th {\n",
       "        vertical-align: top;\n",
       "    }\n",
       "\n",
       "    .dataframe thead th {\n",
       "        text-align: right;\n",
       "    }\n",
       "</style>\n",
       "<table border=\"1\" class=\"dataframe\">\n",
       "  <thead>\n",
       "    <tr style=\"text-align: right;\">\n",
       "      <th></th>\n",
       "      <th>Alcoholism</th>\n",
       "      <th>count</th>\n",
       "      <th>count%</th>\n",
       "      <th>probability</th>\n",
       "    </tr>\n",
       "  </thead>\n",
       "  <tbody>\n",
       "    <tr>\n",
       "      <th>1</th>\n",
       "      <td>1</td>\n",
       "      <td>3360</td>\n",
       "      <td>0.03</td>\n",
       "      <td>0.799</td>\n",
       "    </tr>\n",
       "    <tr>\n",
       "      <th>0</th>\n",
       "      <td>0</td>\n",
       "      <td>107161</td>\n",
       "      <td>0.97</td>\n",
       "      <td>0.798</td>\n",
       "    </tr>\n",
       "  </tbody>\n",
       "</table>\n",
       "</div>"
      ],
      "text/plain": [
       "   Alcoholism   count  count%  probability\n",
       "1           1    3360    0.03        0.799\n",
       "0           0  107161    0.97        0.798"
      ]
     },
     "metadata": {},
     "output_type": "display_data"
    },
    {
     "data": {
      "image/png": "[encoded data removed]",
      "text/plain": [
       "<matplotlib.figure.Figure at 0x1a702228b38>"
      ]
     },
     "metadata": {},
     "output_type": "display_data"
    }
   ],
   "source": [
    "visualize_feature(no_show, 'Alcoholism')"
   ]
  },
  {
   "cell_type": "markdown",
   "metadata": {},
   "source": [
    "Patients who are alcoholic show up more to thier appointment when compared to patients who are not alcoholic. but the difference is not significant."
   ]
  },
  {
   "cell_type": "code",
   "execution_count": 93,
   "metadata": {},
   "outputs": [
    {
     "data": {
      "text/html": [
       "<div>\n",
       "<style scoped>\n",
       "    .dataframe tbody tr th:only-of-type {\n",
       "        vertical-align: middle;\n",
       "    }\n",
       "\n",
       "    .dataframe tbody tr th {\n",
       "        vertical-align: top;\n",
       "    }\n",
       "\n",
       "    .dataframe thead th {\n",
       "        text-align: right;\n",
       "    }\n",
       "</style>\n",
       "<table border=\"1\" class=\"dataframe\">\n",
       "  <thead>\n",
       "    <tr style=\"text-align: right;\">\n",
       "      <th></th>\n",
       "      <th>HyperTension</th>\n",
       "      <th>count</th>\n",
       "      <th>count%</th>\n",
       "      <th>probability</th>\n",
       "    </tr>\n",
       "  </thead>\n",
       "  <tbody>\n",
       "    <tr>\n",
       "      <th>1</th>\n",
       "      <td>1</td>\n",
       "      <td>21801</td>\n",
       "      <td>0.197</td>\n",
       "      <td>0.827</td>\n",
       "    </tr>\n",
       "    <tr>\n",
       "      <th>0</th>\n",
       "      <td>0</td>\n",
       "      <td>88720</td>\n",
       "      <td>0.803</td>\n",
       "      <td>0.791</td>\n",
       "    </tr>\n",
       "  </tbody>\n",
       "</table>\n",
       "</div>"
      ],
      "text/plain": [
       "   HyperTension  count  count%  probability\n",
       "1             1  21801   0.197        0.827\n",
       "0             0  88720   0.803        0.791"
      ]
     },
     "metadata": {},
     "output_type": "display_data"
    },
    {
     "data": {
      "image/png": "[encoded data removed]",
      "text/plain": [
       "<matplotlib.figure.Figure at 0x1a70221da58>"
      ]
     },
     "metadata": {},
     "output_type": "display_data"
    }
   ],
   "source": [
    "visualize_feature(no_show, 'HyperTension')"
   ]
  },
  {
   "cell_type": "markdown",
   "metadata": {},
   "source": [
    "About 20% of the patients have hypertension. no-show is more for Patients with hypertension."
   ]
  },
  {
   "cell_type": "code",
   "execution_count": 94,
   "metadata": {
    "scrolled": true
   },
   "outputs": [
    {
     "data": {
      "text/html": [
       "<div>\n",
       "<style scoped>\n",
       "    .dataframe tbody tr th:only-of-type {\n",
       "        vertical-align: middle;\n",
       "    }\n",
       "\n",
       "    .dataframe tbody tr th {\n",
       "        vertical-align: top;\n",
       "    }\n",
       "\n",
       "    .dataframe thead th {\n",
       "        text-align: right;\n",
       "    }\n",
       "</style>\n",
       "<table border=\"1\" class=\"dataframe\">\n",
       "  <thead>\n",
       "    <tr style=\"text-align: right;\">\n",
       "      <th></th>\n",
       "      <th>SMS_received</th>\n",
       "      <th>count</th>\n",
       "      <th>count%</th>\n",
       "      <th>probability</th>\n",
       "    </tr>\n",
       "  </thead>\n",
       "  <tbody>\n",
       "    <tr>\n",
       "      <th>0</th>\n",
       "      <td>0</td>\n",
       "      <td>75039</td>\n",
       "      <td>0.679</td>\n",
       "      <td>0.833</td>\n",
       "    </tr>\n",
       "    <tr>\n",
       "      <th>1</th>\n",
       "      <td>1</td>\n",
       "      <td>35482</td>\n",
       "      <td>0.321</td>\n",
       "      <td>0.724</td>\n",
       "    </tr>\n",
       "  </tbody>\n",
       "</table>\n",
       "</div>"
      ],
      "text/plain": [
       "   SMS_received  count  count%  probability\n",
       "0             0  75039   0.679        0.833\n",
       "1             1  35482   0.321        0.724"
      ]
     },
     "metadata": {},
     "output_type": "display_data"
    },
    {
     "data": {
      "image/png": "[encoded data removed]",
      "text/plain": [
       "<matplotlib.figure.Figure at 0x1a706e1d860>"
      ]
     },
     "metadata": {},
     "output_type": "display_data"
    }
   ],
   "source": [
    "visualize_feature(no_show, 'SMS_received')"
   ]
  },
  {
   "cell_type": "markdown",
   "metadata": {},
   "source": [
    "no show for patients who receivd email is slightly more. "
   ]
  },
  {
   "cell_type": "code",
   "execution_count": 95,
   "metadata": {},
   "outputs": [
    {
     "data": {
      "text/html": [
       "<div>\n",
       "<style scoped>\n",
       "    .dataframe tbody tr th:only-of-type {\n",
       "        vertical-align: middle;\n",
       "    }\n",
       "\n",
       "    .dataframe tbody tr th {\n",
       "        vertical-align: top;\n",
       "    }\n",
       "\n",
       "    .dataframe thead th {\n",
       "        text-align: right;\n",
       "    }\n",
       "</style>\n",
       "<table border=\"1\" class=\"dataframe\">\n",
       "  <thead>\n",
       "    <tr style=\"text-align: right;\">\n",
       "      <th></th>\n",
       "      <th>age_bucket</th>\n",
       "      <th>count</th>\n",
       "      <th>count%</th>\n",
       "      <th>probability</th>\n",
       "    </tr>\n",
       "  </thead>\n",
       "  <tbody>\n",
       "    <tr>\n",
       "      <th>6</th>\n",
       "      <td>65+</td>\n",
       "      <td>14401</td>\n",
       "      <td>0.130</td>\n",
       "      <td>0.845</td>\n",
       "    </tr>\n",
       "    <tr>\n",
       "      <th>5</th>\n",
       "      <td>55-64</td>\n",
       "      <td>14527</td>\n",
       "      <td>0.131</td>\n",
       "      <td>0.840</td>\n",
       "    </tr>\n",
       "    <tr>\n",
       "      <th>4</th>\n",
       "      <td>45-54</td>\n",
       "      <td>15465</td>\n",
       "      <td>0.140</td>\n",
       "      <td>0.817</td>\n",
       "    </tr>\n",
       "    <tr>\n",
       "      <th>3</th>\n",
       "      <td>35-44</td>\n",
       "      <td>14506</td>\n",
       "      <td>0.131</td>\n",
       "      <td>0.785</td>\n",
       "    </tr>\n",
       "    <tr>\n",
       "      <th>0</th>\n",
       "      <td>0-18</td>\n",
       "      <td>28865</td>\n",
       "      <td>0.261</td>\n",
       "      <td>0.780</td>\n",
       "    </tr>\n",
       "    <tr>\n",
       "      <th>2</th>\n",
       "      <td>25-34</td>\n",
       "      <td>14358</td>\n",
       "      <td>0.130</td>\n",
       "      <td>0.767</td>\n",
       "    </tr>\n",
       "    <tr>\n",
       "      <th>1</th>\n",
       "      <td>18-24</td>\n",
       "      <td>8399</td>\n",
       "      <td>0.076</td>\n",
       "      <td>0.748</td>\n",
       "    </tr>\n",
       "  </tbody>\n",
       "</table>\n",
       "</div>"
      ],
      "text/plain": [
       "  age_bucket  count  count%  probability\n",
       "6        65+  14401   0.130        0.845\n",
       "5      55-64  14527   0.131        0.840\n",
       "4      45-54  15465   0.140        0.817\n",
       "3      35-44  14506   0.131        0.785\n",
       "0       0-18  28865   0.261        0.780\n",
       "2      25-34  14358   0.130        0.767\n",
       "1      18-24   8399   0.076        0.748"
      ]
     },
     "metadata": {},
     "output_type": "display_data"
    },
    {
     "data": {
      "image/png": "[encoded data removed]",
      "text/plain": [
       "<matplotlib.figure.Figure at 0x1a702236828>"
      ]
     },
     "metadata": {},
     "output_type": "display_data"
    }
   ],
   "source": [
    "visualize_feature(no_show, 'age_bucket')"
   ]
  },
  {
   "cell_type": "markdown",
   "metadata": {},
   "source": [
    "No show is decreasing  as the age is increasing"
   ]
  },
  {
   "cell_type": "code",
   "execution_count": 96,
   "metadata": {
    "scrolled": true
   },
   "outputs": [
    {
     "data": {
      "text/html": [
       "<div>\n",
       "<style scoped>\n",
       "    .dataframe tbody tr th:only-of-type {\n",
       "        vertical-align: middle;\n",
       "    }\n",
       "\n",
       "    .dataframe tbody tr th {\n",
       "        vertical-align: top;\n",
       "    }\n",
       "\n",
       "    .dataframe thead th {\n",
       "        text-align: right;\n",
       "    }\n",
       "</style>\n",
       "<table border=\"1\" class=\"dataframe\">\n",
       "  <thead>\n",
       "    <tr style=\"text-align: right;\">\n",
       "      <th></th>\n",
       "      <th>Neighbourhood</th>\n",
       "      <th>count</th>\n",
       "      <th>count%</th>\n",
       "      <th>probability</th>\n",
       "    </tr>\n",
       "  </thead>\n",
       "  <tbody>\n",
       "    <tr>\n",
       "      <th>51</th>\n",
       "      <td>PARQUE INDUSTRIAL</td>\n",
       "      <td>1</td>\n",
       "      <td>0.000</td>\n",
       "      <td>1.000</td>\n",
       "    </tr>\n",
       "    <tr>\n",
       "      <th>31</th>\n",
       "      <td>ILHA DO BOI</td>\n",
       "      <td>35</td>\n",
       "      <td>0.000</td>\n",
       "      <td>0.914</td>\n",
       "    </tr>\n",
       "    <tr>\n",
       "      <th>0</th>\n",
       "      <td>AEROPORTO</td>\n",
       "      <td>8</td>\n",
       "      <td>0.000</td>\n",
       "      <td>0.875</td>\n",
       "    </tr>\n",
       "    <tr>\n",
       "      <th>48</th>\n",
       "      <td>MÁRIO CYPRESTE</td>\n",
       "      <td>371</td>\n",
       "      <td>0.003</td>\n",
       "      <td>0.854</td>\n",
       "    </tr>\n",
       "    <tr>\n",
       "      <th>73</th>\n",
       "      <td>SOLON BORGES</td>\n",
       "      <td>469</td>\n",
       "      <td>0.004</td>\n",
       "      <td>0.853</td>\n",
       "    </tr>\n",
       "    <tr>\n",
       "      <th>16</th>\n",
       "      <td>DE LOURDES</td>\n",
       "      <td>305</td>\n",
       "      <td>0.003</td>\n",
       "      <td>0.846</td>\n",
       "    </tr>\n",
       "    <tr>\n",
       "      <th>17</th>\n",
       "      <td>DO CABRAL</td>\n",
       "      <td>560</td>\n",
       "      <td>0.005</td>\n",
       "      <td>0.843</td>\n",
       "    </tr>\n",
       "    <tr>\n",
       "      <th>66</th>\n",
       "      <td>SANTA MARTHA</td>\n",
       "      <td>3131</td>\n",
       "      <td>0.028</td>\n",
       "      <td>0.842</td>\n",
       "    </tr>\n",
       "    <tr>\n",
       "      <th>39</th>\n",
       "      <td>JARDIM DA PENHA</td>\n",
       "      <td>3877</td>\n",
       "      <td>0.035</td>\n",
       "      <td>0.837</td>\n",
       "    </tr>\n",
       "    <tr>\n",
       "      <th>19</th>\n",
       "      <td>DO QUADRO</td>\n",
       "      <td>849</td>\n",
       "      <td>0.008</td>\n",
       "      <td>0.835</td>\n",
       "    </tr>\n",
       "    <tr>\n",
       "      <th>80</th>\n",
       "      <td>VILA RUBIM</td>\n",
       "      <td>851</td>\n",
       "      <td>0.008</td>\n",
       "      <td>0.834</td>\n",
       "    </tr>\n",
       "    <tr>\n",
       "      <th>47</th>\n",
       "      <td>MORADA DE CAMBURI</td>\n",
       "      <td>96</td>\n",
       "      <td>0.001</td>\n",
       "      <td>0.833</td>\n",
       "    </tr>\n",
       "    <tr>\n",
       "      <th>45</th>\n",
       "      <td>MATA DA PRAIA</td>\n",
       "      <td>644</td>\n",
       "      <td>0.006</td>\n",
       "      <td>0.829</td>\n",
       "    </tr>\n",
       "    <tr>\n",
       "      <th>58</th>\n",
       "      <td>REPÚBLICA</td>\n",
       "      <td>835</td>\n",
       "      <td>0.008</td>\n",
       "      <td>0.829</td>\n",
       "    </tr>\n",
       "    <tr>\n",
       "      <th>13</th>\n",
       "      <td>CONSOLAÇÃO</td>\n",
       "      <td>1375</td>\n",
       "      <td>0.012</td>\n",
       "      <td>0.828</td>\n",
       "    </tr>\n",
       "    <tr>\n",
       "      <th>54</th>\n",
       "      <td>PONTAL DE CAMBURI</td>\n",
       "      <td>69</td>\n",
       "      <td>0.001</td>\n",
       "      <td>0.826</td>\n",
       "    </tr>\n",
       "    <tr>\n",
       "      <th>69</th>\n",
       "      <td>SANTO ANTÔNIO</td>\n",
       "      <td>2744</td>\n",
       "      <td>0.025</td>\n",
       "      <td>0.824</td>\n",
       "    </tr>\n",
       "    <tr>\n",
       "      <th>57</th>\n",
       "      <td>REDENÇÃO</td>\n",
       "      <td>1553</td>\n",
       "      <td>0.014</td>\n",
       "      <td>0.823</td>\n",
       "    </tr>\n",
       "    <tr>\n",
       "      <th>50</th>\n",
       "      <td>NOVA PALESTINA</td>\n",
       "      <td>2264</td>\n",
       "      <td>0.020</td>\n",
       "      <td>0.822</td>\n",
       "    </tr>\n",
       "    <tr>\n",
       "      <th>37</th>\n",
       "      <td>JABOUR</td>\n",
       "      <td>2509</td>\n",
       "      <td>0.023</td>\n",
       "      <td>0.820</td>\n",
       "    </tr>\n",
       "    <tr>\n",
       "      <th>64</th>\n",
       "      <td>SANTA LUÍZA</td>\n",
       "      <td>428</td>\n",
       "      <td>0.004</td>\n",
       "      <td>0.820</td>\n",
       "    </tr>\n",
       "    <tr>\n",
       "      <th>11</th>\n",
       "      <td>COMDUSA</td>\n",
       "      <td>310</td>\n",
       "      <td>0.003</td>\n",
       "      <td>0.819</td>\n",
       "    </tr>\n",
       "    <tr>\n",
       "      <th>41</th>\n",
       "      <td>JOANA D´ARC</td>\n",
       "      <td>1427</td>\n",
       "      <td>0.013</td>\n",
       "      <td>0.819</td>\n",
       "    </tr>\n",
       "    <tr>\n",
       "      <th>23</th>\n",
       "      <td>FORTE SÃO JOÃO</td>\n",
       "      <td>1889</td>\n",
       "      <td>0.017</td>\n",
       "      <td>0.817</td>\n",
       "    </tr>\n",
       "    <tr>\n",
       "      <th>78</th>\n",
       "      <td>TABUAZEIRO</td>\n",
       "      <td>3131</td>\n",
       "      <td>0.028</td>\n",
       "      <td>0.817</td>\n",
       "    </tr>\n",
       "    <tr>\n",
       "      <th>55</th>\n",
       "      <td>PRAIA DO CANTO</td>\n",
       "      <td>1035</td>\n",
       "      <td>0.009</td>\n",
       "      <td>0.816</td>\n",
       "    </tr>\n",
       "    <tr>\n",
       "      <th>2</th>\n",
       "      <td>ANTÔNIO HONÓRIO</td>\n",
       "      <td>271</td>\n",
       "      <td>0.002</td>\n",
       "      <td>0.815</td>\n",
       "    </tr>\n",
       "    <tr>\n",
       "      <th>24</th>\n",
       "      <td>FRADINHOS</td>\n",
       "      <td>258</td>\n",
       "      <td>0.002</td>\n",
       "      <td>0.814</td>\n",
       "    </tr>\n",
       "    <tr>\n",
       "      <th>7</th>\n",
       "      <td>BOA VISTA</td>\n",
       "      <td>312</td>\n",
       "      <td>0.003</td>\n",
       "      <td>0.814</td>\n",
       "    </tr>\n",
       "    <tr>\n",
       "      <th>12</th>\n",
       "      <td>CONQUISTA</td>\n",
       "      <td>849</td>\n",
       "      <td>0.008</td>\n",
       "      <td>0.812</td>\n",
       "    </tr>\n",
       "    <tr>\n",
       "      <th>...</th>\n",
       "      <td>...</td>\n",
       "      <td>...</td>\n",
       "      <td>...</td>\n",
       "      <td>...</td>\n",
       "    </tr>\n",
       "    <tr>\n",
       "      <th>63</th>\n",
       "      <td>SANTA HELENA</td>\n",
       "      <td>178</td>\n",
       "      <td>0.002</td>\n",
       "      <td>0.792</td>\n",
       "    </tr>\n",
       "    <tr>\n",
       "      <th>43</th>\n",
       "      <td>MARIA ORTIZ</td>\n",
       "      <td>5805</td>\n",
       "      <td>0.053</td>\n",
       "      <td>0.790</td>\n",
       "    </tr>\n",
       "    <tr>\n",
       "      <th>77</th>\n",
       "      <td>SÃO PEDRO</td>\n",
       "      <td>2448</td>\n",
       "      <td>0.022</td>\n",
       "      <td>0.790</td>\n",
       "    </tr>\n",
       "    <tr>\n",
       "      <th>10</th>\n",
       "      <td>CENTRO</td>\n",
       "      <td>3334</td>\n",
       "      <td>0.030</td>\n",
       "      <td>0.789</td>\n",
       "    </tr>\n",
       "    <tr>\n",
       "      <th>79</th>\n",
       "      <td>UNIVERSITÁRIO</td>\n",
       "      <td>152</td>\n",
       "      <td>0.001</td>\n",
       "      <td>0.789</td>\n",
       "    </tr>\n",
       "    <tr>\n",
       "      <th>60</th>\n",
       "      <td>ROMÃO</td>\n",
       "      <td>2214</td>\n",
       "      <td>0.020</td>\n",
       "      <td>0.786</td>\n",
       "    </tr>\n",
       "    <tr>\n",
       "      <th>4</th>\n",
       "      <td>BARRO VERMELHO</td>\n",
       "      <td>423</td>\n",
       "      <td>0.004</td>\n",
       "      <td>0.785</td>\n",
       "    </tr>\n",
       "    <tr>\n",
       "      <th>49</th>\n",
       "      <td>NAZARETH</td>\n",
       "      <td>135</td>\n",
       "      <td>0.001</td>\n",
       "      <td>0.785</td>\n",
       "    </tr>\n",
       "    <tr>\n",
       "      <th>76</th>\n",
       "      <td>SÃO JOSÉ</td>\n",
       "      <td>1977</td>\n",
       "      <td>0.018</td>\n",
       "      <td>0.784</td>\n",
       "    </tr>\n",
       "    <tr>\n",
       "      <th>14</th>\n",
       "      <td>CRUZAMENTO</td>\n",
       "      <td>1398</td>\n",
       "      <td>0.013</td>\n",
       "      <td>0.783</td>\n",
       "    </tr>\n",
       "    <tr>\n",
       "      <th>22</th>\n",
       "      <td>FONTE GRANDE</td>\n",
       "      <td>682</td>\n",
       "      <td>0.006</td>\n",
       "      <td>0.782</td>\n",
       "    </tr>\n",
       "    <tr>\n",
       "      <th>29</th>\n",
       "      <td>ILHA DAS CAIEIRAS</td>\n",
       "      <td>1071</td>\n",
       "      <td>0.010</td>\n",
       "      <td>0.781</td>\n",
       "    </tr>\n",
       "    <tr>\n",
       "      <th>3</th>\n",
       "      <td>ARIOVALDO FAVALESSA</td>\n",
       "      <td>282</td>\n",
       "      <td>0.003</td>\n",
       "      <td>0.780</td>\n",
       "    </tr>\n",
       "    <tr>\n",
       "      <th>20</th>\n",
       "      <td>ENSEADA DO SUÁ</td>\n",
       "      <td>235</td>\n",
       "      <td>0.002</td>\n",
       "      <td>0.779</td>\n",
       "    </tr>\n",
       "    <tr>\n",
       "      <th>44</th>\n",
       "      <td>MARUÍPE</td>\n",
       "      <td>1902</td>\n",
       "      <td>0.017</td>\n",
       "      <td>0.777</td>\n",
       "    </tr>\n",
       "    <tr>\n",
       "      <th>52</th>\n",
       "      <td>PARQUE MOSCOSO</td>\n",
       "      <td>802</td>\n",
       "      <td>0.007</td>\n",
       "      <td>0.777</td>\n",
       "    </tr>\n",
       "    <tr>\n",
       "      <th>18</th>\n",
       "      <td>DO MOSCOSO</td>\n",
       "      <td>413</td>\n",
       "      <td>0.004</td>\n",
       "      <td>0.777</td>\n",
       "    </tr>\n",
       "    <tr>\n",
       "      <th>6</th>\n",
       "      <td>BENTO FERREIRA</td>\n",
       "      <td>858</td>\n",
       "      <td>0.008</td>\n",
       "      <td>0.775</td>\n",
       "    </tr>\n",
       "    <tr>\n",
       "      <th>27</th>\n",
       "      <td>GURIGICA</td>\n",
       "      <td>2018</td>\n",
       "      <td>0.018</td>\n",
       "      <td>0.774</td>\n",
       "    </tr>\n",
       "    <tr>\n",
       "      <th>56</th>\n",
       "      <td>PRAIA DO SUÁ</td>\n",
       "      <td>1288</td>\n",
       "      <td>0.012</td>\n",
       "      <td>0.772</td>\n",
       "    </tr>\n",
       "    <tr>\n",
       "      <th>9</th>\n",
       "      <td>CARATOÍRA</td>\n",
       "      <td>2565</td>\n",
       "      <td>0.023</td>\n",
       "      <td>0.770</td>\n",
       "    </tr>\n",
       "    <tr>\n",
       "      <th>1</th>\n",
       "      <td>ANDORINHAS</td>\n",
       "      <td>2262</td>\n",
       "      <td>0.020</td>\n",
       "      <td>0.770</td>\n",
       "    </tr>\n",
       "    <tr>\n",
       "      <th>33</th>\n",
       "      <td>ILHA DO PRÍNCIPE</td>\n",
       "      <td>2266</td>\n",
       "      <td>0.021</td>\n",
       "      <td>0.765</td>\n",
       "    </tr>\n",
       "    <tr>\n",
       "      <th>28</th>\n",
       "      <td>HORTO</td>\n",
       "      <td>175</td>\n",
       "      <td>0.002</td>\n",
       "      <td>0.760</td>\n",
       "    </tr>\n",
       "    <tr>\n",
       "      <th>40</th>\n",
       "      <td>JESUS DE NAZARETH</td>\n",
       "      <td>2853</td>\n",
       "      <td>0.026</td>\n",
       "      <td>0.756</td>\n",
       "    </tr>\n",
       "    <tr>\n",
       "      <th>36</th>\n",
       "      <td>ITARARÉ</td>\n",
       "      <td>3514</td>\n",
       "      <td>0.032</td>\n",
       "      <td>0.737</td>\n",
       "    </tr>\n",
       "    <tr>\n",
       "      <th>62</th>\n",
       "      <td>SANTA CLARA</td>\n",
       "      <td>506</td>\n",
       "      <td>0.005</td>\n",
       "      <td>0.735</td>\n",
       "    </tr>\n",
       "    <tr>\n",
       "      <th>61</th>\n",
       "      <td>SANTA CECÍLIA</td>\n",
       "      <td>448</td>\n",
       "      <td>0.004</td>\n",
       "      <td>0.725</td>\n",
       "    </tr>\n",
       "    <tr>\n",
       "      <th>70</th>\n",
       "      <td>SANTOS DUMONT</td>\n",
       "      <td>1276</td>\n",
       "      <td>0.012</td>\n",
       "      <td>0.711</td>\n",
       "    </tr>\n",
       "    <tr>\n",
       "      <th>34</th>\n",
       "      <td>ILHAS OCEÂNICAS DE TRINDADE</td>\n",
       "      <td>2</td>\n",
       "      <td>0.000</td>\n",
       "      <td>0.000</td>\n",
       "    </tr>\n",
       "  </tbody>\n",
       "</table>\n",
       "<p>81 rows × 4 columns</p>\n",
       "</div>"
      ],
      "text/plain": [
       "                  Neighbourhood  count  count%  probability\n",
       "51            PARQUE INDUSTRIAL      1   0.000        1.000\n",
       "31                  ILHA DO BOI     35   0.000        0.914\n",
       "0                     AEROPORTO      8   0.000        0.875\n",
       "48               MÁRIO CYPRESTE    371   0.003        0.854\n",
       "73                 SOLON BORGES    469   0.004        0.853\n",
       "16                   DE LOURDES    305   0.003        0.846\n",
       "17                    DO CABRAL    560   0.005        0.843\n",
       "66                 SANTA MARTHA   3131   0.028        0.842\n",
       "39              JARDIM DA PENHA   3877   0.035        0.837\n",
       "19                    DO QUADRO    849   0.008        0.835\n",
       "80                   VILA RUBIM    851   0.008        0.834\n",
       "47            MORADA DE CAMBURI     96   0.001        0.833\n",
       "45                MATA DA PRAIA    644   0.006        0.829\n",
       "58                    REPÚBLICA    835   0.008        0.829\n",
       "13                   CONSOLAÇÃO   1375   0.012        0.828\n",
       "54            PONTAL DE CAMBURI     69   0.001        0.826\n",
       "69                SANTO ANTÔNIO   2744   0.025        0.824\n",
       "57                     REDENÇÃO   1553   0.014        0.823\n",
       "50               NOVA PALESTINA   2264   0.020        0.822\n",
       "37                       JABOUR   2509   0.023        0.820\n",
       "64                  SANTA LUÍZA    428   0.004        0.820\n",
       "11                      COMDUSA    310   0.003        0.819\n",
       "41                  JOANA D´ARC   1427   0.013        0.819\n",
       "23               FORTE SÃO JOÃO   1889   0.017        0.817\n",
       "78                   TABUAZEIRO   3131   0.028        0.817\n",
       "55               PRAIA DO CANTO   1035   0.009        0.816\n",
       "2               ANTÔNIO HONÓRIO    271   0.002        0.815\n",
       "24                    FRADINHOS    258   0.002        0.814\n",
       "7                     BOA VISTA    312   0.003        0.814\n",
       "12                    CONQUISTA    849   0.008        0.812\n",
       "..                          ...    ...     ...          ...\n",
       "63                 SANTA HELENA    178   0.002        0.792\n",
       "43                  MARIA ORTIZ   5805   0.053        0.790\n",
       "77                    SÃO PEDRO   2448   0.022        0.790\n",
       "10                       CENTRO   3334   0.030        0.789\n",
       "79                UNIVERSITÁRIO    152   0.001        0.789\n",
       "60                        ROMÃO   2214   0.020        0.786\n",
       "4                BARRO VERMELHO    423   0.004        0.785\n",
       "49                     NAZARETH    135   0.001        0.785\n",
       "76                     SÃO JOSÉ   1977   0.018        0.784\n",
       "14                   CRUZAMENTO   1398   0.013        0.783\n",
       "22                 FONTE GRANDE    682   0.006        0.782\n",
       "29            ILHA DAS CAIEIRAS   1071   0.010        0.781\n",
       "3           ARIOVALDO FAVALESSA    282   0.003        0.780\n",
       "20               ENSEADA DO SUÁ    235   0.002        0.779\n",
       "44                      MARUÍPE   1902   0.017        0.777\n",
       "52               PARQUE MOSCOSO    802   0.007        0.777\n",
       "18                   DO MOSCOSO    413   0.004        0.777\n",
       "6                BENTO FERREIRA    858   0.008        0.775\n",
       "27                     GURIGICA   2018   0.018        0.774\n",
       "56                 PRAIA DO SUÁ   1288   0.012        0.772\n",
       "9                     CARATOÍRA   2565   0.023        0.770\n",
       "1                    ANDORINHAS   2262   0.020        0.770\n",
       "33             ILHA DO PRÍNCIPE   2266   0.021        0.765\n",
       "28                        HORTO    175   0.002        0.760\n",
       "40            JESUS DE NAZARETH   2853   0.026        0.756\n",
       "36                      ITARARÉ   3514   0.032        0.737\n",
       "62                  SANTA CLARA    506   0.005        0.735\n",
       "61                SANTA CECÍLIA    448   0.004        0.725\n",
       "70                SANTOS DUMONT   1276   0.012        0.711\n",
       "34  ILHAS OCEÂNICAS DE TRINDADE      2   0.000        0.000\n",
       "\n",
       "[81 rows x 4 columns]"
      ]
     },
     "metadata": {},
     "output_type": "display_data"
    },
    {
     "data": {
      "image/png": "[encoded data removed]",
      "text/plain": [
       "<matplotlib.figure.Figure at 0x1a70178e2e8>"
      ]
     },
     "metadata": {},
     "output_type": "display_data"
    }
   ],
   "source": [
    "visualize_feature(no_show, 'Neighbourhood')"
   ]
  },
  {
   "cell_type": "markdown",
   "metadata": {},
   "source": [
    "JARDIM CAMBURI Neighbourhood has more patients about 7% with 74% no show."
   ]
  },
  {
   "cell_type": "code",
   "execution_count": 99,
   "metadata": {},
   "outputs": [
    {
     "data": {
      "text/html": [
       "<div>\n",
       "<style scoped>\n",
       "    .dataframe tbody tr th:only-of-type {\n",
       "        vertical-align: middle;\n",
       "    }\n",
       "\n",
       "    .dataframe tbody tr th {\n",
       "        vertical-align: top;\n",
       "    }\n",
       "\n",
       "    .dataframe thead th {\n",
       "        text-align: right;\n",
       "    }\n",
       "</style>\n",
       "<table border=\"1\" class=\"dataframe\">\n",
       "  <thead>\n",
       "    <tr style=\"text-align: right;\">\n",
       "      <th></th>\n",
       "      <th>Age</th>\n",
       "      <th>Neighbourhood</th>\n",
       "      <th>Scholarship</th>\n",
       "      <th>HyperTension</th>\n",
       "      <th>Diabetes</th>\n",
       "      <th>Alcoholism</th>\n",
       "      <th>HandiCap</th>\n",
       "      <th>SMS_received</th>\n",
       "      <th>no_show</th>\n",
       "      <th>WaitTime</th>\n",
       "      <th>num_gender</th>\n",
       "      <th>month</th>\n",
       "      <th>numday</th>\n",
       "    </tr>\n",
       "  </thead>\n",
       "  <tbody>\n",
       "    <tr>\n",
       "      <th>Age</th>\n",
       "      <td>1.000000</td>\n",
       "      <td>-0.016349</td>\n",
       "      <td>-0.092469</td>\n",
       "      <td>0.504599</td>\n",
       "      <td>0.292398</td>\n",
       "      <td>0.095811</td>\n",
       "      <td>0.078101</td>\n",
       "      <td>0.012629</td>\n",
       "      <td>0.060320</td>\n",
       "      <td>0.034813</td>\n",
       "      <td>-0.106439</td>\n",
       "      <td>0.014569</td>\n",
       "      <td>0.003043</td>\n",
       "    </tr>\n",
       "    <tr>\n",
       "      <th>Neighbourhood</th>\n",
       "      <td>-0.016349</td>\n",
       "      <td>1.000000</td>\n",
       "      <td>0.006879</td>\n",
       "      <td>0.004343</td>\n",
       "      <td>0.011358</td>\n",
       "      <td>-0.000003</td>\n",
       "      <td>0.010888</td>\n",
       "      <td>0.018297</td>\n",
       "      <td>0.009023</td>\n",
       "      <td>-0.002025</td>\n",
       "      <td>-0.008075</td>\n",
       "      <td>0.002308</td>\n",
       "      <td>0.000564</td>\n",
       "    </tr>\n",
       "    <tr>\n",
       "      <th>Scholarship</th>\n",
       "      <td>-0.092469</td>\n",
       "      <td>0.006879</td>\n",
       "      <td>1.000000</td>\n",
       "      <td>-0.019738</td>\n",
       "      <td>-0.024899</td>\n",
       "      <td>0.035019</td>\n",
       "      <td>-0.008555</td>\n",
       "      <td>0.001182</td>\n",
       "      <td>-0.029166</td>\n",
       "      <td>-0.030435</td>\n",
       "      <td>-0.114297</td>\n",
       "      <td>-0.002589</td>\n",
       "      <td>-0.000682</td>\n",
       "    </tr>\n",
       "    <tr>\n",
       "      <th>HyperTension</th>\n",
       "      <td>0.504599</td>\n",
       "      <td>0.004343</td>\n",
       "      <td>-0.019738</td>\n",
       "      <td>1.000000</td>\n",
       "      <td>0.433082</td>\n",
       "      <td>0.087967</td>\n",
       "      <td>0.080162</td>\n",
       "      <td>-0.006285</td>\n",
       "      <td>0.035662</td>\n",
       "      <td>-0.017236</td>\n",
       "      <td>-0.055721</td>\n",
       "      <td>0.003776</td>\n",
       "      <td>0.003442</td>\n",
       "    </tr>\n",
       "    <tr>\n",
       "      <th>Diabetes</th>\n",
       "      <td>0.292398</td>\n",
       "      <td>0.011358</td>\n",
       "      <td>-0.024899</td>\n",
       "      <td>0.433082</td>\n",
       "      <td>1.000000</td>\n",
       "      <td>0.018471</td>\n",
       "      <td>0.057578</td>\n",
       "      <td>-0.014561</td>\n",
       "      <td>0.015158</td>\n",
       "      <td>-0.027200</td>\n",
       "      <td>-0.032555</td>\n",
       "      <td>0.003739</td>\n",
       "      <td>0.006607</td>\n",
       "    </tr>\n",
       "    <tr>\n",
       "      <th>Alcoholism</th>\n",
       "      <td>0.095811</td>\n",
       "      <td>-0.000003</td>\n",
       "      <td>0.035019</td>\n",
       "      <td>0.087967</td>\n",
       "      <td>0.018471</td>\n",
       "      <td>1.000000</td>\n",
       "      <td>0.004668</td>\n",
       "      <td>-0.026154</td>\n",
       "      <td>0.000181</td>\n",
       "      <td>-0.038527</td>\n",
       "      <td>0.106170</td>\n",
       "      <td>0.003919</td>\n",
       "      <td>0.002696</td>\n",
       "    </tr>\n",
       "    <tr>\n",
       "      <th>HandiCap</th>\n",
       "      <td>0.078101</td>\n",
       "      <td>0.010888</td>\n",
       "      <td>-0.008555</td>\n",
       "      <td>0.080162</td>\n",
       "      <td>0.057578</td>\n",
       "      <td>0.004668</td>\n",
       "      <td>1.000000</td>\n",
       "      <td>-0.024097</td>\n",
       "      <td>0.006290</td>\n",
       "      <td>-0.019774</td>\n",
       "      <td>0.022787</td>\n",
       "      <td>-0.001430</td>\n",
       "      <td>0.004461</td>\n",
       "    </tr>\n",
       "    <tr>\n",
       "      <th>SMS_received</th>\n",
       "      <td>0.012629</td>\n",
       "      <td>0.018297</td>\n",
       "      <td>0.001182</td>\n",
       "      <td>-0.006285</td>\n",
       "      <td>-0.014561</td>\n",
       "      <td>-0.026154</td>\n",
       "      <td>-0.024097</td>\n",
       "      <td>1.000000</td>\n",
       "      <td>-0.126502</td>\n",
       "      <td>0.398128</td>\n",
       "      <td>-0.046301</td>\n",
       "      <td>0.108070</td>\n",
       "      <td>-0.089880</td>\n",
       "    </tr>\n",
       "    <tr>\n",
       "      <th>no_show</th>\n",
       "      <td>0.060320</td>\n",
       "      <td>0.009023</td>\n",
       "      <td>-0.029166</td>\n",
       "      <td>0.035662</td>\n",
       "      <td>0.015158</td>\n",
       "      <td>0.000181</td>\n",
       "      <td>0.006290</td>\n",
       "      <td>-0.126502</td>\n",
       "      <td>1.000000</td>\n",
       "      <td>-0.186320</td>\n",
       "      <td>0.004132</td>\n",
       "      <td>0.020841</td>\n",
       "      <td>-0.001189</td>\n",
       "    </tr>\n",
       "    <tr>\n",
       "      <th>WaitTime</th>\n",
       "      <td>0.034813</td>\n",
       "      <td>-0.002025</td>\n",
       "      <td>-0.030435</td>\n",
       "      <td>-0.017236</td>\n",
       "      <td>-0.027200</td>\n",
       "      <td>-0.038527</td>\n",
       "      <td>-0.019774</td>\n",
       "      <td>0.398128</td>\n",
       "      <td>-0.186320</td>\n",
       "      <td>1.000000</td>\n",
       "      <td>-0.028411</td>\n",
       "      <td>0.003848</td>\n",
       "      <td>-0.011341</td>\n",
       "    </tr>\n",
       "    <tr>\n",
       "      <th>num_gender</th>\n",
       "      <td>-0.106439</td>\n",
       "      <td>-0.008075</td>\n",
       "      <td>-0.114297</td>\n",
       "      <td>-0.055721</td>\n",
       "      <td>-0.032555</td>\n",
       "      <td>0.106170</td>\n",
       "      <td>0.022787</td>\n",
       "      <td>-0.046301</td>\n",
       "      <td>0.004132</td>\n",
       "      <td>-0.028411</td>\n",
       "      <td>1.000000</td>\n",
       "      <td>-0.006038</td>\n",
       "      <td>0.003933</td>\n",
       "    </tr>\n",
       "    <tr>\n",
       "      <th>month</th>\n",
       "      <td>0.014569</td>\n",
       "      <td>0.002308</td>\n",
       "      <td>-0.002589</td>\n",
       "      <td>0.003776</td>\n",
       "      <td>0.003739</td>\n",
       "      <td>0.003919</td>\n",
       "      <td>-0.001430</td>\n",
       "      <td>0.108070</td>\n",
       "      <td>0.020841</td>\n",
       "      <td>0.003848</td>\n",
       "      <td>-0.006038</td>\n",
       "      <td>1.000000</td>\n",
       "      <td>-0.062485</td>\n",
       "    </tr>\n",
       "    <tr>\n",
       "      <th>numday</th>\n",
       "      <td>0.003043</td>\n",
       "      <td>0.000564</td>\n",
       "      <td>-0.000682</td>\n",
       "      <td>0.003442</td>\n",
       "      <td>0.006607</td>\n",
       "      <td>0.002696</td>\n",
       "      <td>0.004461</td>\n",
       "      <td>-0.089880</td>\n",
       "      <td>-0.001189</td>\n",
       "      <td>-0.011341</td>\n",
       "      <td>0.003933</td>\n",
       "      <td>-0.062485</td>\n",
       "      <td>1.000000</td>\n",
       "    </tr>\n",
       "  </tbody>\n",
       "</table>\n",
       "</div>"
      ],
      "text/plain": [
       "                    Age  Neighbourhood  Scholarship  HyperTension  Diabetes  \\\n",
       "Age            1.000000      -0.016349    -0.092469      0.504599  0.292398   \n",
       "Neighbourhood -0.016349       1.000000     0.006879      0.004343  0.011358   \n",
       "Scholarship   -0.092469       0.006879     1.000000     -0.019738 -0.024899   \n",
       "HyperTension   0.504599       0.004343    -0.019738      1.000000  0.433082   \n",
       "Diabetes       0.292398       0.011358    -0.024899      0.433082  1.000000   \n",
       "Alcoholism     0.095811      -0.000003     0.035019      0.087967  0.018471   \n",
       "HandiCap       0.078101       0.010888    -0.008555      0.080162  0.057578   \n",
       "SMS_received   0.012629       0.018297     0.001182     -0.006285 -0.014561   \n",
       "no_show        0.060320       0.009023    -0.029166      0.035662  0.015158   \n",
       "WaitTime       0.034813      -0.002025    -0.030435     -0.017236 -0.027200   \n",
       "num_gender    -0.106439      -0.008075    -0.114297     -0.055721 -0.032555   \n",
       "month          0.014569       0.002308    -0.002589      0.003776  0.003739   \n",
       "numday         0.003043       0.000564    -0.000682      0.003442  0.006607   \n",
       "\n",
       "               Alcoholism  HandiCap  SMS_received   no_show  WaitTime  \\\n",
       "Age              0.095811  0.078101      0.012629  0.060320  0.034813   \n",
       "Neighbourhood   -0.000003  0.010888      0.018297  0.009023 -0.002025   \n",
       "Scholarship      0.035019 -0.008555      0.001182 -0.029166 -0.030435   \n",
       "HyperTension     0.087967  0.080162     -0.006285  0.035662 -0.017236   \n",
       "Diabetes         0.018471  0.057578     -0.014561  0.015158 -0.027200   \n",
       "Alcoholism       1.000000  0.004668     -0.026154  0.000181 -0.038527   \n",
       "HandiCap         0.004668  1.000000     -0.024097  0.006290 -0.019774   \n",
       "SMS_received    -0.026154 -0.024097      1.000000 -0.126502  0.398128   \n",
       "no_show          0.000181  0.006290     -0.126502  1.000000 -0.186320   \n",
       "WaitTime        -0.038527 -0.019774      0.398128 -0.186320  1.000000   \n",
       "num_gender       0.106170  0.022787     -0.046301  0.004132 -0.028411   \n",
       "month            0.003919 -0.001430      0.108070  0.020841  0.003848   \n",
       "numday           0.002696  0.004461     -0.089880 -0.001189 -0.011341   \n",
       "\n",
       "               num_gender     month    numday  \n",
       "Age             -0.106439  0.014569  0.003043  \n",
       "Neighbourhood   -0.008075  0.002308  0.000564  \n",
       "Scholarship     -0.114297 -0.002589 -0.000682  \n",
       "HyperTension    -0.055721  0.003776  0.003442  \n",
       "Diabetes        -0.032555  0.003739  0.006607  \n",
       "Alcoholism       0.106170  0.003919  0.002696  \n",
       "HandiCap         0.022787 -0.001430  0.004461  \n",
       "SMS_received    -0.046301  0.108070 -0.089880  \n",
       "no_show          0.004132  0.020841 -0.001189  \n",
       "WaitTime        -0.028411  0.003848 -0.011341  \n",
       "num_gender       1.000000 -0.006038  0.003933  \n",
       "month           -0.006038  1.000000 -0.062485  \n",
       "numday           0.003933 -0.062485  1.000000  "
      ]
     },
     "execution_count": 99,
     "metadata": {},
     "output_type": "execute_result"
    },
    {
     "data": {
      "image/png": "[encoded data removed]",
      "text/plain": [
       "<matplotlib.figure.Figure at 0x1a700d86f60>"
      ]
     },
     "metadata": {},
     "output_type": "display_data"
    }
   ],
   "source": [
    "no_show['numday']=no_show['AppointmentDay'].dt.weekday\n",
    "le = preprocessing.LabelEncoder()\n",
    "no_show['Neighbourhood'] = le.fit_transform(no_show['Neighbourhood'])\n",
    "\n",
    "no_show_corr=no_show.drop(['PatientId','AppointmentID','Gender','age_bucket','waiting_time_range'],axis=1)\n",
    "corr=no_show_corr.corr()\n",
    "corr = (corr)\n",
    "sns.heatmap(corr, xticklabels=corr.columns.values,\n",
    "            yticklabels=corr.columns.values)\n",
    "plt.title('Heatmap of Correlation Matrix')\n",
    "corr\n"
   ]
  },
  {
   "cell_type": "markdown",
   "metadata": {},
   "source": [
    "From the above correlation graph, there are no strong relationship to determine whether or not a patient will miss a visit (given by the numNoshows column). It appears that there are not even any strong relationships whatsoever though there is a moderate relationship between age and hypertension."
   ]
  },
  {
   "cell_type": "markdown",
   "metadata": {
    "collapsed": true
   },
   "source": [
    "###  Inferential Statistics"
   ]
  },
  {
   "cell_type": "markdown",
   "metadata": {},
   "source": [
    "### Analyzing relation between no-show and Gender"
   ]
  },
  {
   "cell_type": "markdown",
   "metadata": {},
   "source": []
  },
  {
   "cell_type": "code",
   "execution_count": 30,
   "metadata": {},
   "outputs": [
    {
     "data": {
      "text/plain": [
       "Ttest_indResult(statistic=-20.828722438301273, pvalue=8.703951340185734e-96)"
      ]
     },
     "execution_count": 30,
     "metadata": {},
     "output_type": "execute_result"
    }
   ],
   "source": [
    "import scipy.stats as stats\n",
    "\n",
    "noshow = np.array(no_show.Age[no_show.no_show == 0])\n",
    "show = np.array(no_show.Age[no_show.no_show == 1])\n",
    "\n",
    "stats.ttest_ind(noshow,show,equal_var=False,nan_policy='omit')\n"
   ]
  },
  {
   "cell_type": "markdown",
   "metadata": {},
   "source": [
    "NULL HYPOTHESIS: There is no Geneder effect regarding those who miss the appointmnet( Sample mean of male=sample mean of female)\n",
    "ALTERNATE HYPOTHESIS:There is Geneder effect regarding those who miss the appointmnet( Sample mean of male != sample mean of female)"
   ]
  },
  {
   "cell_type": "code",
   "execution_count": 31,
   "metadata": {},
   "outputs": [
    {
     "data": {
      "text/plain": [
       "Ttest_indResult(statistic=-1.3762907786839724, pvalue=0.16873549634686227)"
      ]
     },
     "execution_count": 31,
     "metadata": {},
     "output_type": "execute_result"
    }
   ],
   "source": [
    "female = np.array(no_show.no_show[no_show.Gender == 'F'])\n",
    "male = np.array(no_show.no_show[no_show.Gender == 'M'])\n",
    "\n",
    "stats.ttest_ind(female,male,equal_var=False)"
   ]
  },
  {
   "cell_type": "markdown",
   "metadata": {},
   "source": [
    "p-value=0.53 > 0.05 (significance level) so we can not reject the null hypothesis, which implies There is no Geneder effect on no-show."
   ]
  },
  {
   "cell_type": "markdown",
   "metadata": {},
   "source": [
    "### month analysis\n",
    "NULL HYPOTHESIS: There is no month effect on no-shows ( sample means of all the months are same)\n",
    "ALTERNATE HYPOTHESIS: There is effect of month on no-shows ( some of sample means of the months are not same)"
   ]
  },
  {
   "cell_type": "code",
   "execution_count": 32,
   "metadata": {},
   "outputs": [],
   "source": [
    "import calendar    \n",
    "monthName = no_show['month'].apply(lambda x: calendar.month_name[x])\n",
    "monthName=monthName.unique()"
   ]
  },
  {
   "cell_type": "code",
   "execution_count": 33,
   "metadata": {},
   "outputs": [
    {
     "data": {
      "text/plain": [
       "F_onewayResult(statistic=33.823341256192954, pvalue=2.0663470501593316e-15)"
      ]
     },
     "execution_count": 33,
     "metadata": {},
     "output_type": "execute_result"
    }
   ],
   "source": [
    "anova_month = pd.DataFrame({\"month\":no_show['month'].apply(lambda x: calendar.month_name[x]),\"noshow\":no_show['no_show']})\n",
    "groups = anova_month.groupby(\"month\").groups\n",
    "\n",
    "# Etract individual groups\n",
    "April = no_show['no_show'][groups[\"April\"]]\n",
    "May = no_show['no_show'][groups[\"May\"]]\n",
    "June = no_show['no_show'][groups[\"June\"]]\n",
    "\n",
    "# Perform the ANOVA\n",
    "stats.f_oneway(April,May,June)"
   ]
  },
  {
   "cell_type": "markdown",
   "metadata": {},
   "source": [
    "Based on P-Value, which is less than significant value=0.05 we can reject the NULL hypothesis.so some of the sample means of the months is different.We can not determine for which month sample mean is different.\n",
    "\n",
    "Post-hoc test is used to find for which month sample mean is different."
   ]
  },
  {
   "cell_type": "markdown",
   "metadata": {},
   "source": [
    "### post-hoc test is to perform a separate t-test for each pair of groups."
   ]
  },
  {
   "cell_type": "code",
   "execution_count": 34,
   "metadata": {},
   "outputs": [
    {
     "name": "stdout",
     "output_type": "stream",
     "text": [
      "April May\n",
      "Ttest_indResult(statistic=1.6705920208013705, pvalue=0.09480601201977179)\n",
      "April June\n",
      "Ttest_indResult(statistic=-1.5319393029446733, pvalue=0.12554807062954093)\n",
      "May June\n",
      "Ttest_indResult(statistic=-8.173091898390496, pvalue=3.0381923514162332e-16)\n"
     ]
    }
   ],
   "source": [
    "# Get all month pairs\n",
    "month_pairs = []\n",
    "\n",
    "for month1 in range(2):\n",
    "    for month2  in range(month1+1,3):\n",
    "        month_pairs.append((monthName[month1], monthName[month2]))\n",
    "\n",
    "# Conduct t-test on each pair\n",
    "for month1, month2 in month_pairs: \n",
    "    print(month1, month2)\n",
    "    print(stats.ttest_ind(no_show['no_show'][groups[month1]], \n",
    "                          no_show['no_show'][groups[month2]]))"
   ]
  },
  {
   "cell_type": "markdown",
   "metadata": {},
   "source": [
    "Based on P-value of month pairs, may,june pair has sample mean different."
   ]
  },
  {
   "cell_type": "markdown",
   "metadata": {},
   "source": [
    "### weekday analysis\n",
    "\n",
    "NULL HYPOTHESIS: There is no weekday effect on no-shows ( sample means of all the weekdays are same)\n",
    "ALTERNATE HYPOTHESIS: There is effect of weekday on no-shows ( some of sample means of the weekdays are not same)"
   ]
  },
  {
   "cell_type": "code",
   "execution_count": 35,
   "metadata": {},
   "outputs": [
    {
     "data": {
      "text/plain": [
       "F_onewayResult(statistic=5.51955143477407, pvalue=4.367746993395855e-05)"
      ]
     },
     "execution_count": 35,
     "metadata": {},
     "output_type": "execute_result"
    }
   ],
   "source": [
    "weekday_df = pd.DataFrame({\"day\":no_show['day'],\"noshow\":no_show['no_show']})\n",
    "groups = weekday_df.groupby(\"day\").groups\n",
    "weekday=no_show['day'].unique()\n",
    "# Etract individual groups\n",
    "Monday = no_show['no_show'][groups[\"Monday\"]]\n",
    "Tuesday = no_show['no_show'][groups[\"Tuesday\"]]\n",
    "Wednesday = no_show['no_show'][groups[\"Wednesday\"]]\n",
    "Thursday = no_show['no_show'][groups[\"Thursday\"]]\n",
    "Friday = no_show['no_show'][groups[\"Friday\"]]\n",
    "Saturday = no_show['no_show'][groups[\"Saturday\"]]\n",
    "\n",
    "\n",
    "# Perform the ANOVA\n",
    "stats.f_oneway(Monday,Tuesday,Wednesday,Thursday,Friday,Saturday)"
   ]
  },
  {
   "cell_type": "code",
   "execution_count": 36,
   "metadata": {},
   "outputs": [
    {
     "name": "stdout",
     "output_type": "stream",
     "text": [
      "Friday Tuesday\n",
      "Ttest_indResult(statistic=-2.943963457071001, pvalue=0.003242050938267981)\n",
      "Friday Monday\n",
      "Ttest_indResult(statistic=-1.455022927075494, pvalue=0.14567043630924748)\n",
      "Friday Wednesday\n",
      "Ttest_indResult(statistic=-4.006183603971126, pvalue=6.180708841189068e-05)\n",
      "Friday Thursday\n",
      "Ttest_indResult(statistic=-4.435638459800174, pvalue=9.206954872788174e-06)\n",
      "Friday Saturday\n",
      "Ttest_indResult(statistic=0.28233563175591525, pvalue=0.7776892325195678)\n",
      "Tuesday Monday\n",
      "Ttest_indResult(statistic=1.518856405206274, pvalue=0.1288051830458258)\n",
      "Tuesday Wednesday\n",
      "Ttest_indResult(statistic=-1.1408314125933248, pvalue=0.2539453906263538)\n",
      "Tuesday Thursday\n",
      "Ttest_indResult(statistic=-1.8807659181988168, pvalue=0.06001053885243948)\n",
      "Tuesday Saturday\n",
      "Ttest_indResult(statistic=0.4655725656695368, pvalue=0.641525432989138)\n",
      "Monday Wednesday\n",
      "Ttest_indResult(statistic=-2.6286913079636673, pvalue=0.008574109983606235)\n",
      "Monday Thursday\n",
      "Ttest_indResult(statistic=-3.200990098535132, pvalue=0.0013706332039675878)\n",
      "Monday Saturday\n",
      "Ttest_indResult(statistic=0.3749263107792055, pvalue=0.7077187657735645)\n",
      "Wednesday Thursday\n",
      "Ttest_indResult(statistic=-0.8634690843407821, pvalue=0.3878844139826012)\n",
      "Wednesday Saturday\n",
      "Ttest_indResult(statistic=0.5320858051503695, pvalue=0.5946711317440688)\n",
      "Thursday Saturday\n",
      "Ttest_indResult(statistic=0.5884780942569319, pvalue=0.5562191232149064)\n"
     ]
    }
   ],
   "source": [
    "# Get all weekday pairs\n",
    "weekday_pairs = []\n",
    "\n",
    "for wkday1 in range(5):\n",
    "    for wkday2  in range(wkday1+1,6):\n",
    "        weekday_pairs.append((weekday[wkday1], weekday[wkday2]))\n",
    "\n",
    "# Conduct t-test on each pair\n",
    "for wkday1,wkday2 in weekday_pairs: \n",
    "    print(wkday1,wkday2)\n",
    "    print(stats.ttest_ind(no_show['no_show'][groups[wkday1]], \n",
    "                          no_show['no_show'][groups[wkday2]]))"
   ]
  },
  {
   "cell_type": "markdown",
   "metadata": {},
   "source": [
    "corrected significance level=0.05/15 is 0.003. "
   ]
  },
  {
   "cell_type": "markdown",
   "metadata": {},
   "source": [
    "### Analyzing between no-show ups and health condition\n",
    "\n",
    "NULL HYPOTHESIS: There is no effect between health condition and no-shows ( sample means of all the health conditions is same)\n",
    "ALTERNATE HYPOTHESIS: There is some effect between health condition and no-shows ( some of sample means of the weekdays are not same)"
   ]
  },
  {
   "cell_type": "code",
   "execution_count": 37,
   "metadata": {},
   "outputs": [
    {
     "data": {
      "text/plain": [
       "F_onewayResult(statistic=10299.038933074067, pvalue=0.0)"
      ]
     },
     "execution_count": 37,
     "metadata": {},
     "output_type": "execute_result"
    }
   ],
   "source": [
    "stats.f_oneway(no_show['HyperTension'],no_show['Diabetes'],no_show['Alcoholism'],no_show['HandiCap'])\n",
    " "
   ]
  },
  {
   "cell_type": "markdown",
   "metadata": {},
   "source": [
    "Based on the P-value, we can not reject the NULL hypothesis, which means there is no effect between health condition and no-shows"
   ]
  },
  {
   "cell_type": "markdown",
   "metadata": {},
   "source": [
    "### Analyzing between SMS and  patient's no-show rate\n",
    "\n",
    "NULL HYPOTHESIS: There is no effect between SMS-received and no-shows ( sample mean of SMS-received = sample mean of no-show)\n",
    "ALTERNATE HYPOTHESIS: There is some effect between SMS-received and no-shows ( sample mean of SMS-received != sample mean of no-show)\n"
   ]
  },
  {
   "cell_type": "code",
   "execution_count": 38,
   "metadata": {},
   "outputs": [
    {
     "name": "stderr",
     "output_type": "stream",
     "text": [
      "C:\\Users\\Lenovo\\Anaconda3\\lib\\site-packages\\ipykernel_launcher.py:6: DeprecationWarning: \n",
      ".ix is deprecated. Please use\n",
      ".loc for label based indexing or\n",
      ".iloc for positional indexing\n",
      "\n",
      "See the documentation here:\n",
      "http://pandas.pydata.org/pandas-docs/stable/indexing.html#ix-indexer-is-deprecated\n",
      "  \n"
     ]
    },
    {
     "data": {
      "text/html": [
       "<div>\n",
       "<style scoped>\n",
       "    .dataframe tbody tr th:only-of-type {\n",
       "        vertical-align: middle;\n",
       "    }\n",
       "\n",
       "    .dataframe tbody tr th {\n",
       "        vertical-align: top;\n",
       "    }\n",
       "\n",
       "    .dataframe thead th {\n",
       "        text-align: right;\n",
       "    }\n",
       "</style>\n",
       "<table border=\"1\" class=\"dataframe\">\n",
       "  <thead>\n",
       "    <tr style=\"text-align: right;\">\n",
       "      <th></th>\n",
       "      <th>sms</th>\n",
       "      <th>no-sms</th>\n",
       "    </tr>\n",
       "  </thead>\n",
       "  <tbody>\n",
       "    <tr>\n",
       "      <th>show</th>\n",
       "      <td>12530</td>\n",
       "      <td>62509</td>\n",
       "    </tr>\n",
       "    <tr>\n",
       "      <th>no-show</th>\n",
       "      <td>9784</td>\n",
       "      <td>25698</td>\n",
       "    </tr>\n",
       "  </tbody>\n",
       "</table>\n",
       "</div>"
      ],
      "text/plain": [
       "           sms  no-sms\n",
       "show     12530   62509\n",
       "no-show   9784   25698"
      ]
     },
     "execution_count": 38,
     "metadata": {},
     "output_type": "execute_result"
    }
   ],
   "source": [
    "sms_df = pd.DataFrame({\"SMS\":no_show['SMS_received'],\"noshow\":no_show['no_show']})\n",
    "sms_tab = pd.crosstab(sms_df.SMS, sms_df.noshow, margins = True)\n",
    "sms_tab.columns = [\"sms\",\"no-sms\", \"row_totals\"]\n",
    "sms_tab.index = [\"show\",\"no-show\",\"col_totals\"]\n",
    "\n",
    "observed =sms_tab.ix[0:2,0:2]   # Get table without totals for later use\n",
    "observed"
   ]
  },
  {
   "cell_type": "code",
   "execution_count": 39,
   "metadata": {},
   "outputs": [
    {
     "data": {
      "text/html": [
       "<div>\n",
       "<style scoped>\n",
       "    .dataframe tbody tr th:only-of-type {\n",
       "        vertical-align: middle;\n",
       "    }\n",
       "\n",
       "    .dataframe tbody tr th {\n",
       "        vertical-align: top;\n",
       "    }\n",
       "\n",
       "    .dataframe thead th {\n",
       "        text-align: right;\n",
       "    }\n",
       "</style>\n",
       "<table border=\"1\" class=\"dataframe\">\n",
       "  <thead>\n",
       "    <tr style=\"text-align: right;\">\n",
       "      <th></th>\n",
       "      <th>sms</th>\n",
       "      <th>no-sms</th>\n",
       "    </tr>\n",
       "  </thead>\n",
       "  <tbody>\n",
       "    <tr>\n",
       "      <th>show</th>\n",
       "      <td>15150.245166</td>\n",
       "      <td>59888.754834</td>\n",
       "    </tr>\n",
       "    <tr>\n",
       "      <th>no-show</th>\n",
       "      <td>7163.754834</td>\n",
       "      <td>28318.245166</td>\n",
       "    </tr>\n",
       "  </tbody>\n",
       "</table>\n",
       "</div>"
      ],
      "text/plain": [
       "                  sms        no-sms\n",
       "show     15150.245166  59888.754834\n",
       "no-show   7163.754834  28318.245166"
      ]
     },
     "execution_count": 39,
     "metadata": {},
     "output_type": "execute_result"
    }
   ],
   "source": [
    "count=no_show['SMS_received'].count()\n",
    "expected =  np.outer(sms_tab[\"row_totals\"][0:2],\n",
    "                     sms_tab.ix[\"col_totals\"][0:2]) / count\n",
    "expected = pd.DataFrame(expected)\n",
    "\n",
    "expected.columns = [\"sms\",\"no-sms\"]\n",
    "expected.index = [\"show\",\"no-show\"]\n",
    "\n",
    "expected"
   ]
  },
  {
   "cell_type": "code",
   "execution_count": 40,
   "metadata": {},
   "outputs": [
    {
     "name": "stdout",
     "output_type": "stream",
     "text": [
      "1768.6531200329373\n"
     ]
    }
   ],
   "source": [
    "chi_squared_stat = (((observed-expected)**2)/expected).sum().sum()\n",
    "\n",
    "print(chi_squared_stat)"
   ]
  },
  {
   "cell_type": "code",
   "execution_count": 41,
   "metadata": {},
   "outputs": [
    {
     "name": "stdout",
     "output_type": "stream",
     "text": [
      "Critical value\n",
      "3.8414588206941236\n",
      "P value\n",
      "0.0\n"
     ]
    }
   ],
   "source": [
    "\n",
    "crit = stats.chi2.ppf(q = 0.95, # Find the critical value for 95% confidence* Find t \n",
    "                      df = 1)   # *\n",
    "\n",
    "print(\"Critical value\")\n",
    "print(crit)\n",
    "\n",
    "p_value = 1 - stats.chi2.cdf(x=chi_squared_stat,  # Find the p-value\n",
    "                             df=1)\n",
    "print(\"P value\")\n",
    "print(p_value)"
   ]
  },
  {
   "cell_type": "markdown",
   "metadata": {},
   "source": [
    "P-value is less than 0.05,we can reject the NULL hypothesis. Which means there is some effect of SMS and no_shows. \n",
    "\n"
   ]
  },
  {
   "cell_type": "markdown",
   "metadata": {},
   "source": [
    "### analyzing no-show up and scholarships\n",
    "\n",
    "NULL HYPOTHESIS: There is no effect between scholarship and no-shows ( sample mean of scholarship = sample mean of no-show)\n",
    "ALTERNATE HYPOTHESIS: There is some effect between scholarship and no-shows ( sample mean of scholarship != sample mean of no-show)"
   ]
  },
  {
   "cell_type": "code",
   "execution_count": 42,
   "metadata": {},
   "outputs": [
    {
     "name": "stderr",
     "output_type": "stream",
     "text": [
      "C:\\Users\\Lenovo\\Anaconda3\\lib\\site-packages\\ipykernel_launcher.py:5: DeprecationWarning: \n",
      ".ix is deprecated. Please use\n",
      ".loc for label based indexing or\n",
      ".iloc for positional indexing\n",
      "\n",
      "See the documentation here:\n",
      "http://pandas.pydata.org/pandas-docs/stable/indexing.html#ix-indexer-is-deprecated\n",
      "  \"\"\"\n"
     ]
    },
    {
     "data": {
      "text/html": [
       "<div>\n",
       "<style scoped>\n",
       "    .dataframe tbody tr th:only-of-type {\n",
       "        vertical-align: middle;\n",
       "    }\n",
       "\n",
       "    .dataframe tbody tr th {\n",
       "        vertical-align: top;\n",
       "    }\n",
       "\n",
       "    .dataframe thead th {\n",
       "        text-align: right;\n",
       "    }\n",
       "</style>\n",
       "<table border=\"1\" class=\"dataframe\">\n",
       "  <thead>\n",
       "    <tr style=\"text-align: right;\">\n",
       "      <th></th>\n",
       "      <th>Scholarship</th>\n",
       "      <th>no-Scholarship</th>\n",
       "    </tr>\n",
       "  </thead>\n",
       "  <tbody>\n",
       "    <tr>\n",
       "      <th>show</th>\n",
       "      <td>19736</td>\n",
       "      <td>79924</td>\n",
       "    </tr>\n",
       "    <tr>\n",
       "      <th>no-show</th>\n",
       "      <td>2578</td>\n",
       "      <td>8283</td>\n",
       "    </tr>\n",
       "  </tbody>\n",
       "</table>\n",
       "</div>"
      ],
      "text/plain": [
       "         Scholarship  no-Scholarship\n",
       "show           19736           79924\n",
       "no-show         2578            8283"
      ]
     },
     "execution_count": 42,
     "metadata": {},
     "output_type": "execute_result"
    }
   ],
   "source": [
    "Scholarship_tab = pd.crosstab(no_show['Scholarship'], no_show['no_show'], margins = True)\n",
    "Scholarship_tab.columns = [\"Scholarship\",\"no-Scholarship\", \"row_totals\"]\n",
    "Scholarship_tab.index = [\"show\",\"no-show\",\"col_totals\"]\n",
    "\n",
    "observed =Scholarship_tab.ix[0:2,0:2]   # Get table without totals for later use\n",
    "observed"
   ]
  },
  {
   "cell_type": "code",
   "execution_count": 43,
   "metadata": {},
   "outputs": [
    {
     "data": {
      "text/html": [
       "<div>\n",
       "<style scoped>\n",
       "    .dataframe tbody tr th:only-of-type {\n",
       "        vertical-align: middle;\n",
       "    }\n",
       "\n",
       "    .dataframe tbody tr th {\n",
       "        vertical-align: top;\n",
       "    }\n",
       "\n",
       "    .dataframe thead th {\n",
       "        text-align: right;\n",
       "    }\n",
       "</style>\n",
       "<table border=\"1\" class=\"dataframe\">\n",
       "  <thead>\n",
       "    <tr style=\"text-align: right;\">\n",
       "      <th></th>\n",
       "      <th>Scholarship</th>\n",
       "      <th>no-Scholarship</th>\n",
       "    </tr>\n",
       "  </thead>\n",
       "  <tbody>\n",
       "    <tr>\n",
       "      <th>show</th>\n",
       "      <td>20121.182762</td>\n",
       "      <td>79538.817238</td>\n",
       "    </tr>\n",
       "    <tr>\n",
       "      <th>no-show</th>\n",
       "      <td>2192.817238</td>\n",
       "      <td>8668.182762</td>\n",
       "    </tr>\n",
       "  </tbody>\n",
       "</table>\n",
       "</div>"
      ],
      "text/plain": [
       "          Scholarship  no-Scholarship\n",
       "show     20121.182762    79538.817238\n",
       "no-show   2192.817238     8668.182762"
      ]
     },
     "execution_count": 43,
     "metadata": {},
     "output_type": "execute_result"
    }
   ],
   "source": [
    "count=no_show['SMS_received'].count()\n",
    "expected =  np.outer(Scholarship_tab[\"row_totals\"][0:2],\n",
    "                     Scholarship_tab.ix[\"col_totals\"][0:2]) / count\n",
    "expected = pd.DataFrame(expected)\n",
    "\n",
    "expected.columns = [\"Scholarship\",\"no-Scholarship\"]\n",
    "expected.index = [\"show\",\"no-show\"]\n",
    "\n",
    "expected"
   ]
  },
  {
   "cell_type": "code",
   "execution_count": 44,
   "metadata": {},
   "outputs": [
    {
     "name": "stdout",
     "output_type": "stream",
     "text": [
      "94.0149513615204\n"
     ]
    }
   ],
   "source": [
    "chi_squared_stat = (((observed-expected)**2)/expected).sum().sum()\n",
    "\n",
    "print(chi_squared_stat)"
   ]
  },
  {
   "cell_type": "code",
   "execution_count": 46,
   "metadata": {},
   "outputs": [
    {
     "name": "stdout",
     "output_type": "stream",
     "text": [
      "Critical value\n",
      "3.8414588206941236\n",
      "P value\n",
      "0.0\n"
     ]
    }
   ],
   "source": [
    "\n",
    "crit = stats.chi2.ppf(q = 0.95, # Find the critical value for 95% confidence\n",
    "                      df = 1)  \n",
    "\n",
    "print(\"Critical value\")\n",
    "print(crit)\n",
    "\n",
    "p_value = 1 - stats.chi2.cdf(x=chi_squared_stat,  # Find the p-value\n",
    "                             df=1)\n",
    "print(\"P value\")\n",
    "print(p_value)"
   ]
  },
  {
   "cell_type": "raw",
   "metadata": {},
   "source": [
    "based on p-value, we can't  reject NULL hypothesis, which implies there is no relation between scholarship and no-shows."
   ]
  },
  {
   "cell_type": "markdown",
   "metadata": {},
   "source": [
    "### PREDICTING WHETHER A PERSON WILL BE SHOWING UP\n",
    "\n",
    "In this section I am going to try and predict the Show-Up/No-Show status based on the features which show the most variation in probability of showing up. They are:\n",
    "\n",
    " 1. Age\n",
    " 2. Diabetes\n",
    " 3. Alchoholism\n",
    " 4. Hypertension\n",
    " 5. Smokes\n",
    " 6. Scholarship\n",
    " 7. Tuberculosis"
   ]
  },
  {
   "cell_type": "code",
   "execution_count": 47,
   "metadata": {},
   "outputs": [
    {
     "name": "stdout",
     "output_type": "stream",
     "text": [
      "<class 'pandas.core.frame.DataFrame'>\n",
      "Int64Index: 110521 entries, 0 to 110526\n",
      "Data columns (total 24 columns):\n",
      "PatientId             110521 non-null float64\n",
      "AppointmentID         110521 non-null int64\n",
      "Gender                110521 non-null object\n",
      "ScheduledDay          110521 non-null datetime64[ns]\n",
      "AppointmentDay        110521 non-null datetime64[ns]\n",
      "Age                   110521 non-null int64\n",
      "Neighbourhood         110521 non-null int64\n",
      "Scholarship           110521 non-null int64\n",
      "HyperTension          110521 non-null int64\n",
      "Diabetes              110521 non-null int64\n",
      "Alcoholism            110521 non-null int64\n",
      "HandiCap              110521 non-null int64\n",
      "SMS_received          110521 non-null int64\n",
      "no_show               110521 non-null int64\n",
      "WaitTime              110521 non-null int64\n",
      "waiting_time_range    110521 non-null int64\n",
      "no_of_noshows         110521 non-null int64\n",
      "total_appointment     110521 non-null int64\n",
      "risk_score            110521 non-null float64\n",
      "num_gender            110521 non-null int64\n",
      "age_bucket            110521 non-null object\n",
      "month                 110521 non-null int64\n",
      "day                   110521 non-null object\n",
      "numday                110521 non-null int64\n",
      "dtypes: datetime64[ns](2), float64(2), int64(17), object(3)\n",
      "memory usage: 26.1+ MB\n"
     ]
    }
   ],
   "source": [
    "no_show.info()"
   ]
  },
  {
   "cell_type": "code",
   "execution_count": 48,
   "metadata": {},
   "outputs": [
    {
     "name": "stdout",
     "output_type": "stream",
     "text": [
      "LabelEncoder Completed\n"
     ]
    }
   ],
   "source": [
    "le = preprocessing.LabelEncoder()\n",
    "no_show['Neighbourhood'] = le.fit_transform(no_show['Neighbourhood'])\n",
    "print(\"LabelEncoder Completed\")"
   ]
  },
  {
   "cell_type": "code",
   "execution_count": 49,
   "metadata": {
    "scrolled": true
   },
   "outputs": [],
   "source": [
    "no_show.drop(['PatientId', 'AppointmentDay','ScheduledDay','AppointmentID','day','numday','age_bucket','Gender','waiting_time_range'], axis=1, inplace=True)"
   ]
  },
  {
   "cell_type": "code",
   "execution_count": 50,
   "metadata": {},
   "outputs": [
    {
     "data": {
      "text/html": [
       "<div>\n",
       "<style scoped>\n",
       "    .dataframe tbody tr th:only-of-type {\n",
       "        vertical-align: middle;\n",
       "    }\n",
       "\n",
       "    .dataframe tbody tr th {\n",
       "        vertical-align: top;\n",
       "    }\n",
       "\n",
       "    .dataframe thead th {\n",
       "        text-align: right;\n",
       "    }\n",
       "</style>\n",
       "<table border=\"1\" class=\"dataframe\">\n",
       "  <thead>\n",
       "    <tr style=\"text-align: right;\">\n",
       "      <th></th>\n",
       "      <th>Age</th>\n",
       "      <th>Neighbourhood</th>\n",
       "      <th>Scholarship</th>\n",
       "      <th>HyperTension</th>\n",
       "      <th>Diabetes</th>\n",
       "      <th>Alcoholism</th>\n",
       "      <th>HandiCap</th>\n",
       "      <th>SMS_received</th>\n",
       "      <th>no_show</th>\n",
       "      <th>WaitTime</th>\n",
       "      <th>no_of_noshows</th>\n",
       "      <th>total_appointment</th>\n",
       "      <th>risk_score</th>\n",
       "      <th>num_gender</th>\n",
       "      <th>month</th>\n",
       "    </tr>\n",
       "  </thead>\n",
       "  <tbody>\n",
       "    <tr>\n",
       "      <th>0</th>\n",
       "      <td>62</td>\n",
       "      <td>39</td>\n",
       "      <td>0</td>\n",
       "      <td>1</td>\n",
       "      <td>0</td>\n",
       "      <td>0</td>\n",
       "      <td>0</td>\n",
       "      <td>0</td>\n",
       "      <td>1</td>\n",
       "      <td>0</td>\n",
       "      <td>2</td>\n",
       "      <td>2</td>\n",
       "      <td>1.0</td>\n",
       "      <td>0</td>\n",
       "      <td>4</td>\n",
       "    </tr>\n",
       "    <tr>\n",
       "      <th>1</th>\n",
       "      <td>56</td>\n",
       "      <td>39</td>\n",
       "      <td>0</td>\n",
       "      <td>0</td>\n",
       "      <td>0</td>\n",
       "      <td>0</td>\n",
       "      <td>0</td>\n",
       "      <td>0</td>\n",
       "      <td>1</td>\n",
       "      <td>0</td>\n",
       "      <td>2</td>\n",
       "      <td>2</td>\n",
       "      <td>1.0</td>\n",
       "      <td>1</td>\n",
       "      <td>4</td>\n",
       "    </tr>\n",
       "    <tr>\n",
       "      <th>2</th>\n",
       "      <td>62</td>\n",
       "      <td>45</td>\n",
       "      <td>0</td>\n",
       "      <td>0</td>\n",
       "      <td>0</td>\n",
       "      <td>0</td>\n",
       "      <td>0</td>\n",
       "      <td>0</td>\n",
       "      <td>1</td>\n",
       "      <td>0</td>\n",
       "      <td>2</td>\n",
       "      <td>2</td>\n",
       "      <td>1.0</td>\n",
       "      <td>0</td>\n",
       "      <td>4</td>\n",
       "    </tr>\n",
       "    <tr>\n",
       "      <th>3</th>\n",
       "      <td>8</td>\n",
       "      <td>54</td>\n",
       "      <td>0</td>\n",
       "      <td>0</td>\n",
       "      <td>0</td>\n",
       "      <td>0</td>\n",
       "      <td>0</td>\n",
       "      <td>0</td>\n",
       "      <td>1</td>\n",
       "      <td>0</td>\n",
       "      <td>1</td>\n",
       "      <td>2</td>\n",
       "      <td>0.5</td>\n",
       "      <td>0</td>\n",
       "      <td>4</td>\n",
       "    </tr>\n",
       "    <tr>\n",
       "      <th>4</th>\n",
       "      <td>56</td>\n",
       "      <td>39</td>\n",
       "      <td>0</td>\n",
       "      <td>1</td>\n",
       "      <td>1</td>\n",
       "      <td>0</td>\n",
       "      <td>0</td>\n",
       "      <td>0</td>\n",
       "      <td>1</td>\n",
       "      <td>0</td>\n",
       "      <td>1</td>\n",
       "      <td>1</td>\n",
       "      <td>1.0</td>\n",
       "      <td>0</td>\n",
       "      <td>4</td>\n",
       "    </tr>\n",
       "  </tbody>\n",
       "</table>\n",
       "</div>"
      ],
      "text/plain": [
       "   Age  Neighbourhood  Scholarship  HyperTension  Diabetes  Alcoholism  \\\n",
       "0   62             39            0             1         0           0   \n",
       "1   56             39            0             0         0           0   \n",
       "2   62             45            0             0         0           0   \n",
       "3    8             54            0             0         0           0   \n",
       "4   56             39            0             1         1           0   \n",
       "\n",
       "   HandiCap  SMS_received  no_show  WaitTime  no_of_noshows  \\\n",
       "0         0             0        1         0              2   \n",
       "1         0             0        1         0              2   \n",
       "2         0             0        1         0              2   \n",
       "3         0             0        1         0              1   \n",
       "4         0             0        1         0              1   \n",
       "\n",
       "   total_appointment  risk_score  num_gender  month  \n",
       "0                  2         1.0           0      4  \n",
       "1                  2         1.0           1      4  \n",
       "2                  2         1.0           0      4  \n",
       "3                  2         0.5           0      4  \n",
       "4                  1         1.0           0      4  "
      ]
     },
     "execution_count": 50,
     "metadata": {},
     "output_type": "execute_result"
    }
   ],
   "source": [
    "no_show.head()"
   ]
  },
  {
   "cell_type": "code",
   "execution_count": 51,
   "metadata": {},
   "outputs": [],
   "source": [
    "# Get the Dependent and Independent Features.\n",
    "X = no_show.drop(['no_show'], axis=1)\n",
    "y = no_show['no_show']"
   ]
  },
  {
   "cell_type": "code",
   "execution_count": 52,
   "metadata": {},
   "outputs": [],
   "source": [
    "X_train, X_test, y_train, y_test = train_test_split(X, y, test_size=0.33, random_state=0)"
   ]
  },
  {
   "cell_type": "code",
   "execution_count": 53,
   "metadata": {},
   "outputs": [
    {
     "name": "stdout",
     "output_type": "stream",
     "text": [
      "(74049, 14)\n",
      "(36472, 14)\n",
      "(74049,)\n",
      "(36472,)\n"
     ]
    }
   ],
   "source": [
    "# printing the shapes of the new X objects\n",
    "print(X_train.shape)\n",
    "print(X_test.shape)\n",
    " \n",
    "# printing the shapes of the new y objects\n",
    "print(y_train.shape)\n",
    "print(y_test.shape)\n",
    "\n"
   ]
  },
  {
   "cell_type": "markdown",
   "metadata": {},
   "source": [
    "### Random Hyperparameter Grid"
   ]
  },
  {
   "cell_type": "code",
   "execution_count": 54,
   "metadata": {},
   "outputs": [
    {
     "name": "stdout",
     "output_type": "stream",
     "text": [
      "{'n_estimators': [200, 400, 600, 800, 1000, 1200, 1400, 1600, 1800, 2000], 'max_features': ['auto', 'sqrt'], 'max_depth': [10, 20, 30, 40, 50, 60, 70, 80, 90, 100, 110, None], 'min_samples_split': [2, 5, 10], 'min_samples_leaf': [1, 2, 4], 'bootstrap': [True, False]}\n"
     ]
    }
   ],
   "source": [
    "# Number of trees in random forest\n",
    "n_estimators = [int(x) for x in np.linspace(start = 200, stop = 2000, num = 10)]\n",
    "# Number of features to consider at every split\n",
    "max_features = ['auto', 'sqrt']\n",
    "# Maximum number of levels in tree\n",
    "max_depth = [int(x) for x in np.linspace(10, 110, num = 11)]\n",
    "max_depth.append(None)\n",
    "# Minimum number of samples required to split a node\n",
    "min_samples_split = [2, 5, 10]\n",
    "# Minimum number of samples required at each leaf node\n",
    "min_samples_leaf = [1, 2, 4]\n",
    "# Method of selecting samples for training each tree\n",
    "bootstrap = [True, False]\n",
    "# Create the random grid\n",
    "random_grid = {'n_estimators': n_estimators,\n",
    "               'max_features': max_features,\n",
    "               'max_depth': max_depth,\n",
    "               'min_samples_split': min_samples_split,\n",
    "               'min_samples_leaf': min_samples_leaf,\n",
    "               'bootstrap': bootstrap}\n",
    "print(random_grid)"
   ]
  },
  {
   "cell_type": "code",
   "execution_count": 63,
   "metadata": {},
   "outputs": [
    {
     "name": "stdout",
     "output_type": "stream",
     "text": [
      "Fitting 3 folds for each of 50 candidates, totalling 150 fits\n"
     ]
    },
    {
     "name": "stderr",
     "output_type": "stream",
     "text": [
      "[Parallel(n_jobs=-1)]: Done  33 tasks      | elapsed: 15.8min\n",
      "[Parallel(n_jobs=-1)]: Done 150 out of 150 | elapsed: 73.7min finished\n"
     ]
    },
    {
     "data": {
      "text/plain": [
       "RandomizedSearchCV(cv=3, error_score='raise',\n",
       "          estimator=RandomForestClassifier(bootstrap=True, class_weight=None, criterion='gini',\n",
       "            max_depth=None, max_features='auto', max_leaf_nodes=None,\n",
       "            min_impurity_decrease=0.0, min_impurity_split=None,\n",
       "            min_samples_leaf=1, min_samples_split=2,\n",
       "            min_weight_fraction_leaf=0.0, n_estimators=10, n_jobs=1,\n",
       "            oob_score=False, random_state=None, verbose=0,\n",
       "            warm_start=False),\n",
       "          fit_params=None, iid=True, n_iter=50, n_jobs=-1,\n",
       "          param_distributions={'n_estimators': [200, 400, 600, 800, 1000, 1200, 1400, 1600, 1800, 2000], 'max_features': ['auto', 'sqrt'], 'max_depth': [10, 20, 30, 40, 50, 60, 70, 80, 90, 100, 110, None], 'min_samples_split': [2, 5, 10], 'min_samples_leaf': [1, 2, 4], 'bootstrap': [True, False]},\n",
       "          pre_dispatch='2*n_jobs', random_state=42, refit=True,\n",
       "          return_train_score='warn', scoring=None, verbose=2)"
      ]
     },
     "execution_count": 63,
     "metadata": {},
     "output_type": "execute_result"
    }
   ],
   "source": [
    "# Use the random grid to search for best hyperparameters\n",
    "# First create the base model to tune\n",
    "rf = RandomForestClassifier()\n",
    "# Random search of parameters, using 3 fold cross validation, \n",
    "# search across 100 different combinations, and use all available cores\n",
    "rf_random = RandomizedSearchCV(estimator = rf, param_distributions = random_grid, n_iter = 50, cv = 3, verbose=2, random_state=42, n_jobs = -1)\n",
    "# Fit the random search model\n",
    "rf_random.fit(X_train, y_train)"
   ]
  },
  {
   "cell_type": "code",
   "execution_count": 64,
   "metadata": {},
   "outputs": [
    {
     "data": {
      "text/plain": [
       "{'bootstrap': True,\n",
       " 'max_depth': 10,\n",
       " 'max_features': 'sqrt',\n",
       " 'min_samples_leaf': 4,\n",
       " 'min_samples_split': 2,\n",
       " 'n_estimators': 1600}"
      ]
     },
     "execution_count": 64,
     "metadata": {},
     "output_type": "execute_result"
    }
   ],
   "source": [
    "rf_random.best_params_"
   ]
  },
  {
   "cell_type": "code",
   "execution_count": 65,
   "metadata": {},
   "outputs": [
    {
     "name": "stdout",
     "output_type": "stream",
     "text": [
      "Accuracy: 89.66%\n"
     ]
    }
   ],
   "source": [
    "base_model = RandomForestClassifier(random_state = 42)\n",
    "base_model.fit(X_train, y_train)\n",
    "base_pred = base_model.predict(X_test)\n",
    "base_accuracy = accuracy_score(y_test, base_pred)\n",
    "print(\"Accuracy: %.2f%%\" % (base_accuracy * 100.0))"
   ]
  },
  {
   "cell_type": "code",
   "execution_count": 66,
   "metadata": {},
   "outputs": [
    {
     "name": "stdout",
     "output_type": "stream",
     "text": [
      "Accuracy: 91.69%\n"
     ]
    }
   ],
   "source": [
    "best_random_predictions = rf_random.best_estimator_.predict(X_test)\n",
    "best_random_accuracy = accuracy_score(y_test, best_random_predictions)\n",
    "print(\"Accuracy: %.2f%%\" % (best_random_accuracy * 100.0))"
   ]
  },
  {
   "cell_type": "code",
   "execution_count": 69,
   "metadata": {},
   "outputs": [
    {
     "data": {
      "image/png": "[encoded data removed]",
      "text/plain": [
       "<matplotlib.figure.Figure at 0x1a7021ee588>"
      ]
     },
     "metadata": {},
     "output_type": "display_data"
    }
   ],
   "source": [
    "#we can see which are features that influenced the most in prediction \n",
    "feat_importances = pd.Series(base_model.feature_importances_, index=X.columns)\n",
    "feat_importances = feat_importances.nlargest(20)\n",
    "feat_importances.plot(kind='barh')\n",
    "plt.show()"
   ]
  },
  {
   "cell_type": "markdown",
   "metadata": {},
   "source": [
    "We could see that risk score influenced the prediction most. (risk score is the most important feature).Also we could see the other important features like waiting_time and age."
   ]
  },
  {
   "cell_type": "markdown",
   "metadata": {},
   "source": [
    "#### Logisttic Regression"
   ]
  },
  {
   "cell_type": "code",
   "execution_count": 59,
   "metadata": {},
   "outputs": [
    {
     "data": {
      "text/plain": [
       "LogisticRegression(C=1.0, class_weight=None, dual=False, fit_intercept=True,\n",
       "          intercept_scaling=1, max_iter=100, multi_class='ovr', n_jobs=1,\n",
       "          penalty='l2', random_state=None, solver='liblinear', tol=0.0001,\n",
       "          verbose=0, warm_start=False)"
      ]
     },
     "execution_count": 59,
     "metadata": {},
     "output_type": "execute_result"
    }
   ],
   "source": [
    " # fit_logistic\n",
    "\n",
    "logit = LogisticRegression()\n",
    "logit.fit(X_train, y_train) \n"
   ]
  },
  {
   "cell_type": "code",
   "execution_count": 60,
   "metadata": {},
   "outputs": [
    {
     "name": "stdout",
     "output_type": "stream",
     "text": [
      "Accuracy: 91.01%\n"
     ]
    }
   ],
   "source": [
    "pred = logit.predict(X_test)\n",
    "logit_accuracy = accuracy_score(y_test, pred)\n",
    "print(\"Accuracy: %.2f%%\" % (logit_accuracy * 100.0))"
   ]
  },
  {
   "cell_type": "code",
   "execution_count": 61,
   "metadata": {},
   "outputs": [
    {
     "data": {
      "text/plain": [
       "0.9101228339548146"
      ]
     },
     "execution_count": 61,
     "metadata": {},
     "output_type": "execute_result"
    }
   ],
   "source": [
    "logit.score(X_test, y_test)"
   ]
  },
  {
   "cell_type": "code",
   "execution_count": 62,
   "metadata": {},
   "outputs": [
    {
     "data": {
      "text/plain": [
       "0.8336825852393459"
      ]
     },
     "execution_count": 62,
     "metadata": {},
     "output_type": "execute_result"
    }
   ],
   "source": [
    "roc_auc_score(y_test, pred)"
   ]
  },
  {
   "cell_type": "markdown",
   "metadata": {},
   "source": [
    "### Neural Network Classifier"
   ]
  },
  {
   "cell_type": "code",
   "execution_count": 55,
   "metadata": {},
   "outputs": [
    {
     "data": {
      "text/plain": [
       "MLPClassifier(activation='relu', alpha=0.0001, batch_size='auto', beta_1=0.9,\n",
       "       beta_2=0.999, early_stopping=False, epsilon=1e-08,\n",
       "       hidden_layer_sizes=(100, 100, 100), learning_rate='constant',\n",
       "       learning_rate_init=0.001, max_iter=200, momentum=0.9,\n",
       "       nesterovs_momentum=True, power_t=0.5, random_state=None,\n",
       "       shuffle=True, solver='adam', tol=0.0001, validation_fraction=0.1,\n",
       "       verbose=False, warm_start=False)"
      ]
     },
     "execution_count": 55,
     "metadata": {},
     "output_type": "execute_result"
    }
   ],
   "source": [
    "mlp = MLPClassifier(hidden_layer_sizes=(100,100,100))\n",
    "mlp.fit(X_train,y_train)"
   ]
  },
  {
   "cell_type": "code",
   "execution_count": 56,
   "metadata": {},
   "outputs": [],
   "source": [
    "predictions = mlp.predict(X_test)"
   ]
  },
  {
   "cell_type": "code",
   "execution_count": 57,
   "metadata": {},
   "outputs": [
    {
     "name": "stdout",
     "output_type": "stream",
     "text": [
      "[[ 5836  1494]\n",
      " [ 1523 27619]]\n"
     ]
    }
   ],
   "source": [
    "print(confusion_matrix(y_test,predictions))"
   ]
  },
  {
   "cell_type": "code",
   "execution_count": 58,
   "metadata": {},
   "outputs": [
    {
     "name": "stdout",
     "output_type": "stream",
     "text": [
      "             precision    recall  f1-score   support\n",
      "\n",
      "          0       0.79      0.80      0.79      7330\n",
      "          1       0.95      0.95      0.95     29142\n",
      "\n",
      "avg / total       0.92      0.92      0.92     36472\n",
      "\n"
     ]
    }
   ],
   "source": [
    "print(classification_report(y_test,predictions))"
   ]
  }
 ],
 "metadata": {
  "kernelspec": {
   "display_name": "Python 3",
   "language": "python",
   "name": "python3"
  },
  "language_info": {
   "codemirror_mode": {
    "name": "ipython",
    "version": 3
   },
   "file_extension": ".py",
   "mimetype": "text/x-python",
   "name": "python",
   "nbconvert_exporter": "python",
   "pygments_lexer": "ipython3",
   "version": "3.6.4"
  }
 },
 "nbformat": 4,
 "nbformat_minor": 2
}
